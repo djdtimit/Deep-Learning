{
  "nbformat": 4,
  "nbformat_minor": 0,
  "metadata": {
    "colab": {
      "name": "Exercise 5 - Answer.ipynb",
      "provenance": [],
      "collapsed_sections": [],
      "include_colab_link": true
    },
    "kernelspec": {
      "name": "python3",
      "display_name": "Python 3"
    },
    "accelerator": "GPU"
  },
  "cells": [
    {
      "cell_type": "markdown",
      "metadata": {
        "id": "view-in-github",
        "colab_type": "text"
      },
      "source": [
        "<a href=\"https://colab.research.google.com/github/djdtimit/Deep-Learning/blob/master/Introduction%20to%20TensorFlow%20for%20Artificial%20Intelligence%2C%20Machine%20Learning%2C%20and%20Deep%20Learning/Exercise_5_Answer.ipynb\" target=\"_parent\"><img src=\"https://colab.research.google.com/assets/colab-badge.svg\" alt=\"Open In Colab\"/></a>"
      ]
    },
    {
      "cell_type": "code",
      "metadata": {
        "id": "dn-6c02VmqiN",
        "colab_type": "code",
        "outputId": "8dad3868-9607-4592-9ef1-d6a23c6f9e41",
        "colab": {
          "base_uri": "https://localhost:8080/",
          "height": 63
        }
      },
      "source": [
        "import os\n",
        "import zipfile\n",
        "import random\n",
        "import tensorflow as tf\n",
        "from tensorflow.keras.optimizers import RMSprop\n",
        "from tensorflow.keras.preprocessing.image import ImageDataGenerator\n",
        "from shutil import copyfile"
      ],
      "execution_count": 1,
      "outputs": [
        {
          "output_type": "display_data",
          "data": {
            "text/html": [
              "<p style=\"color: red;\">\n",
              "The default version of TensorFlow in Colab will soon switch to TensorFlow 2.x.<br>\n",
              "We recommend you <a href=\"https://www.tensorflow.org/guide/migrate\" target=\"_blank\">upgrade</a> now \n",
              "or ensure your notebook will continue to use TensorFlow 1.x via the <code>%tensorflow_version 1.x</code> magic:\n",
              "<a href=\"https://colab.research.google.com/notebooks/tensorflow_version.ipynb\" target=\"_blank\">more info</a>.</p>\n"
            ],
            "text/plain": [
              "<IPython.core.display.HTML object>"
            ]
          },
          "metadata": {
            "tags": []
          }
        }
      ]
    },
    {
      "cell_type": "code",
      "metadata": {
        "id": "3sd9dQWa23aj",
        "colab_type": "code",
        "outputId": "c86e8521-20e5-4af3-9dc2-d75c18a04844",
        "colab": {
          "base_uri": "https://localhost:8080/",
          "height": 204
        }
      },
      "source": [
        "# If the URL doesn't work, visit https://www.microsoft.com/en-us/download/confirmation.aspx?id=54765\n",
        "# And right click on the 'Download Manually' link to get a new URL to the dataset\n",
        "\n",
        "# Note: This is a very large dataset and will take time to download\n",
        "\n",
        "!wget --no-check-certificate \\\n",
        "    \"https://download.microsoft.com/download/3/E/1/3E1C3F21-ECDB-4869-8368-6DEBA77B919F/kagglecatsanddogs_3367a.zip\" \\\n",
        "    -O \"/tmp/cats-and-dogs.zip\"\n",
        "\n",
        "local_zip = '/tmp/cats-and-dogs.zip'\n",
        "zip_ref   = zipfile.ZipFile(local_zip, 'r')\n",
        "zip_ref.extractall('/tmp')\n",
        "zip_ref.close()\n"
      ],
      "execution_count": 2,
      "outputs": [
        {
          "output_type": "stream",
          "text": [
            "--2019-12-22 10:46:21--  https://download.microsoft.com/download/3/E/1/3E1C3F21-ECDB-4869-8368-6DEBA77B919F/kagglecatsanddogs_3367a.zip\n",
            "Resolving download.microsoft.com (download.microsoft.com)... 23.66.104.142, 2600:1417:3f:8a0::e59, 2600:1417:3f:898::e59\n",
            "Connecting to download.microsoft.com (download.microsoft.com)|23.66.104.142|:443... connected.\n",
            "HTTP request sent, awaiting response... 200 OK\n",
            "Length: 824894548 (787M) [application/octet-stream]\n",
            "Saving to: ‘/tmp/cats-and-dogs.zip’\n",
            "\n",
            "/tmp/cats-and-dogs. 100%[===================>] 786.68M  26.0MB/s    in 37s     \n",
            "\n",
            "2019-12-22 10:47:04 (21.1 MB/s) - ‘/tmp/cats-and-dogs.zip’ saved [824894548/824894548]\n",
            "\n"
          ],
          "name": "stdout"
        }
      ]
    },
    {
      "cell_type": "code",
      "metadata": {
        "id": "DM851ZmN28J3",
        "colab_type": "code",
        "outputId": "ec8acec8-5936-4a01-c4cc-7b09648ac7c6",
        "colab": {
          "base_uri": "https://localhost:8080/",
          "height": 51
        }
      },
      "source": [
        "print(len(os.listdir('/tmp/PetImages/Cat/')))\n",
        "print(len(os.listdir('/tmp/PetImages/Dog/')))\n",
        "\n",
        "# Expected Output:\n",
        "# 12501\n",
        "# 12501"
      ],
      "execution_count": 3,
      "outputs": [
        {
          "output_type": "stream",
          "text": [
            "12501\n",
            "12501\n"
          ],
          "name": "stdout"
        }
      ]
    },
    {
      "cell_type": "code",
      "metadata": {
        "id": "F-QkLjxpmyK2",
        "colab_type": "code",
        "colab": {}
      },
      "source": [
        "try:\n",
        "    os.mkdir('/tmp/cats-v-dogs')\n",
        "    os.mkdir('/tmp/cats-v-dogs/training')\n",
        "    os.mkdir('/tmp/cats-v-dogs/testing')\n",
        "    os.mkdir('/tmp/cats-v-dogs/training/cats')\n",
        "    os.mkdir('/tmp/cats-v-dogs/training/dogs')\n",
        "    os.mkdir('/tmp/cats-v-dogs/testing/cats')\n",
        "    os.mkdir('/tmp/cats-v-dogs/testing/dogs')\n",
        "except OSError:\n",
        "    pass"
      ],
      "execution_count": 0,
      "outputs": []
    },
    {
      "cell_type": "code",
      "metadata": {
        "id": "zvSODo0f9LaU",
        "colab_type": "code",
        "outputId": "c26b9b3e-e4ef-45e9-c4b6-a28e5d475806",
        "colab": {
          "base_uri": "https://localhost:8080/",
          "height": 51
        }
      },
      "source": [
        "def split_data(SOURCE, TRAINING, TESTING, SPLIT_SIZE):\n",
        "    files = []\n",
        "    for filename in os.listdir(SOURCE):\n",
        "        file = SOURCE + filename\n",
        "        if os.path.getsize(file) > 0:\n",
        "            files.append(filename)\n",
        "        else:\n",
        "            print(filename + \" is zero length, so ignoring.\")\n",
        "\n",
        "    training_length = int(len(files) * SPLIT_SIZE)\n",
        "    testing_length = int(len(files) - training_length)\n",
        "    shuffled_set = random.sample(files, len(files))\n",
        "    training_set = shuffled_set[0:training_length]\n",
        "    testing_set = shuffled_set[-testing_length:]\n",
        "\n",
        "    for filename in training_set:\n",
        "        this_file = SOURCE + filename\n",
        "        destination = TRAINING + filename\n",
        "        copyfile(this_file, destination)\n",
        "\n",
        "    for filename in testing_set:\n",
        "        this_file = SOURCE + filename\n",
        "        destination = TESTING + filename\n",
        "        copyfile(this_file, destination)\n",
        "\n",
        "\n",
        "CAT_SOURCE_DIR = \"/tmp/PetImages/Cat/\"\n",
        "TRAINING_CATS_DIR = \"/tmp/cats-v-dogs/training/cats/\"\n",
        "TESTING_CATS_DIR = \"/tmp/cats-v-dogs/testing/cats/\"\n",
        "DOG_SOURCE_DIR = \"/tmp/PetImages/Dog/\"\n",
        "TRAINING_DOGS_DIR = \"/tmp/cats-v-dogs/training/dogs/\"\n",
        "TESTING_DOGS_DIR = \"/tmp/cats-v-dogs/testing/dogs/\"\n",
        "\n",
        "split_size = .9\n",
        "split_data(CAT_SOURCE_DIR, TRAINING_CATS_DIR, TESTING_CATS_DIR, split_size)\n",
        "split_data(DOG_SOURCE_DIR, TRAINING_DOGS_DIR, TESTING_DOGS_DIR, split_size)\n",
        "\n",
        "# Expected output\n",
        "# 666.jpg is zero length, so ignoring\n",
        "# 11702.jpg is zero length, so ignoring"
      ],
      "execution_count": 5,
      "outputs": [
        {
          "output_type": "stream",
          "text": [
            "666.jpg is zero length, so ignoring.\n",
            "11702.jpg is zero length, so ignoring.\n"
          ],
          "name": "stdout"
        }
      ]
    },
    {
      "cell_type": "code",
      "metadata": {
        "id": "hwHXFhVG3786",
        "colab_type": "code",
        "outputId": "06ba1558-76c8-4f7a-8e60-ba68228fa2cf",
        "colab": {
          "base_uri": "https://localhost:8080/",
          "height": 85
        }
      },
      "source": [
        "print(len(os.listdir('/tmp/cats-v-dogs/training/cats/')))\n",
        "print(len(os.listdir('/tmp/cats-v-dogs/training/dogs/')))\n",
        "print(len(os.listdir('/tmp/cats-v-dogs/testing/cats/')))\n",
        "print(len(os.listdir('/tmp/cats-v-dogs/testing/dogs/')))\n",
        "\n",
        "# Expected output:\n",
        "# 11250\n",
        "# 11250\n",
        "# 1250\n",
        "# 1250"
      ],
      "execution_count": 6,
      "outputs": [
        {
          "output_type": "stream",
          "text": [
            "11250\n",
            "11250\n",
            "1250\n",
            "1250\n"
          ],
          "name": "stdout"
        }
      ]
    },
    {
      "cell_type": "code",
      "metadata": {
        "id": "-BQrav4anTmj",
        "colab_type": "code",
        "outputId": "c343ad1c-c676-497e-c7c7-bbb01586f3d3",
        "colab": {
          "base_uri": "https://localhost:8080/",
          "height": 139
        }
      },
      "source": [
        "model = tf.keras.models.Sequential([\n",
        "    tf.keras.layers.Conv2D(16, (3, 3), activation='relu', input_shape=(150, 150, 3)),\n",
        "    tf.keras.layers.MaxPooling2D(2, 2),\n",
        "    tf.keras.layers.Conv2D(32, (3, 3), activation='relu'),\n",
        "    tf.keras.layers.MaxPooling2D(2, 2),\n",
        "    tf.keras.layers.Conv2D(64, (3, 3), activation='relu'),\n",
        "    tf.keras.layers.MaxPooling2D(2, 2),\n",
        "    tf.keras.layers.Flatten(),\n",
        "    tf.keras.layers.Dense(512, activation='relu'),\n",
        "    tf.keras.layers.Dense(1, activation='sigmoid')\n",
        "])\n",
        "\n",
        "model.compile(optimizer=RMSprop(lr=0.001), loss='binary_crossentropy', metrics=['acc'])\n"
      ],
      "execution_count": 7,
      "outputs": [
        {
          "output_type": "stream",
          "text": [
            "WARNING:tensorflow:From /usr/local/lib/python3.6/dist-packages/tensorflow_core/python/ops/resource_variable_ops.py:1630: calling BaseResourceVariable.__init__ (from tensorflow.python.ops.resource_variable_ops) with constraint is deprecated and will be removed in a future version.\n",
            "Instructions for updating:\n",
            "If using Keras pass *_constraint arguments to layers.\n",
            "WARNING:tensorflow:From /usr/local/lib/python3.6/dist-packages/tensorflow_core/python/ops/nn_impl.py:183: where (from tensorflow.python.ops.array_ops) is deprecated and will be removed in a future version.\n",
            "Instructions for updating:\n",
            "Use tf.where in 2.0, which has the same broadcast rule as np.where\n"
          ],
          "name": "stdout"
        }
      ]
    },
    {
      "cell_type": "code",
      "metadata": {
        "id": "fQrZfVgz4j2g",
        "colab_type": "code",
        "outputId": "3e57f4b6-cbc2-4797-ebfe-2214e0eca29e",
        "colab": {
          "base_uri": "https://localhost:8080/",
          "height": 51
        }
      },
      "source": [
        "\n",
        "TRAINING_DIR = \"/tmp/cats-v-dogs/training/\"\n",
        "train_datagen = ImageDataGenerator(rescale=1.0/255.)\n",
        "train_generator = train_datagen.flow_from_directory(TRAINING_DIR,\n",
        "                                                    batch_size=100,\n",
        "                                                    class_mode='binary',\n",
        "                                                    target_size=(150, 150))\n",
        "\n",
        "VALIDATION_DIR = \"/tmp/cats-v-dogs/testing/\"\n",
        "validation_datagen = ImageDataGenerator(rescale=1.0/255.)\n",
        "validation_generator = validation_datagen.flow_from_directory(VALIDATION_DIR,\n",
        "                                                              batch_size=100,\n",
        "                                                              class_mode='binary',\n",
        "                                                              target_size=(150, 150))\n",
        "\n",
        "# Expected Output:\n",
        "# Found 22498 images belonging to 2 classes.\n",
        "# Found 2500 images belonging to 2 classes."
      ],
      "execution_count": 8,
      "outputs": [
        {
          "output_type": "stream",
          "text": [
            "Found 22500 images belonging to 2 classes.\n",
            "Found 2498 images belonging to 2 classes.\n"
          ],
          "name": "stdout"
        }
      ]
    },
    {
      "cell_type": "code",
      "metadata": {
        "id": "5qE1G6JB4fMn",
        "colab_type": "code",
        "outputId": "4299c69b-7a92-4b15-b9ec-7f9394720078",
        "colab": {
          "base_uri": "https://localhost:8080/",
          "height": 1000
        }
      },
      "source": [
        "# Note that this may take some time.\n",
        "history = model.fit_generator(train_generator,\n",
        "                              epochs=50,\n",
        "                              verbose=1,\n",
        "                              validation_data=validation_generator)"
      ],
      "execution_count": 9,
      "outputs": [
        {
          "output_type": "stream",
          "text": [
            "Epoch 1/50\n",
            " 67/225 [=======>......................] - ETA: 55s - loss: 0.8741 - acc: 0.5575"
          ],
          "name": "stdout"
        },
        {
          "output_type": "stream",
          "text": [
            "/usr/local/lib/python3.6/dist-packages/PIL/TiffImagePlugin.py:725: UserWarning: Possibly corrupt EXIF data.  Expecting to read 80000 bytes but only got 0. Skipping tag 64640\n",
            "  \" Skipping tag %s\" % (size, len(data), tag))\n",
            "/usr/local/lib/python3.6/dist-packages/PIL/TiffImagePlugin.py:725: UserWarning: Possibly corrupt EXIF data.  Expecting to read 65536 bytes but only got 0. Skipping tag 3\n",
            "  \" Skipping tag %s\" % (size, len(data), tag))\n",
            "/usr/local/lib/python3.6/dist-packages/PIL/TiffImagePlugin.py:725: UserWarning: Possibly corrupt EXIF data.  Expecting to read 404094976 bytes but only got 0. Skipping tag 5\n",
            "  \" Skipping tag %s\" % (size, len(data), tag))\n",
            "/usr/local/lib/python3.6/dist-packages/PIL/TiffImagePlugin.py:725: UserWarning: Possibly corrupt EXIF data.  Expecting to read 404619264 bytes but only got 0. Skipping tag 5\n",
            "  \" Skipping tag %s\" % (size, len(data), tag))\n",
            "/usr/local/lib/python3.6/dist-packages/PIL/TiffImagePlugin.py:725: UserWarning: Possibly corrupt EXIF data.  Expecting to read 131072 bytes but only got 0. Skipping tag 3\n",
            "  \" Skipping tag %s\" % (size, len(data), tag))\n",
            "/usr/local/lib/python3.6/dist-packages/PIL/TiffImagePlugin.py:725: UserWarning: Possibly corrupt EXIF data.  Expecting to read 425459712 bytes but only got 0. Skipping tag 4\n",
            "  \" Skipping tag %s\" % (size, len(data), tag))\n",
            "/usr/local/lib/python3.6/dist-packages/PIL/TiffImagePlugin.py:725: UserWarning: Possibly corrupt EXIF data.  Expecting to read 1385474 bytes but only got 6833. Skipping tag 513\n",
            "  \" Skipping tag %s\" % (size, len(data), tag))\n",
            "/usr/local/lib/python3.6/dist-packages/PIL/TiffImagePlugin.py:725: UserWarning: Possibly corrupt EXIF data.  Expecting to read 3846701056 bytes but only got 0. Skipping tag 2\n",
            "  \" Skipping tag %s\" % (size, len(data), tag))\n",
            "/usr/local/lib/python3.6/dist-packages/PIL/TiffImagePlugin.py:725: UserWarning: Possibly corrupt EXIF data.  Expecting to read 3300917248 bytes but only got 0. Skipping tag 7\n",
            "  \" Skipping tag %s\" % (size, len(data), tag))\n",
            "/usr/local/lib/python3.6/dist-packages/PIL/TiffImagePlugin.py:725: UserWarning: Possibly corrupt EXIF data.  Expecting to read 196867 bytes but only got 6833. Skipping tag 0\n",
            "  \" Skipping tag %s\" % (size, len(data), tag))\n",
            "/usr/local/lib/python3.6/dist-packages/PIL/TiffImagePlugin.py:742: UserWarning: Corrupt EXIF data.  Expecting to read 12 bytes but only got 8. \n",
            "  warnings.warn(str(msg))\n"
          ],
          "name": "stderr"
        },
        {
          "output_type": "stream",
          "text": [
            " 72/225 [========>.....................] - ETA: 53s - loss: 0.8601 - acc: 0.5612"
          ],
          "name": "stdout"
        },
        {
          "output_type": "stream",
          "text": [
            "/usr/local/lib/python3.6/dist-packages/PIL/TiffImagePlugin.py:725: UserWarning: Possibly corrupt EXIF data.  Expecting to read 18350080 bytes but only got 0. Skipping tag 0\n",
            "  \" Skipping tag %s\" % (size, len(data), tag))\n",
            "/usr/local/lib/python3.6/dist-packages/PIL/TiffImagePlugin.py:742: UserWarning: Corrupt EXIF data.  Expecting to read 12 bytes but only got 6. \n",
            "  warnings.warn(str(msg))\n"
          ],
          "name": "stderr"
        },
        {
          "output_type": "stream",
          "text": [
            "118/225 [==============>...............] - ETA: 34s - loss: 0.7891 - acc: 0.5865"
          ],
          "name": "stdout"
        },
        {
          "output_type": "stream",
          "text": [
            "/usr/local/lib/python3.6/dist-packages/PIL/TiffImagePlugin.py:725: UserWarning: Possibly corrupt EXIF data.  Expecting to read 307363840 bytes but only got 0. Skipping tag 5\n",
            "  \" Skipping tag %s\" % (size, len(data), tag))\n",
            "/usr/local/lib/python3.6/dist-packages/PIL/TiffImagePlugin.py:725: UserWarning: Possibly corrupt EXIF data.  Expecting to read 307888128 bytes but only got 0. Skipping tag 5\n",
            "  \" Skipping tag %s\" % (size, len(data), tag))\n",
            "/usr/local/lib/python3.6/dist-packages/PIL/TiffImagePlugin.py:725: UserWarning: Possibly corrupt EXIF data.  Expecting to read 328728576 bytes but only got 0. Skipping tag 4\n",
            "  \" Skipping tag %s\" % (size, len(data), tag))\n",
            "/usr/local/lib/python3.6/dist-packages/PIL/TiffImagePlugin.py:725: UserWarning: Possibly corrupt EXIF data.  Expecting to read 1385474 bytes but only got 5357. Skipping tag 513\n",
            "  \" Skipping tag %s\" % (size, len(data), tag))\n",
            "/usr/local/lib/python3.6/dist-packages/PIL/TiffImagePlugin.py:725: UserWarning: Possibly corrupt EXIF data.  Expecting to read 196867 bytes but only got 5357. Skipping tag 0\n",
            "  \" Skipping tag %s\" % (size, len(data), tag))\n"
          ],
          "name": "stderr"
        },
        {
          "output_type": "stream",
          "text": [
            "123/225 [===============>..............] - ETA: 32s - loss: 0.7823 - acc: 0.5898"
          ],
          "name": "stdout"
        },
        {
          "output_type": "stream",
          "text": [
            "/usr/local/lib/python3.6/dist-packages/PIL/TiffImagePlugin.py:725: UserWarning: Possibly corrupt EXIF data.  Expecting to read 32 bytes but only got 0. Skipping tag 270\n",
            "  \" Skipping tag %s\" % (size, len(data), tag))\n",
            "/usr/local/lib/python3.6/dist-packages/PIL/TiffImagePlugin.py:725: UserWarning: Possibly corrupt EXIF data.  Expecting to read 5 bytes but only got 0. Skipping tag 271\n",
            "  \" Skipping tag %s\" % (size, len(data), tag))\n",
            "/usr/local/lib/python3.6/dist-packages/PIL/TiffImagePlugin.py:725: UserWarning: Possibly corrupt EXIF data.  Expecting to read 8 bytes but only got 0. Skipping tag 272\n",
            "  \" Skipping tag %s\" % (size, len(data), tag))\n",
            "/usr/local/lib/python3.6/dist-packages/PIL/TiffImagePlugin.py:725: UserWarning: Possibly corrupt EXIF data.  Expecting to read 8 bytes but only got 0. Skipping tag 282\n",
            "  \" Skipping tag %s\" % (size, len(data), tag))\n",
            "/usr/local/lib/python3.6/dist-packages/PIL/TiffImagePlugin.py:725: UserWarning: Possibly corrupt EXIF data.  Expecting to read 8 bytes but only got 0. Skipping tag 283\n",
            "  \" Skipping tag %s\" % (size, len(data), tag))\n",
            "/usr/local/lib/python3.6/dist-packages/PIL/TiffImagePlugin.py:725: UserWarning: Possibly corrupt EXIF data.  Expecting to read 20 bytes but only got 0. Skipping tag 306\n",
            "  \" Skipping tag %s\" % (size, len(data), tag))\n",
            "/usr/local/lib/python3.6/dist-packages/PIL/TiffImagePlugin.py:725: UserWarning: Possibly corrupt EXIF data.  Expecting to read 48 bytes but only got 0. Skipping tag 532\n",
            "  \" Skipping tag %s\" % (size, len(data), tag))\n",
            "/usr/local/lib/python3.6/dist-packages/PIL/TiffImagePlugin.py:742: UserWarning: Corrupt EXIF data.  Expecting to read 2 bytes but only got 0. \n",
            "  warnings.warn(str(msg))\n"
          ],
          "name": "stderr"
        },
        {
          "output_type": "stream",
          "text": [
            "170/225 [=====================>........] - ETA: 17s - loss: 0.7392 - acc: 0.6109"
          ],
          "name": "stdout"
        },
        {
          "output_type": "stream",
          "text": [
            "/usr/local/lib/python3.6/dist-packages/PIL/TiffImagePlugin.py:725: UserWarning: Possibly corrupt EXIF data.  Expecting to read 6553600 bytes but only got 0. Skipping tag 49\n",
            "  \" Skipping tag %s\" % (size, len(data), tag))\n",
            "/usr/local/lib/python3.6/dist-packages/PIL/TiffImagePlugin.py:725: UserWarning: Possibly corrupt EXIF data.  Expecting to read 1050744 bytes but only got 4951. Skipping tag 51\n",
            "  \" Skipping tag %s\" % (size, len(data), tag))\n",
            "/usr/local/lib/python3.6/dist-packages/PIL/TiffImagePlugin.py:725: UserWarning: Possibly corrupt EXIF data.  Expecting to read 293339136 bytes but only got 0. Skipping tag 5\n",
            "  \" Skipping tag %s\" % (size, len(data), tag))\n",
            "/usr/local/lib/python3.6/dist-packages/PIL/TiffImagePlugin.py:725: UserWarning: Possibly corrupt EXIF data.  Expecting to read 293863424 bytes but only got 0. Skipping tag 5\n",
            "  \" Skipping tag %s\" % (size, len(data), tag))\n",
            "/usr/local/lib/python3.6/dist-packages/PIL/TiffImagePlugin.py:725: UserWarning: Possibly corrupt EXIF data.  Expecting to read 3368026112 bytes but only got 0. Skipping tag 7\n",
            "  \" Skipping tag %s\" % (size, len(data), tag))\n",
            "/usr/local/lib/python3.6/dist-packages/PIL/TiffImagePlugin.py:725: UserWarning: Possibly corrupt EXIF data.  Expecting to read 134479872 bytes but only got 0. Skipping tag 7\n",
            "  \" Skipping tag %s\" % (size, len(data), tag))\n",
            "/usr/local/lib/python3.6/dist-packages/PIL/TiffImagePlugin.py:725: UserWarning: Possibly corrupt EXIF data.  Expecting to read 295698432 bytes but only got 0. Skipping tag 10\n",
            "  \" Skipping tag %s\" % (size, len(data), tag))\n",
            "/usr/local/lib/python3.6/dist-packages/PIL/TiffImagePlugin.py:725: UserWarning: Possibly corrupt EXIF data.  Expecting to read 296222720 bytes but only got 0. Skipping tag 5\n",
            "  \" Skipping tag %s\" % (size, len(data), tag))\n",
            "/usr/local/lib/python3.6/dist-packages/PIL/TiffImagePlugin.py:725: UserWarning: Possibly corrupt EXIF data.  Expecting to read 14745600 bytes but only got 0. Skipping tag 4\n",
            "  \" Skipping tag %s\" % (size, len(data), tag))\n",
            "/usr/local/lib/python3.6/dist-packages/PIL/TiffImagePlugin.py:725: UserWarning: Possibly corrupt EXIF data.  Expecting to read 25624576 bytes but only got 0. Skipping tag 4\n",
            "  \" Skipping tag %s\" % (size, len(data), tag))\n",
            "/usr/local/lib/python3.6/dist-packages/PIL/TiffImagePlugin.py:725: UserWarning: Possibly corrupt EXIF data.  Expecting to read 317718528 bytes but only got 4956. Skipping tag 4\n",
            "  \" Skipping tag %s\" % (size, len(data), tag))\n",
            "/usr/local/lib/python3.6/dist-packages/PIL/TiffImagePlugin.py:725: UserWarning: Possibly corrupt EXIF data.  Expecting to read 131073 bytes but only got 4952. Skipping tag 0\n",
            "  \" Skipping tag %s\" % (size, len(data), tag))\n",
            "/usr/local/lib/python3.6/dist-packages/PIL/TiffImagePlugin.py:725: UserWarning: Possibly corrupt EXIF data.  Expecting to read 393216 bytes but only got 0. Skipping tag 3\n",
            "  \" Skipping tag %s\" % (size, len(data), tag))\n",
            "/usr/local/lib/python3.6/dist-packages/PIL/TiffImagePlugin.py:725: UserWarning: Possibly corrupt EXIF data.  Expecting to read 287178752 bytes but only got 0. Skipping tag 5\n",
            "  \" Skipping tag %s\" % (size, len(data), tag))\n",
            "/usr/local/lib/python3.6/dist-packages/PIL/TiffImagePlugin.py:725: UserWarning: Possibly corrupt EXIF data.  Expecting to read 287703040 bytes but only got 0. Skipping tag 5\n",
            "  \" Skipping tag %s\" % (size, len(data), tag))\n",
            "/usr/local/lib/python3.6/dist-packages/PIL/TiffImagePlugin.py:725: UserWarning: Possibly corrupt EXIF data.  Expecting to read 524288 bytes but only got 0. Skipping tag 4\n",
            "  \" Skipping tag %s\" % (size, len(data), tag))\n",
            "/usr/local/lib/python3.6/dist-packages/PIL/TiffImagePlugin.py:725: UserWarning: Possibly corrupt EXIF data.  Expecting to read 286654464 bytes but only got 4956. Skipping tag 4\n",
            "  \" Skipping tag %s\" % (size, len(data), tag))\n",
            "/usr/local/lib/python3.6/dist-packages/PIL/TiffImagePlugin.py:742: UserWarning: Corrupt EXIF data.  Expecting to read 12 bytes but only got 2. \n",
            "  warnings.warn(str(msg))\n"
          ],
          "name": "stderr"
        },
        {
          "output_type": "stream",
          "text": [
            "224/225 [============================>.] - ETA: 0s - loss: 0.7015 - acc: 0.6302Epoch 1/50\n",
            "  3/225 [..............................] - ETA: 1:44 - loss: 0.6277 - acc: 0.6233"
          ],
          "name": "stdout"
        },
        {
          "output_type": "stream",
          "text": [
            "/usr/local/lib/python3.6/dist-packages/PIL/TiffImagePlugin.py:725: UserWarning: Possibly corrupt EXIF data.  Expecting to read 209715200 bytes but only got 0. Skipping tag 48\n",
            "  \" Skipping tag %s\" % (size, len(data), tag))\n",
            "/usr/local/lib/python3.6/dist-packages/PIL/TiffImagePlugin.py:725: UserWarning: Possibly corrupt EXIF data.  Expecting to read 52428800 bytes but only got 0. Skipping tag 0\n",
            "  \" Skipping tag %s\" % (size, len(data), tag))\n",
            "/usr/local/lib/python3.6/dist-packages/PIL/TiffImagePlugin.py:725: UserWarning: Possibly corrupt EXIF data.  Expecting to read 6468665344 bytes but only got 0. Skipping tag 0\n",
            "  \" Skipping tag %s\" % (size, len(data), tag))\n",
            "/usr/local/lib/python3.6/dist-packages/PIL/TiffImagePlugin.py:725: UserWarning: Possibly corrupt EXIF data.  Expecting to read 1050744 bytes but only got 7027. Skipping tag 48\n",
            "  \" Skipping tag %s\" % (size, len(data), tag))\n",
            "/usr/local/lib/python3.6/dist-packages/PIL/TiffImagePlugin.py:725: UserWarning: Possibly corrupt EXIF data.  Expecting to read 422313984 bytes but only got 0. Skipping tag 5\n",
            "  \" Skipping tag %s\" % (size, len(data), tag))\n",
            "/usr/local/lib/python3.6/dist-packages/PIL/TiffImagePlugin.py:725: UserWarning: Possibly corrupt EXIF data.  Expecting to read 422838272 bytes but only got 0. Skipping tag 5\n",
            "  \" Skipping tag %s\" % (size, len(data), tag))\n",
            "/usr/local/lib/python3.6/dist-packages/PIL/TiffImagePlugin.py:725: UserWarning: Possibly corrupt EXIF data.  Expecting to read 428867584 bytes but only got 0. Skipping tag 10\n",
            "  \" Skipping tag %s\" % (size, len(data), tag))\n",
            "/usr/local/lib/python3.6/dist-packages/PIL/TiffImagePlugin.py:725: UserWarning: Possibly corrupt EXIF data.  Expecting to read 429391872 bytes but only got 0. Skipping tag 5\n",
            "  \" Skipping tag %s\" % (size, len(data), tag))\n",
            "/usr/local/lib/python3.6/dist-packages/PIL/TiffImagePlugin.py:725: UserWarning: Possibly corrupt EXIF data.  Expecting to read 2031616 bytes but only got 0. Skipping tag 3\n",
            "  \" Skipping tag %s\" % (size, len(data), tag))\n",
            "/usr/local/lib/python3.6/dist-packages/PIL/TiffImagePlugin.py:725: UserWarning: Possibly corrupt EXIF data.  Expecting to read 429916160 bytes but only got 0. Skipping tag 5\n",
            "  \" Skipping tag %s\" % (size, len(data), tag))\n",
            "/usr/local/lib/python3.6/dist-packages/PIL/TiffImagePlugin.py:725: UserWarning: Possibly corrupt EXIF data.  Expecting to read 21299200 bytes but only got 0. Skipping tag 4\n",
            "  \" Skipping tag %s\" % (size, len(data), tag))\n",
            "/usr/local/lib/python3.6/dist-packages/PIL/TiffImagePlugin.py:725: UserWarning: Possibly corrupt EXIF data.  Expecting to read 24313856 bytes but only got 0. Skipping tag 4\n",
            "  \" Skipping tag %s\" % (size, len(data), tag))\n",
            "/usr/local/lib/python3.6/dist-packages/PIL/TiffImagePlugin.py:725: UserWarning: Possibly corrupt EXIF data.  Expecting to read 453771264 bytes but only got 7032. Skipping tag 4\n",
            "  \" Skipping tag %s\" % (size, len(data), tag))\n",
            "/usr/local/lib/python3.6/dist-packages/PIL/TiffImagePlugin.py:725: UserWarning: Possibly corrupt EXIF data.  Expecting to read 131073 bytes but only got 7028. Skipping tag 0\n",
            "  \" Skipping tag %s\" % (size, len(data), tag))\n",
            "/usr/local/lib/python3.6/dist-packages/PIL/TiffImagePlugin.py:725: UserWarning: Possibly corrupt EXIF data.  Expecting to read 416415744 bytes but only got 0. Skipping tag 5\n",
            "  \" Skipping tag %s\" % (size, len(data), tag))\n",
            "/usr/local/lib/python3.6/dist-packages/PIL/TiffImagePlugin.py:725: UserWarning: Possibly corrupt EXIF data.  Expecting to read 416940032 bytes but only got 0. Skipping tag 5\n",
            "  \" Skipping tag %s\" % (size, len(data), tag))\n",
            "/usr/local/lib/python3.6/dist-packages/PIL/TiffImagePlugin.py:725: UserWarning: Possibly corrupt EXIF data.  Expecting to read 415825920 bytes but only got 7032. Skipping tag 4\n",
            "  \" Skipping tag %s\" % (size, len(data), tag))\n"
          ],
          "name": "stderr"
        },
        {
          "output_type": "stream",
          "text": [
            "\b\b\b\b\b\b\b\b\b\b\b\b\b\b\b\b\b\b\b\b\b\b\b\b\b\b\b\b\b\b\b\b\b\b\b\b\b\b\b\b\b\b\b\b\b\b\b\b\b\b\b\b\b\b\b\b\b\b\b\b\b\b\b\b\b\b\b\b\b\b\b\b\b\b\b\b\b\b\b\b\b\r  4/225 [..............................] - ETA: 1:43 - loss: 0.6299 - acc: 0.6350"
          ],
          "name": "stdout"
        },
        {
          "output_type": "stream",
          "text": [
            "/usr/local/lib/python3.6/dist-packages/PIL/TiffImagePlugin.py:725: UserWarning: Possibly corrupt EXIF data.  Expecting to read 262146 bytes but only got 0. Skipping tag 2\n",
            "  \" Skipping tag %s\" % (size, len(data), tag))\n",
            "/usr/local/lib/python3.6/dist-packages/PIL/TiffImagePlugin.py:725: UserWarning: Possibly corrupt EXIF data.  Expecting to read 262151 bytes but only got 0. Skipping tag 56\n",
            "  \" Skipping tag %s\" % (size, len(data), tag))\n",
            "/usr/local/lib/python3.6/dist-packages/PIL/TiffImagePlugin.py:742: UserWarning: Corrupt EXIF data.  Expecting to read 12 bytes but only got 0. \n",
            "  warnings.warn(str(msg))\n"
          ],
          "name": "stderr"
        },
        {
          "output_type": "stream",
          "text": [
            "225/225 [==============================] - 77s 342ms/step - loss: 0.7012 - acc: 0.6304 - val_loss: 0.5937 - val_acc: 0.6721\n",
            "Epoch 2/50\n",
            "224/225 [============================>.] - ETA: 0s - loss: 0.5252 - acc: 0.7365Epoch 1/50\n",
            "225/225 [==============================] - 68s 303ms/step - loss: 0.5252 - acc: 0.7366 - val_loss: 0.4687 - val_acc: 0.7826\n",
            "Epoch 3/50\n",
            "224/225 [============================>.] - ETA: 0s - loss: 0.4550 - acc: 0.7867Epoch 1/50\n",
            "225/225 [==============================] - 68s 304ms/step - loss: 0.4550 - acc: 0.7868 - val_loss: 0.4281 - val_acc: 0.8014\n",
            "Epoch 4/50\n",
            "224/225 [============================>.] - ETA: 0s - loss: 0.3957 - acc: 0.8225Epoch 1/50\n",
            "225/225 [==============================] - 68s 302ms/step - loss: 0.3957 - acc: 0.8225 - val_loss: 0.3944 - val_acc: 0.8279\n",
            "Epoch 5/50\n",
            "224/225 [============================>.] - ETA: 0s - loss: 0.3271 - acc: 0.8569Epoch 1/50\n",
            "225/225 [==============================] - 68s 301ms/step - loss: 0.3272 - acc: 0.8568 - val_loss: 0.4438 - val_acc: 0.8078\n",
            "Epoch 6/50\n",
            "224/225 [============================>.] - ETA: 0s - loss: 0.2610 - acc: 0.8907Epoch 1/50\n",
            "225/225 [==============================] - 68s 301ms/step - loss: 0.2621 - acc: 0.8903 - val_loss: 0.4423 - val_acc: 0.8010\n",
            "Epoch 7/50\n",
            "224/225 [============================>.] - ETA: 0s - loss: 0.1862 - acc: 0.9250Epoch 1/50\n",
            "225/225 [==============================] - 67s 299ms/step - loss: 0.1862 - acc: 0.9251 - val_loss: 0.4543 - val_acc: 0.8219\n",
            "Epoch 8/50\n",
            "224/225 [============================>.] - ETA: 0s - loss: 0.1354 - acc: 0.9511Epoch 1/50\n",
            "225/225 [==============================] - 68s 300ms/step - loss: 0.1352 - acc: 0.9511 - val_loss: 0.5119 - val_acc: 0.8259\n",
            "Epoch 9/50\n",
            "224/225 [============================>.] - ETA: 0s - loss: 0.0860 - acc: 0.9706Epoch 1/50\n",
            "225/225 [==============================] - 67s 297ms/step - loss: 0.0859 - acc: 0.9707 - val_loss: 0.7237 - val_acc: 0.8155\n",
            "Epoch 10/50\n",
            "224/225 [============================>.] - ETA: 0s - loss: 0.0738 - acc: 0.9756Epoch 1/50\n",
            "225/225 [==============================] - 67s 299ms/step - loss: 0.0737 - acc: 0.9756 - val_loss: 0.6741 - val_acc: 0.8315\n",
            "Epoch 11/50\n",
            "224/225 [============================>.] - ETA: 0s - loss: 0.0601 - acc: 0.9818Epoch 1/50\n",
            "225/225 [==============================] - 67s 297ms/step - loss: 0.0599 - acc: 0.9819 - val_loss: 0.8397 - val_acc: 0.8343\n",
            "Epoch 12/50\n",
            "224/225 [============================>.] - ETA: 0s - loss: 0.0647 - acc: 0.9832Epoch 1/50\n",
            "225/225 [==============================] - 67s 298ms/step - loss: 0.0645 - acc: 0.9833 - val_loss: 1.6056 - val_acc: 0.8018\n",
            "Epoch 13/50\n",
            "224/225 [============================>.] - ETA: 0s - loss: 0.0600 - acc: 0.9829Epoch 1/50\n",
            "225/225 [==============================] - 67s 298ms/step - loss: 0.0597 - acc: 0.9829 - val_loss: 1.0433 - val_acc: 0.8255\n",
            "Epoch 14/50\n",
            "224/225 [============================>.] - ETA: 0s - loss: 0.0724 - acc: 0.9821Epoch 1/50\n",
            "225/225 [==============================] - 67s 297ms/step - loss: 0.0721 - acc: 0.9822 - val_loss: 0.8755 - val_acc: 0.8191\n",
            "Epoch 15/50\n",
            "224/225 [============================>.] - ETA: 0s - loss: 0.0369 - acc: 0.9891Epoch 1/50\n",
            "225/225 [==============================] - 67s 296ms/step - loss: 0.0370 - acc: 0.9891 - val_loss: 1.8724 - val_acc: 0.8227\n",
            "Epoch 16/50\n",
            "224/225 [============================>.] - ETA: 0s - loss: 0.0737 - acc: 0.9835Epoch 1/50\n",
            "225/225 [==============================] - 66s 296ms/step - loss: 0.0743 - acc: 0.9833 - val_loss: 1.3500 - val_acc: 0.7774\n",
            "Epoch 17/50\n",
            "224/225 [============================>.] - ETA: 0s - loss: 0.0329 - acc: 0.9897Epoch 1/50\n",
            "225/225 [==============================] - 66s 295ms/step - loss: 0.0328 - acc: 0.9897 - val_loss: 1.3660 - val_acc: 0.7926\n",
            "Epoch 18/50\n",
            "224/225 [============================>.] - ETA: 0s - loss: 0.0529 - acc: 0.9858Epoch 1/50\n",
            "225/225 [==============================] - 66s 295ms/step - loss: 0.0528 - acc: 0.9859 - val_loss: 0.8260 - val_acc: 0.8139\n",
            "Epoch 19/50\n",
            "224/225 [============================>.] - ETA: 0s - loss: 0.0341 - acc: 0.9904Epoch 1/50\n",
            "225/225 [==============================] - 66s 295ms/step - loss: 0.0339 - acc: 0.9905 - val_loss: 1.1674 - val_acc: 0.8279\n",
            "Epoch 20/50\n",
            "224/225 [============================>.] - ETA: 0s - loss: 0.0423 - acc: 0.9900Epoch 1/50\n",
            "225/225 [==============================] - 66s 295ms/step - loss: 0.0421 - acc: 0.9900 - val_loss: 1.4121 - val_acc: 0.8283\n",
            "Epoch 21/50\n",
            "224/225 [============================>.] - ETA: 0s - loss: 0.0398 - acc: 0.9888Epoch 1/50\n",
            "225/225 [==============================] - 66s 294ms/step - loss: 0.0396 - acc: 0.9888 - val_loss: 1.4287 - val_acc: 0.8151\n",
            "Epoch 22/50\n",
            "224/225 [============================>.] - ETA: 0s - loss: 0.0592 - acc: 0.9859Epoch 1/50\n",
            "225/225 [==============================] - 67s 297ms/step - loss: 0.0591 - acc: 0.9859 - val_loss: 1.1892 - val_acc: 0.8090\n",
            "Epoch 23/50\n",
            "224/225 [============================>.] - ETA: 0s - loss: 0.0380 - acc: 0.9904Epoch 1/50\n",
            "225/225 [==============================] - 66s 296ms/step - loss: 0.0379 - acc: 0.9904 - val_loss: 1.2293 - val_acc: 0.8259\n",
            "Epoch 24/50\n",
            "224/225 [============================>.] - ETA: 0s - loss: 0.0429 - acc: 0.9885Epoch 1/50\n",
            "225/225 [==============================] - 67s 296ms/step - loss: 0.0427 - acc: 0.9886 - val_loss: 1.3736 - val_acc: 0.8247\n",
            "Epoch 25/50\n",
            "224/225 [============================>.] - ETA: 0s - loss: 0.0599 - acc: 0.9838Epoch 1/50\n",
            "225/225 [==============================] - 66s 295ms/step - loss: 0.0597 - acc: 0.9839 - val_loss: 1.2053 - val_acc: 0.8143\n",
            "Epoch 26/50\n",
            "224/225 [============================>.] - ETA: 0s - loss: 0.0856 - acc: 0.9850Epoch 1/50\n",
            "225/225 [==============================] - 66s 294ms/step - loss: 0.0852 - acc: 0.9851 - val_loss: 1.4982 - val_acc: 0.8175\n",
            "Epoch 27/50\n",
            "224/225 [============================>.] - ETA: 0s - loss: 0.0907 - acc: 0.9870Epoch 1/50\n",
            "225/225 [==============================] - 67s 298ms/step - loss: 0.0903 - acc: 0.9871 - val_loss: 1.7912 - val_acc: 0.8151\n",
            "Epoch 28/50\n",
            "224/225 [============================>.] - ETA: 0s - loss: 0.0634 - acc: 0.9840Epoch 1/50\n",
            "225/225 [==============================] - 67s 297ms/step - loss: 0.0633 - acc: 0.9840 - val_loss: 1.7032 - val_acc: 0.7954\n",
            "Epoch 29/50\n",
            "224/225 [============================>.] - ETA: 0s - loss: 0.0615 - acc: 0.9855Epoch 1/50\n",
            "225/225 [==============================] - 67s 297ms/step - loss: 0.0614 - acc: 0.9856 - val_loss: 1.2334 - val_acc: 0.8122\n",
            "Epoch 30/50\n",
            "224/225 [============================>.] - ETA: 0s - loss: 0.0943 - acc: 0.9892Epoch 1/50\n",
            "225/225 [==============================] - 67s 296ms/step - loss: 0.0939 - acc: 0.9892 - val_loss: 1.9804 - val_acc: 0.8171\n",
            "Epoch 31/50\n",
            "224/225 [============================>.] - ETA: 0s - loss: 0.0848 - acc: 0.9812Epoch 1/50\n",
            "225/225 [==============================] - 67s 297ms/step - loss: 0.0844 - acc: 0.9813 - val_loss: 1.3222 - val_acc: 0.8195\n",
            "Epoch 32/50\n",
            "224/225 [============================>.] - ETA: 0s - loss: 0.0574 - acc: 0.9867Epoch 1/50\n",
            "225/225 [==============================] - 66s 295ms/step - loss: 0.0572 - acc: 0.9868 - val_loss: 1.7053 - val_acc: 0.8122\n",
            "Epoch 33/50\n",
            "224/225 [============================>.] - ETA: 0s - loss: 0.0742 - acc: 0.9857Epoch 1/50\n",
            "225/225 [==============================] - 67s 296ms/step - loss: 0.0738 - acc: 0.9858 - val_loss: 1.3520 - val_acc: 0.8070\n",
            "Epoch 34/50\n",
            "224/225 [============================>.] - ETA: 0s - loss: 0.0607 - acc: 0.9859Epoch 1/50\n",
            "225/225 [==============================] - 67s 296ms/step - loss: 0.0605 - acc: 0.9860 - val_loss: 1.6034 - val_acc: 0.8155\n",
            "Epoch 35/50\n",
            "224/225 [============================>.] - ETA: 0s - loss: 0.0922 - acc: 0.9814Epoch 1/50\n",
            "225/225 [==============================] - 67s 297ms/step - loss: 0.0919 - acc: 0.9815 - val_loss: 1.3414 - val_acc: 0.8010\n",
            "Epoch 36/50\n",
            "224/225 [============================>.] - ETA: 0s - loss: 0.0626 - acc: 0.9861Epoch 1/50\n",
            "225/225 [==============================] - 67s 297ms/step - loss: 0.0623 - acc: 0.9861 - val_loss: 1.7534 - val_acc: 0.8187\n",
            "Epoch 37/50\n",
            "224/225 [============================>.] - ETA: 0s - loss: 0.0613 - acc: 0.9878Epoch 1/50\n",
            "225/225 [==============================] - 67s 297ms/step - loss: 0.0611 - acc: 0.9878 - val_loss: 2.1975 - val_acc: 0.8118\n",
            "Epoch 38/50\n",
            "224/225 [============================>.] - ETA: 0s - loss: 0.1145 - acc: 0.9880Epoch 1/50\n",
            "225/225 [==============================] - 66s 295ms/step - loss: 0.1141 - acc: 0.9881 - val_loss: 1.7198 - val_acc: 0.8131\n",
            "Epoch 39/50\n",
            "224/225 [============================>.] - ETA: 0s - loss: 0.0874 - acc: 0.9806Epoch 1/50\n",
            "225/225 [==============================] - 67s 296ms/step - loss: 0.0872 - acc: 0.9806 - val_loss: 1.3609 - val_acc: 0.8062\n",
            "Epoch 40/50\n",
            "224/225 [============================>.] - ETA: 0s - loss: 0.0490 - acc: 0.9879Epoch 1/50\n",
            "225/225 [==============================] - 67s 296ms/step - loss: 0.0533 - acc: 0.9867 - val_loss: 1.0004 - val_acc: 0.6793\n",
            "Epoch 41/50\n",
            "224/225 [============================>.] - ETA: 0s - loss: 0.0612 - acc: 0.9869Epoch 1/50\n",
            "225/225 [==============================] - 66s 295ms/step - loss: 0.0609 - acc: 0.9870 - val_loss: 1.6977 - val_acc: 0.8159\n",
            "Epoch 42/50\n",
            "224/225 [============================>.] - ETA: 0s - loss: 0.0599 - acc: 0.9883Epoch 1/50\n",
            "225/225 [==============================] - 67s 297ms/step - loss: 0.0597 - acc: 0.9884 - val_loss: 1.9256 - val_acc: 0.8135\n",
            "Epoch 43/50\n",
            "224/225 [============================>.] - ETA: 0s - loss: 0.0944 - acc: 0.9833Epoch 1/50\n",
            "225/225 [==============================] - 67s 296ms/step - loss: 0.0941 - acc: 0.9834 - val_loss: 1.1008 - val_acc: 0.7938\n",
            "Epoch 44/50\n",
            "224/225 [============================>.] - ETA: 0s - loss: 0.0767 - acc: 0.9876Epoch 1/50\n",
            "225/225 [==============================] - 66s 295ms/step - loss: 0.0764 - acc: 0.9876 - val_loss: 1.9135 - val_acc: 0.8179\n",
            "Epoch 45/50\n",
            "224/225 [============================>.] - ETA: 0s - loss: 0.0915 - acc: 0.9826Epoch 1/50\n",
            "225/225 [==============================] - 67s 296ms/step - loss: 0.0941 - acc: 0.9820 - val_loss: 2.6610 - val_acc: 0.7122\n",
            "Epoch 46/50\n",
            "224/225 [============================>.] - ETA: 0s - loss: 0.0826 - acc: 0.9837Epoch 1/50\n",
            "225/225 [==============================] - 67s 296ms/step - loss: 0.0823 - acc: 0.9837 - val_loss: 1.7180 - val_acc: 0.8139\n",
            "Epoch 47/50\n",
            "224/225 [============================>.] - ETA: 0s - loss: 0.0724 - acc: 0.9845Epoch 1/50\n",
            "225/225 [==============================] - 66s 295ms/step - loss: 0.0721 - acc: 0.9846 - val_loss: 1.7058 - val_acc: 0.8135\n",
            "Epoch 48/50\n",
            "224/225 [============================>.] - ETA: 0s - loss: 0.0567 - acc: 0.9896Epoch 1/50\n",
            "225/225 [==============================] - 66s 295ms/step - loss: 0.0564 - acc: 0.9896 - val_loss: 1.9937 - val_acc: 0.8211\n",
            "Epoch 49/50\n",
            "224/225 [============================>.] - ETA: 0s - loss: 0.0851 - acc: 0.9849Epoch 1/50\n",
            "225/225 [==============================] - 66s 295ms/step - loss: 0.0847 - acc: 0.9849 - val_loss: 1.9227 - val_acc: 0.7982\n",
            "Epoch 50/50\n",
            "224/225 [============================>.] - ETA: 0s - loss: 0.0984 - acc: 0.9857Epoch 1/50\n",
            "225/225 [==============================] - 67s 296ms/step - loss: 0.0980 - acc: 0.9858 - val_loss: 1.7135 - val_acc: 0.8114\n"
          ],
          "name": "stdout"
        }
      ]
    },
    {
      "cell_type": "code",
      "metadata": {
        "id": "MWZrJN4-65RC",
        "colab_type": "code",
        "colab": {
          "base_uri": "https://localhost:8080/",
          "height": 563
        },
        "outputId": "f73adf52-08ea-412b-a7a2-ced98f099624"
      },
      "source": [
        "%matplotlib inline\n",
        "\n",
        "import matplotlib.image  as mpimg\n",
        "import matplotlib.pyplot as plt\n",
        "\n",
        "#-----------------------------------------------------------\n",
        "# Retrieve a list of list results on training and test data\n",
        "# sets for each training epoch\n",
        "#-----------------------------------------------------------\n",
        "acc=history.history['acc']\n",
        "val_acc=history.history['val_acc']\n",
        "loss=history.history['loss']\n",
        "val_loss=history.history['val_loss']\n",
        "\n",
        "epochs=range(len(acc)) # Get number of epochs\n",
        "\n",
        "#------------------------------------------------\n",
        "# Plot training and validation accuracy per epoch\n",
        "#------------------------------------------------\n",
        "plt.plot(epochs, acc, 'r', \"Training Accuracy\")\n",
        "plt.plot(epochs, val_acc, 'b', \"Validation Accuracy\")\n",
        "plt.title('Training and validation accuracy')\n",
        "plt.figure()\n",
        "\n",
        "#------------------------------------------------\n",
        "# Plot training and validation loss per epoch\n",
        "#------------------------------------------------\n",
        "plt.plot(epochs, loss, 'r', \"Training Loss\")\n",
        "plt.plot(epochs, val_loss, 'b', \"Validation Loss\")\n",
        "plt.figure()\n",
        "\n",
        "\n",
        "# Desired output. Charts with training and validation metrics. No crash :)"
      ],
      "execution_count": 10,
      "outputs": [
        {
          "output_type": "execute_result",
          "data": {
            "text/plain": [
              "<Figure size 432x288 with 0 Axes>"
            ]
          },
          "metadata": {
            "tags": []
          },
          "execution_count": 10
        },
        {
          "output_type": "display_data",
          "data": {
            "image/png": "[encoded data removed]",
            "text/plain": [
              "<Figure size 432x288 with 1 Axes>"
            ]
          },
          "metadata": {
            "tags": []
          }
        },
        {
          "output_type": "display_data",
          "data": {
            "image/png": "[encoded data removed]",
            "text/plain": [
              "<Figure size 432x288 with 1 Axes>"
            ]
          },
          "metadata": {
            "tags": []
          }
        },
        {
          "output_type": "display_data",
          "data": {
            "text/plain": [
              "<Figure size 432x288 with 0 Axes>"
            ]
          },
          "metadata": {
            "tags": []
          }
        }
      ]
    },
    {
      "cell_type": "code",
      "metadata": {
        "id": "LqL6FYUrtXpf",
        "colab_type": "code",
        "colab": {
          "base_uri": "https://localhost:8080/",
          "height": 57
        },
        "outputId": "b29b9549-b533-4aa5-9632-adf699202881"
      },
      "source": [
        "# Here's a codeblock just for fun. You should be able to upload an image here \n",
        "# and have it classified without crashing\n",
        "import numpy as np\n",
        "from google.colab import files\n",
        "from keras.preprocessing import image\n",
        "\n",
        "uploaded = files.upload()\n",
        "\n",
        "for fn in uploaded.keys():\n",
        " \n",
        "  # predicting images\n",
        "  path = '/content/' + fn\n",
        "  img = image.load_img(path, target_size=(150, 150))\n",
        "  x = image.img_to_array(img)\n",
        "  x = np.expand_dims(x, axis=0)\n",
        "\n",
        "  images = np.vstack([x])\n",
        "  classes = model.predict(images, batch_size=10)\n",
        "  print(classes[0])\n",
        "  if classes[0]>0.5:\n",
        "    print(fn + \" is a dog\")\n",
        "  else:\n",
        "    print(fn + \" is a cat\")"
      ],
      "execution_count": 0,
      "outputs": [
        {
          "output_type": "stream",
          "text": [
            "Using TensorFlow backend.\n"
          ],
          "name": "stderr"
        },
        {
          "output_type": "display_data",
          "data": {
            "text/html": [
              "\n",
              "     <input type=\"file\" id=\"files-fb506772-d51c-4006-b394-50176fd80bf6\" name=\"files[]\" multiple disabled />\n",
              "     <output id=\"result-fb506772-d51c-4006-b394-50176fd80bf6\">\n",
              "      Upload widget is only available when the cell has been executed in the\n",
              "      current browser session. Please rerun this cell to enable.\n",
              "      </output>\n",
              "      <script src=\"/nbextensions/google.colab/files.js\"></script> "
            ],
            "text/plain": [
              "<IPython.core.display.HTML object>"
            ]
          },
          "metadata": {
            "tags": []
          }
        }
      ]
    },
    {
      "cell_type": "code",
      "metadata": {
        "id": "kOnKCT1wqyb5",
        "colab_type": "code",
        "colab": {}
      },
      "source": [
        ""
      ],
      "execution_count": 0,
      "outputs": []
    }
  ]
}