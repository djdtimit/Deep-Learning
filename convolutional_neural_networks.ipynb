{
  "nbformat": 4,
  "nbformat_minor": 0,
  "metadata": {
    "colab": {
      "name": "convolutional_neural_networks.ipynb",
      "version": "0.3.2",
      "provenance": [],
      "collapsed_sections": [],
      "include_colab_link": true
    },
    "kernelspec": {
      "name": "python3",
      "display_name": "Python 3"
    }
  },
  "cells": [
    {
      "cell_type": "markdown",
      "metadata": {
        "id": "view-in-github",
        "colab_type": "text"
      },
      "source": [
        "<a href=\"https://colab.research.google.com/github/djdtimit/Deep-Learning/blob/master/convolutional_neural_networks.ipynb\" target=\"_parent\"><img src=\"https://colab.research.google.com/assets/colab-badge.svg\" alt=\"Open In Colab\"/></a>"
      ]
    },
    {
      "cell_type": "markdown",
      "metadata": {
        "id": "BGaxmXYExvj4",
        "colab_type": "text"
      },
      "source": [
        "# Convolutional Neural Networks"
      ]
    },
    {
      "cell_type": "markdown",
      "metadata": {
        "id": "EErXOVCExzfu",
        "colab_type": "text"
      },
      "source": [
        "## Computer Vision Problems"
      ]
    },
    {
      "cell_type": "markdown",
      "metadata": {
        "id": "DP2xbzRax3K5",
        "colab_type": "text"
      },
      "source": [
        "- Image Classification: Cat or not?\n",
        "- Object Detection: Finding object in image and adding bounding box\n",
        "- Neural Style Transfer: Making Picture of two images in the style of one image"
      ]
    },
    {
      "cell_type": "markdown",
      "metadata": {
        "id": "-YZ9LVP1zEQC",
        "colab_type": "text"
      },
      "source": [
        "## Difficulties"
      ]
    },
    {
      "cell_type": "markdown",
      "metadata": {
        "id": "-0Br73NDzEMr",
        "colab_type": "text"
      },
      "source": [
        "- With large images as input, there will be a lot of parameters in an fully connected architecture -> overfitting and high computational requirements -> solution: convolution"
      ]
    },
    {
      "cell_type": "markdown",
      "metadata": {
        "id": "7xfsHw3wzEJY",
        "colab_type": "text"
      },
      "source": [
        "## Idea behind Convolution"
      ]
    },
    {
      "cell_type": "markdown",
      "metadata": {
        "id": "vGwXyLYRzEGJ",
        "colab_type": "text"
      },
      "source": [
        "<img src=\"https://drive.google.com/uc?id=1i127PLBw0d-nmwkkVWkt7E4_senC6QGd\">"
      ]
    },
    {
      "cell_type": "markdown",
      "metadata": {
        "id": "1GB1MggozEDK",
        "colab_type": "text"
      },
      "source": [
        "First detect edges than other parts of the face and in the end the whole face => low level features"
      ]
    },
    {
      "cell_type": "markdown",
      "metadata": {
        "id": "r5nz3I_5zEAM",
        "colab_type": "text"
      },
      "source": [
        "## Convolutional operation for vertical edge detection"
      ]
    },
    {
      "cell_type": "markdown",
      "metadata": {
        "id": "loo7RPdPzD88",
        "colab_type": "text"
      },
      "source": [
        "<img src=\"https://drive.google.com/uc?id=10-0JTDw55R-I4tedIrdXXumJzsq3h9xX\">"
      ]
    },
    {
      "cell_type": "markdown",
      "metadata": {
        "id": "hlJTj5LUzD58",
        "colab_type": "text"
      },
      "source": [
        "## Why will applying this filter detect vertical edges?"
      ]
    },
    {
      "cell_type": "markdown",
      "metadata": {
        "id": "KaKMYR8NzD2t",
        "colab_type": "text"
      },
      "source": [
        "<img src=\"https://drive.google.com/uc?id=1Nu5dNjrrBtw2oqdv5Q7BclpC2q0t5wQl\">"
      ]
    },
    {
      "cell_type": "markdown",
      "metadata": {
        "id": "3SahUJpbzDzh",
        "colab_type": "text"
      },
      "source": [
        "## Learning to detect edges"
      ]
    },
    {
      "cell_type": "markdown",
      "metadata": {
        "id": "Ant6ua1azDwQ",
        "colab_type": "text"
      },
      "source": [
        "<img src=\"https://drive.google.com/uc?id=1OhqOonrQni3gNDyYtfXczIn1lRNp3xpB\">"
      ]
    },
    {
      "cell_type": "markdown",
      "metadata": {
        "id": "ayhjrJ7TzDtb",
        "colab_type": "text"
      },
      "source": [
        "treat the numbers in the filter as parameters. These parameters will be learned from the data"
      ]
    },
    {
      "cell_type": "markdown",
      "metadata": {
        "id": "9dTgnTvTzDqQ",
        "colab_type": "text"
      },
      "source": [
        ""
      ]
    },
    {
      "cell_type": "markdown",
      "metadata": {
        "id": "Nm413qbBzDnH",
        "colab_type": "text"
      },
      "source": [
        ""
      ]
    },
    {
      "cell_type": "markdown",
      "metadata": {
        "id": "mBS-z0PZzDkG",
        "colab_type": "text"
      },
      "source": [
        ""
      ]
    },
    {
      "cell_type": "markdown",
      "metadata": {
        "id": "1awxD6JdzDhV",
        "colab_type": "text"
      },
      "source": [
        ""
      ]
    },
    {
      "cell_type": "markdown",
      "metadata": {
        "id": "YIJS2EmgzDeJ",
        "colab_type": "text"
      },
      "source": [
        ""
      ]
    },
    {
      "cell_type": "markdown",
      "metadata": {
        "id": "f8lr_dG9zDbO",
        "colab_type": "text"
      },
      "source": [
        ""
      ]
    },
    {
      "cell_type": "markdown",
      "metadata": {
        "id": "UJOGKUQhzDYB",
        "colab_type": "text"
      },
      "source": [
        ""
      ]
    },
    {
      "cell_type": "markdown",
      "metadata": {
        "id": "qoQn3JuIzDVF",
        "colab_type": "text"
      },
      "source": [
        ""
      ]
    },
    {
      "cell_type": "markdown",
      "metadata": {
        "id": "YgN9mjNpzDR_",
        "colab_type": "text"
      },
      "source": [
        ""
      ]
    },
    {
      "cell_type": "markdown",
      "metadata": {
        "id": "WO5BZhWczDO6",
        "colab_type": "text"
      },
      "source": [
        ""
      ]
    },
    {
      "cell_type": "markdown",
      "metadata": {
        "id": "zOTdBmAFzDL8",
        "colab_type": "text"
      },
      "source": [
        ""
      ]
    },
    {
      "cell_type": "markdown",
      "metadata": {
        "id": "6-Fb1J0lzDI8",
        "colab_type": "text"
      },
      "source": [
        ""
      ]
    },
    {
      "cell_type": "markdown",
      "metadata": {
        "id": "uly4WzknzDF_",
        "colab_type": "text"
      },
      "source": [
        ""
      ]
    },
    {
      "cell_type": "markdown",
      "metadata": {
        "id": "MpniOl4szDC9",
        "colab_type": "text"
      },
      "source": [
        ""
      ]
    },
    {
      "cell_type": "markdown",
      "metadata": {
        "id": "RdDQxt3AzC_5",
        "colab_type": "text"
      },
      "source": [
        ""
      ]
    },
    {
      "cell_type": "markdown",
      "metadata": {
        "id": "v_4mcm_SzC8-",
        "colab_type": "text"
      },
      "source": [
        ""
      ]
    },
    {
      "cell_type": "markdown",
      "metadata": {
        "id": "VhyE-duczC6G",
        "colab_type": "text"
      },
      "source": [
        ""
      ]
    },
    {
      "cell_type": "markdown",
      "metadata": {
        "id": "Ys02s2LLzC2g",
        "colab_type": "text"
      },
      "source": [
        ""
      ]
    },
    {
      "cell_type": "code",
      "metadata": {
        "id": "03Y-fWYlxoOB",
        "colab_type": "code",
        "colab": {}
      },
      "source": [
        ""
      ],
      "execution_count": 0,
      "outputs": []
    }
  ]
}