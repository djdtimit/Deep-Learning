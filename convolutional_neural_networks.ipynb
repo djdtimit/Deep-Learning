{
  "nbformat": 4,
  "nbformat_minor": 0,
  "metadata": {
    "colab": {
      "name": "convolutional_neural_networks.ipynb",
      "version": "0.3.2",
      "provenance": [],
      "collapsed_sections": [],
      "include_colab_link": true
    },
    "kernelspec": {
      "name": "python3",
      "display_name": "Python 3"
    }
  },
  "cells": [
    {
      "cell_type": "markdown",
      "metadata": {
        "id": "view-in-github",
        "colab_type": "text"
      },
      "source": [
        "<a href=\"https://colab.research.google.com/github/djdtimit/Deep-Learning/blob/master/convolutional_neural_networks.ipynb\" target=\"_parent\"><img src=\"https://colab.research.google.com/assets/colab-badge.svg\" alt=\"Open In Colab\"/></a>"
      ]
    },
    {
      "cell_type": "markdown",
      "metadata": {
        "id": "BGaxmXYExvj4",
        "colab_type": "text"
      },
      "source": [
        "# Convolutional Neural Networks"
      ]
    },
    {
      "cell_type": "markdown",
      "metadata": {
        "id": "EErXOVCExzfu",
        "colab_type": "text"
      },
      "source": [
        "## Computer Vision Problems"
      ]
    },
    {
      "cell_type": "markdown",
      "metadata": {
        "id": "DP2xbzRax3K5",
        "colab_type": "text"
      },
      "source": [
        "- Image Classification: Cat or not?\n",
        "- Object Detection: Finding object in image and adding bounding box\n",
        "- Neural Style Transfer: Making Picture of two images in the style of one image"
      ]
    },
    {
      "cell_type": "markdown",
      "metadata": {
        "id": "-YZ9LVP1zEQC",
        "colab_type": "text"
      },
      "source": [
        "## Difficulties"
      ]
    },
    {
      "cell_type": "markdown",
      "metadata": {
        "id": "-0Br73NDzEMr",
        "colab_type": "text"
      },
      "source": [
        "- With large images as input, there will be a lot of parameters in an fully connected architecture -> overfitting and high computational requirements -> solution: convolution"
      ]
    },
    {
      "cell_type": "markdown",
      "metadata": {
        "id": "7xfsHw3wzEJY",
        "colab_type": "text"
      },
      "source": [
        "## Idea behind Convolution"
      ]
    },
    {
      "cell_type": "markdown",
      "metadata": {
        "id": "vGwXyLYRzEGJ",
        "colab_type": "text"
      },
      "source": [
        "<img src=\"https://drive.google.com/uc?id=1i127PLBw0d-nmwkkVWkt7E4_senC6QGd\">"
      ]
    },
    {
      "cell_type": "markdown",
      "metadata": {
        "id": "1GB1MggozEDK",
        "colab_type": "text"
      },
      "source": [
        "First detect edges than other parts of the face and in the end the whole face => low level features"
      ]
    },
    {
      "cell_type": "markdown",
      "metadata": {
        "id": "r5nz3I_5zEAM",
        "colab_type": "text"
      },
      "source": [
        "## Convolutional operation for vertical edge detection"
      ]
    },
    {
      "cell_type": "markdown",
      "metadata": {
        "id": "loo7RPdPzD88",
        "colab_type": "text"
      },
      "source": [
        "<img src=\"https://drive.google.com/uc?id=10-0JTDw55R-I4tedIrdXXumJzsq3h9xX\">"
      ]
    },
    {
      "cell_type": "markdown",
      "metadata": {
        "id": "hlJTj5LUzD58",
        "colab_type": "text"
      },
      "source": [
        "## Why will applying this filter detect vertical edges?"
      ]
    },
    {
      "cell_type": "markdown",
      "metadata": {
        "id": "KaKMYR8NzD2t",
        "colab_type": "text"
      },
      "source": [
        "<img src=\"https://drive.google.com/uc?id=1Nu5dNjrrBtw2oqdv5Q7BclpC2q0t5wQl\">"
      ]
    },
    {
      "cell_type": "markdown",
      "metadata": {
        "id": "3SahUJpbzDzh",
        "colab_type": "text"
      },
      "source": [
        "## Learning to detect edges"
      ]
    },
    {
      "cell_type": "markdown",
      "metadata": {
        "id": "Ant6ua1azDwQ",
        "colab_type": "text"
      },
      "source": [
        "<img src=\"https://drive.google.com/uc?id=1OhqOonrQni3gNDyYtfXczIn1lRNp3xpB\">"
      ]
    },
    {
      "cell_type": "markdown",
      "metadata": {
        "id": "ayhjrJ7TzDtb",
        "colab_type": "text"
      },
      "source": [
        "treat the numbers in the filter as parameters. These parameters will be learned from the data"
      ]
    },
    {
      "cell_type": "markdown",
      "metadata": {
        "id": "9dTgnTvTzDqQ",
        "colab_type": "text"
      },
      "source": [
        "## Padding"
      ]
    },
    {
      "cell_type": "markdown",
      "metadata": {
        "id": "Nm413qbBzDnH",
        "colab_type": "text"
      },
      "source": [
        "<img src=\"https://drive.google.com/uc?id=1o3Iv4jgdGm8vtJeQwdbwR8Lwo1Q17bWa\">"
      ]
    },
    {
      "cell_type": "markdown",
      "metadata": {
        "id": "mBS-z0PZzDkG",
        "colab_type": "text"
      },
      "source": [
        "applying the convolution operation leads to two problems:\n",
        "\n",
        "- the output shrinks\n",
        "- the filter is not often applied to the edges such that a lot of information from the edges will be thrown away\n",
        "\n",
        "solution: padding\n",
        "\n",
        "padding means to extend the input with new edges filled with zeros. This will solve the problems."
      ]
    },
    {
      "cell_type": "markdown",
      "metadata": {
        "id": "1awxD6JdzDhV",
        "colab_type": "text"
      },
      "source": [
        "## Valid and Same convolutions"
      ]
    },
    {
      "cell_type": "markdown",
      "metadata": {
        "id": "YIJS2EmgzDeJ",
        "colab_type": "text"
      },
      "source": [
        "<img src=\"https://drive.google.com/uc?id=1U7-iTVxIjszgFqrdL_k4ZFzbFxg6Q9o2\">"
      ]
    },
    {
      "cell_type": "markdown",
      "metadata": {
        "id": "f8lr_dG9zDbO",
        "colab_type": "text"
      },
      "source": [
        "valid convolution means no padding and the output shrinks\n",
        "\n",
        "same convolution means using padding such that the output size will not shrink. In this case p must be chosen according to the formula and f needs to be odd. f is usually odd because in this case the filter has a central position."
      ]
    },
    {
      "cell_type": "markdown",
      "metadata": {
        "id": "UJOGKUQhzDYB",
        "colab_type": "text"
      },
      "source": [
        "## strided convolution"
      ]
    },
    {
      "cell_type": "markdown",
      "metadata": {
        "id": "qoQn3JuIzDVF",
        "colab_type": "text"
      },
      "source": [
        "<img src=\"https://drive.google.com/uc?id=1ZeAjCZlOkcrdqHnMpWxoYr3krrKj4PWH\">"
      ]
    },
    {
      "cell_type": "markdown",
      "metadata": {
        "id": "YgN9mjNpzDR_",
        "colab_type": "text"
      },
      "source": [
        "stepping over by two steps instead of one when applying convolution"
      ]
    },
    {
      "cell_type": "markdown",
      "metadata": {
        "id": "WO5BZhWczDO6",
        "colab_type": "text"
      },
      "source": [
        "## Convolution on volumes"
      ]
    },
    {
      "cell_type": "markdown",
      "metadata": {
        "id": "zOTdBmAFzDL8",
        "colab_type": "text"
      },
      "source": [
        "<img src=\"https://drive.google.com/uc?id=1klhJJ2g-sMxM79OU0MbhuWVrTIEfPCia\">"
      ]
    },
    {
      "cell_type": "markdown",
      "metadata": {
        "id": "6-Fb1J0lzDI8",
        "colab_type": "text"
      },
      "source": [
        "the third dimension (=channel) should be the same between the input and the filter. Apply convolution channel by channel and add the results to get a result with a single channel"
      ]
    },
    {
      "cell_type": "markdown",
      "metadata": {
        "id": "uly4WzknzDF_",
        "colab_type": "text"
      },
      "source": [
        "## Multiple Filters"
      ]
    },
    {
      "cell_type": "markdown",
      "metadata": {
        "id": "MpniOl4szDC9",
        "colab_type": "text"
      },
      "source": [
        "<img src=\"https://drive.google.com/uc?id=1sgNcYB3c4rUpLtLdzIIjs27a1M-HUPge\">"
      ]
    },
    {
      "cell_type": "markdown",
      "metadata": {
        "id": "RdDQxt3AzC_5",
        "colab_type": "text"
      },
      "source": [
        "applying several filters for different kind of detection (vertical or horizontal edge detection) will result in an output with the number of channels equal to the number of filters"
      ]
    },
    {
      "cell_type": "markdown",
      "metadata": {
        "id": "v_4mcm_SzC8-",
        "colab_type": "text"
      },
      "source": [
        "<img src=\"https://drive.google.com/uc?id=1W9NPToxU-5nByL29KT7asQ54zmZH47VK\">"
      ]
    },
    {
      "cell_type": "markdown",
      "metadata": {
        "id": "VhyE-duczC6G",
        "colab_type": "text"
      },
      "source": [
        "to the output add bias and add activation function. Afterwards use this as the input to the next layer\n",
        "\n",
        "the number of parameters to learn are included in the filter and in the bias\n",
        "\n",
        "the number of parameters are independent of the size of the image. this is different to a fully connected layer and this architecture is not as prone to overfitting as a fully connected architecture (see above)"
      ]
    },
    {
      "cell_type": "markdown",
      "metadata": {
        "id": "Ys02s2LLzC2g",
        "colab_type": "text"
      },
      "source": [
        "<img src=\"https://drive.google.com/uc?id=1xmVtbkrKaZV0WACM-Vyb1qfYxobNyjS6\">"
      ]
    },
    {
      "cell_type": "markdown",
      "metadata": {
        "id": "StLPYUhwoIqa",
        "colab_type": "text"
      },
      "source": [
        "The striding parameter s results in fast reduction of the first and second output dimension.\n",
        "The first and second dimension will for s = 0 always shrink by 2. If s is applied this is also the case but the result is divided by s and the floor is pplied to the result\n",
        "\n",
        "After the final convolution layer in this example are 1960 features learned. These features will be flattenend and will be fed into an activation function to generate the predictions"
      ]
    },
    {
      "cell_type": "markdown",
      "metadata": {
        "id": "Hoa3bPn8oInY",
        "colab_type": "text"
      },
      "source": [
        ""
      ]
    },
    {
      "cell_type": "markdown",
      "metadata": {
        "id": "CRWr4_60oIj_",
        "colab_type": "text"
      },
      "source": [
        ""
      ]
    },
    {
      "cell_type": "markdown",
      "metadata": {
        "id": "00vjdFkboIg1",
        "colab_type": "text"
      },
      "source": [
        ""
      ]
    },
    {
      "cell_type": "markdown",
      "metadata": {
        "id": "6OFpvm7BoId3",
        "colab_type": "text"
      },
      "source": [
        ""
      ]
    },
    {
      "cell_type": "markdown",
      "metadata": {
        "id": "3JeC0PVYoIaZ",
        "colab_type": "text"
      },
      "source": [
        ""
      ]
    },
    {
      "cell_type": "markdown",
      "metadata": {
        "id": "pNcMueFGoIWn",
        "colab_type": "text"
      },
      "source": [
        ""
      ]
    },
    {
      "cell_type": "code",
      "metadata": {
        "id": "03Y-fWYlxoOB",
        "colab_type": "code",
        "colab": {}
      },
      "source": [
        ""
      ],
      "execution_count": 0,
      "outputs": []
    }
  ]
}