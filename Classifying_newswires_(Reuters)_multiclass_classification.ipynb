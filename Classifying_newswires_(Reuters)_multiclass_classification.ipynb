{
  "nbformat": 4,
  "nbformat_minor": 0,
  "metadata": {
    "colab": {
      "name": "Classifying_newswires_(Reuters)_multiclass_classification.ipynb",
      "version": "0.3.2",
      "provenance": [],
      "collapsed_sections": [],
      "include_colab_link": true
    },
    "kernelspec": {
      "name": "python3",
      "display_name": "Python 3"
    },
    "accelerator": "GPU"
  },
  "cells": [
    {
      "cell_type": "markdown",
      "metadata": {
        "id": "view-in-github",
        "colab_type": "text"
      },
      "source": [
        "<a href=\"https://colab.research.google.com/github/djdtimit/Deep-Learning/blob/master/Classifying_newswires_(Reuters)_multiclass_classification.ipynb\" target=\"_parent\"><img src=\"https://colab.research.google.com/assets/colab-badge.svg\" alt=\"Open In Colab\"/></a>"
      ]
    },
    {
      "cell_type": "markdown",
      "metadata": {
        "id": "XwBVhfbVOr3p",
        "colab_type": "text"
      },
      "source": [
        "# Classifying newswires from Reuters"
      ]
    },
    {
      "cell_type": "markdown",
      "metadata": {
        "id": "7yqaoy9hS4us",
        "colab_type": "text"
      },
      "source": [
        "## the dataset"
      ]
    },
    {
      "cell_type": "code",
      "metadata": {
        "id": "7W-iJPS5O0BF",
        "colab_type": "code",
        "colab": {
          "base_uri": "https://localhost:8080/",
          "height": 34
        },
        "outputId": "fba69dec-993b-4fca-9326-13f848187344"
      },
      "source": [
        "import keras"
      ],
      "execution_count": 1,
      "outputs": [
        {
          "output_type": "stream",
          "text": [
            "Using TensorFlow backend.\n"
          ],
          "name": "stderr"
        }
      ]
    },
    {
      "cell_type": "code",
      "metadata": {
        "id": "DxwRCKojQrcs",
        "colab_type": "code",
        "colab": {}
      },
      "source": [
        "from keras.datasets import reuters"
      ],
      "execution_count": 0,
      "outputs": []
    },
    {
      "cell_type": "code",
      "metadata": {
        "id": "IJl_8Bs9Q7Pl",
        "colab_type": "code",
        "colab": {
          "base_uri": "https://localhost:8080/",
          "height": 51
        },
        "outputId": "cf1038d8-17e9-4056-8999-87deb4c60873"
      },
      "source": [
        "(train_data, train_labels), (test_data, test_labels) = reuters.load_data(num_words=10000)"
      ],
      "execution_count": 3,
      "outputs": [
        {
          "output_type": "stream",
          "text": [
            "Downloading data from https://s3.amazonaws.com/text-datasets/reuters.npz\n",
            "2113536/2110848 [==============================] - 1s 0us/step\n"
          ],
          "name": "stdout"
        }
      ]
    },
    {
      "cell_type": "code",
      "metadata": {
        "id": "NNEH0zm3RM7y",
        "colab_type": "code",
        "outputId": "49e4e628-331b-4c9b-fc50-17f2393a1165",
        "colab": {
          "base_uri": "https://localhost:8080/",
          "height": 173
        }
      },
      "source": [
        "train_data"
      ],
      "execution_count": 4,
      "outputs": [
        {
          "output_type": "execute_result",
          "data": {
            "text/plain": [
              "array([list([1, 2, 2, 8, 43, 10, 447, 5, 25, 207, 270, 5, 3095, 111, 16, 369, 186, 90, 67, 7, 89, 5, 19, 102, 6, 19, 124, 15, 90, 67, 84, 22, 482, 26, 7, 48, 4, 49, 8, 864, 39, 209, 154, 6, 151, 6, 83, 11, 15, 22, 155, 11, 15, 7, 48, 9, 4579, 1005, 504, 6, 258, 6, 272, 11, 15, 22, 134, 44, 11, 15, 16, 8, 197, 1245, 90, 67, 52, 29, 209, 30, 32, 132, 6, 109, 15, 17, 12]),\n",
              "       list([1, 3267, 699, 3434, 2295, 56, 2, 7511, 9, 56, 3906, 1073, 81, 5, 1198, 57, 366, 737, 132, 20, 4093, 7, 2, 49, 2295, 2, 1037, 3267, 699, 3434, 8, 7, 10, 241, 16, 855, 129, 231, 783, 5, 4, 587, 2295, 2, 2, 775, 7, 48, 34, 191, 44, 35, 1795, 505, 17, 12]),\n",
              "       list([1, 53, 12, 284, 15, 14, 272, 26, 53, 959, 32, 818, 15, 14, 272, 26, 39, 684, 70, 11, 14, 12, 3886, 18, 180, 183, 187, 70, 11, 14, 102, 32, 11, 29, 53, 44, 704, 15, 14, 19, 758, 15, 53, 959, 47, 1013, 15, 14, 19, 132, 15, 39, 965, 32, 11, 14, 147, 72, 11, 180, 183, 187, 44, 11, 14, 102, 19, 11, 123, 186, 90, 67, 960, 4, 78, 13, 68, 467, 511, 110, 59, 89, 90, 67, 1390, 55, 2678, 92, 617, 80, 1274, 46, 905, 220, 13, 4, 346, 48, 235, 629, 5, 211, 5, 1118, 7, 2, 81, 5, 187, 11, 15, 9, 1709, 201, 5, 47, 3615, 18, 478, 4514, 5, 1118, 7, 232, 2, 71, 5, 160, 63, 11, 9, 2, 81, 5, 102, 59, 11, 17, 12]),\n",
              "       ...,\n",
              "       list([1, 141, 3890, 387, 81, 8, 16, 1629, 10, 340, 1241, 850, 31, 56, 3890, 691, 9, 1241, 71, 9, 5985, 2, 2, 699, 2, 2, 2, 699, 244, 5945, 4, 49, 8, 4, 656, 850, 33, 2993, 9, 2139, 340, 3371, 1493, 9, 2, 22, 2, 1094, 687, 83, 35, 15, 257, 6, 57, 9190, 7, 4, 5956, 654, 5, 2, 6191, 1371, 4, 49, 8, 16, 369, 646, 6, 1076, 7, 124, 407, 17, 12]),\n",
              "       list([1, 53, 46, 957, 26, 14, 74, 132, 26, 39, 46, 258, 3614, 18, 14, 74, 134, 5131, 18, 88, 2321, 72, 11, 14, 1842, 32, 11, 123, 383, 89, 39, 46, 235, 10, 864, 728, 5, 258, 44, 11, 15, 22, 753, 9, 42, 92, 131, 728, 5, 69, 312, 11, 15, 22, 222, 2, 3237, 383, 48, 39, 74, 235, 10, 864, 276, 5, 61, 32, 11, 15, 21, 4, 211, 5, 126, 1072, 42, 92, 131, 46, 19, 352, 11, 15, 22, 710, 220, 9, 42, 92, 131, 276, 5, 59, 61, 11, 15, 22, 10, 455, 7, 1172, 137, 336, 1325, 6, 1532, 142, 971, 6463, 43, 359, 5, 4, 326, 753, 364, 17, 12]),\n",
              "       list([1, 227, 2406, 91, 2, 125, 2855, 21, 4, 3976, 76, 7, 4, 757, 481, 3976, 790, 5259, 5654, 9, 111, 149, 8, 7, 10, 76, 223, 51, 4, 417, 8, 1047, 91, 6917, 1688, 340, 7, 194, 9411, 6, 1894, 21, 127, 2151, 2394, 1456, 6, 3034, 4, 329, 433, 7, 65, 87, 1127, 10, 8219, 1475, 290, 9, 21, 567, 16, 1926, 24, 4, 76, 209, 30, 4033, 6655, 5654, 8, 4, 60, 8, 4, 966, 308, 40, 2575, 129, 2, 295, 277, 1071, 9, 24, 286, 2114, 234, 222, 9, 4, 906, 3994, 8519, 114, 5758, 1752, 7, 4, 113, 17, 12])],\n",
              "      dtype=object)"
            ]
          },
          "metadata": {
            "tags": []
          },
          "execution_count": 4
        }
      ]
    },
    {
      "cell_type": "code",
      "metadata": {
        "id": "UdYM136MRUZt",
        "colab_type": "code",
        "outputId": "e8230edb-af0f-4e0d-8ec9-f0b7956413d3",
        "colab": {
          "base_uri": "https://localhost:8080/",
          "height": 34
        }
      },
      "source": [
        "train_labels"
      ],
      "execution_count": 5,
      "outputs": [
        {
          "output_type": "execute_result",
          "data": {
            "text/plain": [
              "array([ 3,  4,  3, ..., 25,  3, 25])"
            ]
          },
          "metadata": {
            "tags": []
          },
          "execution_count": 5
        }
      ]
    },
    {
      "cell_type": "code",
      "metadata": {
        "id": "BZRr06mTRW5-",
        "colab_type": "code",
        "outputId": "116536e4-ddab-4b29-e49c-3e33402c1588",
        "colab": {
          "base_uri": "https://localhost:8080/",
          "height": 34
        }
      },
      "source": [
        "len(train_data)"
      ],
      "execution_count": 6,
      "outputs": [
        {
          "output_type": "execute_result",
          "data": {
            "text/plain": [
              "8982"
            ]
          },
          "metadata": {
            "tags": []
          },
          "execution_count": 6
        }
      ]
    },
    {
      "cell_type": "code",
      "metadata": {
        "id": "HJsbs3kZRqTS",
        "colab_type": "code",
        "outputId": "ab2ce4b2-e2a1-4f99-88e8-8e68092f7ce4",
        "colab": {
          "base_uri": "https://localhost:8080/",
          "height": 34
        }
      },
      "source": [
        "len(test_data)"
      ],
      "execution_count": 7,
      "outputs": [
        {
          "output_type": "execute_result",
          "data": {
            "text/plain": [
              "2246"
            ]
          },
          "metadata": {
            "tags": []
          },
          "execution_count": 7
        }
      ]
    },
    {
      "cell_type": "code",
      "metadata": {
        "id": "65K8upuPRsg6",
        "colab_type": "code",
        "outputId": "c2f807c5-0f67-4a3d-a4c0-9220a4abcbe0",
        "colab": {
          "base_uri": "https://localhost:8080/",
          "height": 34
        }
      },
      "source": [
        "len(set(train_labels))"
      ],
      "execution_count": 8,
      "outputs": [
        {
          "output_type": "execute_result",
          "data": {
            "text/plain": [
              "46"
            ]
          },
          "metadata": {
            "tags": []
          },
          "execution_count": 8
        }
      ]
    },
    {
      "cell_type": "code",
      "metadata": {
        "id": "mDAALnH8R7a-",
        "colab_type": "code",
        "outputId": "80a6d1c9-3adb-4faa-b3d8-94b096eee0d7",
        "colab": {
          "base_uri": "https://localhost:8080/",
          "height": 799
        }
      },
      "source": [
        "set(train_labels)"
      ],
      "execution_count": 9,
      "outputs": [
        {
          "output_type": "execute_result",
          "data": {
            "text/plain": [
              "{0,\n",
              " 1,\n",
              " 2,\n",
              " 3,\n",
              " 4,\n",
              " 5,\n",
              " 6,\n",
              " 7,\n",
              " 8,\n",
              " 9,\n",
              " 10,\n",
              " 11,\n",
              " 12,\n",
              " 13,\n",
              " 14,\n",
              " 15,\n",
              " 16,\n",
              " 17,\n",
              " 18,\n",
              " 19,\n",
              " 20,\n",
              " 21,\n",
              " 22,\n",
              " 23,\n",
              " 24,\n",
              " 25,\n",
              " 26,\n",
              " 27,\n",
              " 28,\n",
              " 29,\n",
              " 30,\n",
              " 31,\n",
              " 32,\n",
              " 33,\n",
              " 34,\n",
              " 35,\n",
              " 36,\n",
              " 37,\n",
              " 38,\n",
              " 39,\n",
              " 40,\n",
              " 41,\n",
              " 42,\n",
              " 43,\n",
              " 44,\n",
              " 45}"
            ]
          },
          "metadata": {
            "tags": []
          },
          "execution_count": 9
        }
      ]
    },
    {
      "cell_type": "markdown",
      "metadata": {
        "id": "SIBunvBMTB4F",
        "colab_type": "text"
      },
      "source": [
        "## Preparing the data"
      ]
    },
    {
      "cell_type": "code",
      "metadata": {
        "id": "S3fhINzcSJj5",
        "colab_type": "code",
        "colab": {}
      },
      "source": [
        "import numpy as np"
      ],
      "execution_count": 0,
      "outputs": []
    },
    {
      "cell_type": "code",
      "metadata": {
        "id": "1ULoiQM1TXhw",
        "colab_type": "code",
        "colab": {}
      },
      "source": [
        "def vectorice_sequences(sequence, dimension=10000):\n",
        "  index_matrix = np.zeros((len(sequence), dimension))\n",
        "\n",
        "  for i, seq in enumerate(sequence):\n",
        "    index_matrix[i, seq] = 1.0\n",
        "  return index_matrix"
      ],
      "execution_count": 0,
      "outputs": []
    },
    {
      "cell_type": "code",
      "metadata": {
        "id": "Qw2ZHpZfUL8d",
        "colab_type": "code",
        "colab": {}
      },
      "source": [
        "X_train = vectorice_sequences(train_data)\n",
        "X_test = vectorice_sequences(test_data)"
      ],
      "execution_count": 0,
      "outputs": []
    },
    {
      "cell_type": "code",
      "metadata": {
        "id": "I6VYPicjUXl1",
        "colab_type": "code",
        "colab": {}
      },
      "source": [
        "from keras.utils.np_utils import to_categorical"
      ],
      "execution_count": 0,
      "outputs": []
    },
    {
      "cell_type": "code",
      "metadata": {
        "id": "mYLIKiLYVQIA",
        "colab_type": "code",
        "colab": {}
      },
      "source": [
        "one_hot_train_labels = to_categorical(train_labels)\n",
        "one_hot_test_labels = to_categorical(test_labels)"
      ],
      "execution_count": 0,
      "outputs": []
    },
    {
      "cell_type": "code",
      "metadata": {
        "id": "-6MOZyz2VSqA",
        "colab_type": "code",
        "outputId": "4c1dc583-762c-4cd1-a499-f505429349c3",
        "colab": {
          "base_uri": "https://localhost:8080/",
          "height": 136
        }
      },
      "source": [
        "one_hot_train_labels"
      ],
      "execution_count": 15,
      "outputs": [
        {
          "output_type": "execute_result",
          "data": {
            "text/plain": [
              "array([[0., 0., 0., ..., 0., 0., 0.],\n",
              "       [0., 0., 0., ..., 0., 0., 0.],\n",
              "       [0., 0., 0., ..., 0., 0., 0.],\n",
              "       ...,\n",
              "       [0., 0., 0., ..., 0., 0., 0.],\n",
              "       [0., 0., 0., ..., 0., 0., 0.],\n",
              "       [0., 0., 0., ..., 0., 0., 0.]], dtype=float32)"
            ]
          },
          "metadata": {
            "tags": []
          },
          "execution_count": 15
        }
      ]
    },
    {
      "cell_type": "markdown",
      "metadata": {
        "id": "-ftsQxp2WVt3",
        "colab_type": "text"
      },
      "source": [
        "## Building the network"
      ]
    },
    {
      "cell_type": "code",
      "metadata": {
        "id": "j8qb1gLSVU1M",
        "colab_type": "code",
        "colab": {}
      },
      "source": [
        "from keras import models, layers"
      ],
      "execution_count": 0,
      "outputs": []
    },
    {
      "cell_type": "code",
      "metadata": {
        "id": "bnsxr4xnZbdd",
        "colab_type": "code",
        "colab": {
          "base_uri": "https://localhost:8080/",
          "height": 119
        },
        "outputId": "d959f064-f709-4775-b642-dabe53cf704f"
      },
      "source": [
        "model = models.Sequential()\n",
        "model.add(layer=layers.Dense(units=64,activation='relu', input_shape=(10000,)))\n",
        "model.add(layer=layers.Dense(units=64,activation='relu'))\n",
        "model.add(layer=layers.Dense(units=46,activation='softmax'))"
      ],
      "execution_count": 17,
      "outputs": [
        {
          "output_type": "stream",
          "text": [
            "WARNING:tensorflow:From /usr/local/lib/python3.6/dist-packages/keras/backend/tensorflow_backend.py:66: The name tf.get_default_graph is deprecated. Please use tf.compat.v1.get_default_graph instead.\n",
            "\n",
            "WARNING:tensorflow:From /usr/local/lib/python3.6/dist-packages/keras/backend/tensorflow_backend.py:541: The name tf.placeholder is deprecated. Please use tf.compat.v1.placeholder instead.\n",
            "\n",
            "WARNING:tensorflow:From /usr/local/lib/python3.6/dist-packages/keras/backend/tensorflow_backend.py:4432: The name tf.random_uniform is deprecated. Please use tf.random.uniform instead.\n",
            "\n"
          ],
          "name": "stdout"
        }
      ]
    },
    {
      "cell_type": "code",
      "metadata": {
        "id": "IPtVWYnSaMyN",
        "colab_type": "code",
        "colab": {
          "base_uri": "https://localhost:8080/",
          "height": 85
        },
        "outputId": "eeb0d282-06ac-4d98-ec56-8ce9a9b210b0"
      },
      "source": [
        "model.compile(optimizer='rmsprop', loss='categorical_crossentropy', metrics=['accuracy'])"
      ],
      "execution_count": 18,
      "outputs": [
        {
          "output_type": "stream",
          "text": [
            "WARNING:tensorflow:From /usr/local/lib/python3.6/dist-packages/keras/optimizers.py:793: The name tf.train.Optimizer is deprecated. Please use tf.compat.v1.train.Optimizer instead.\n",
            "\n",
            "WARNING:tensorflow:From /usr/local/lib/python3.6/dist-packages/keras/backend/tensorflow_backend.py:3576: The name tf.log is deprecated. Please use tf.math.log instead.\n",
            "\n"
          ],
          "name": "stdout"
        }
      ]
    },
    {
      "cell_type": "markdown",
      "metadata": {
        "id": "1eKN2b86cwiB",
        "colab_type": "text"
      },
      "source": [
        "## Validation data"
      ]
    },
    {
      "cell_type": "code",
      "metadata": {
        "id": "ZpDqWuVUcnOC",
        "colab_type": "code",
        "colab": {}
      },
      "source": [
        "X_val = X_train[:1000]\n",
        "y_val = one_hot_train_labels[:1000]\n",
        "\n",
        "X_partial_train = X_train[1000:]\n",
        "y_partial_train = one_hot_train_labels[1000:]"
      ],
      "execution_count": 0,
      "outputs": []
    },
    {
      "cell_type": "markdown",
      "metadata": {
        "id": "FtR6R4EfdjqC",
        "colab_type": "text"
      },
      "source": [
        "## Train the model"
      ]
    },
    {
      "cell_type": "code",
      "metadata": {
        "id": "wnryi8rHdM9p",
        "colab_type": "code",
        "outputId": "d70895df-fa9a-4465-d4c2-35c134ccba0f",
        "colab": {
          "base_uri": "https://localhost:8080/",
          "height": 819
        }
      },
      "source": [
        "history = model.fit(x=X_partial_train, y=y_partial_train, batch_size=512,epochs=20,validation_data=(X_val, y_val))"
      ],
      "execution_count": 20,
      "outputs": [
        {
          "output_type": "stream",
          "text": [
            "WARNING:tensorflow:From /usr/local/lib/python3.6/dist-packages/tensorflow/python/ops/math_grad.py:1250: add_dispatch_support.<locals>.wrapper (from tensorflow.python.ops.array_ops) is deprecated and will be removed in a future version.\n",
            "Instructions for updating:\n",
            "Use tf.where in 2.0, which has the same broadcast rule as np.where\n",
            "WARNING:tensorflow:From /usr/local/lib/python3.6/dist-packages/keras/backend/tensorflow_backend.py:1033: The name tf.assign_add is deprecated. Please use tf.compat.v1.assign_add instead.\n",
            "\n",
            "Train on 7982 samples, validate on 1000 samples\n",
            "Epoch 1/20\n",
            "7982/7982 [==============================] - 5s 579us/step - loss: 2.6521 - acc: 0.4840 - val_loss: 1.7225 - val_acc: 0.6470\n",
            "Epoch 2/20\n",
            "7982/7982 [==============================] - 1s 64us/step - loss: 1.4201 - acc: 0.7066 - val_loss: 1.3160 - val_acc: 0.7100\n",
            "Epoch 3/20\n",
            "7982/7982 [==============================] - 1s 63us/step - loss: 1.0459 - acc: 0.7820 - val_loss: 1.1204 - val_acc: 0.7530\n",
            "Epoch 4/20\n",
            "7982/7982 [==============================] - 1s 67us/step - loss: 0.8185 - acc: 0.8285 - val_loss: 1.0436 - val_acc: 0.7990\n",
            "Epoch 5/20\n",
            "7982/7982 [==============================] - 0s 61us/step - loss: 0.6577 - acc: 0.8662 - val_loss: 0.9587 - val_acc: 0.8000\n",
            "Epoch 6/20\n",
            "7982/7982 [==============================] - 0s 62us/step - loss: 0.5223 - acc: 0.8925 - val_loss: 0.9091 - val_acc: 0.8110\n",
            "Epoch 7/20\n",
            "7982/7982 [==============================] - 0s 61us/step - loss: 0.4248 - acc: 0.9113 - val_loss: 0.8966 - val_acc: 0.8100\n",
            "Epoch 8/20\n",
            "7982/7982 [==============================] - 0s 63us/step - loss: 0.3435 - acc: 0.9268 - val_loss: 0.8916 - val_acc: 0.8120\n",
            "Epoch 9/20\n",
            "7982/7982 [==============================] - 0s 61us/step - loss: 0.2838 - acc: 0.9362 - val_loss: 0.9506 - val_acc: 0.8050\n",
            "Epoch 10/20\n",
            "7982/7982 [==============================] - 0s 62us/step - loss: 0.2453 - acc: 0.9439 - val_loss: 0.9092 - val_acc: 0.8150\n",
            "Epoch 11/20\n",
            "7982/7982 [==============================] - 0s 62us/step - loss: 0.2142 - acc: 0.9476 - val_loss: 0.9339 - val_acc: 0.8110\n",
            "Epoch 12/20\n",
            "7982/7982 [==============================] - 1s 63us/step - loss: 0.1850 - acc: 0.9525 - val_loss: 0.9666 - val_acc: 0.8040\n",
            "Epoch 13/20\n",
            "7982/7982 [==============================] - 1s 63us/step - loss: 0.1676 - acc: 0.9531 - val_loss: 0.9396 - val_acc: 0.8080\n",
            "Epoch 14/20\n",
            "7982/7982 [==============================] - 0s 61us/step - loss: 0.1546 - acc: 0.9543 - val_loss: 0.9583 - val_acc: 0.8080\n",
            "Epoch 15/20\n",
            "7982/7982 [==============================] - 0s 61us/step - loss: 0.1429 - acc: 0.9558 - val_loss: 1.0068 - val_acc: 0.8120\n",
            "Epoch 16/20\n",
            "7982/7982 [==============================] - 0s 63us/step - loss: 0.1392 - acc: 0.9551 - val_loss: 0.9929 - val_acc: 0.8120\n",
            "Epoch 17/20\n",
            "7982/7982 [==============================] - 0s 62us/step - loss: 0.1262 - acc: 0.9563 - val_loss: 1.0215 - val_acc: 0.8030\n",
            "Epoch 18/20\n",
            "7982/7982 [==============================] - 0s 61us/step - loss: 0.1231 - acc: 0.9579 - val_loss: 1.0250 - val_acc: 0.8030\n",
            "Epoch 19/20\n",
            "7982/7982 [==============================] - 0s 62us/step - loss: 0.1197 - acc: 0.9583 - val_loss: 1.0356 - val_acc: 0.8010\n",
            "Epoch 20/20\n",
            "7982/7982 [==============================] - 1s 64us/step - loss: 0.1157 - acc: 0.9564 - val_loss: 1.1201 - val_acc: 0.7980\n"
          ],
          "name": "stdout"
        }
      ]
    },
    {
      "cell_type": "markdown",
      "metadata": {
        "id": "ifW5Z0ZAfQGp",
        "colab_type": "text"
      },
      "source": [
        "## Plotting"
      ]
    },
    {
      "cell_type": "code",
      "metadata": {
        "id": "ib__eYNseHsE",
        "colab_type": "code",
        "colab": {}
      },
      "source": [
        "import matplotlib.pyplot as plt\n",
        "%matplotlib inline"
      ],
      "execution_count": 0,
      "outputs": []
    },
    {
      "cell_type": "code",
      "metadata": {
        "id": "o8xDvFIgfYJ_",
        "colab_type": "code",
        "outputId": "0a71ebe0-c6ac-4034-f06b-5a4bbaa6e3c8",
        "colab": {
          "base_uri": "https://localhost:8080/",
          "height": 34
        }
      },
      "source": [
        "history_dict = history.history\n",
        "history_dict.keys()"
      ],
      "execution_count": 22,
      "outputs": [
        {
          "output_type": "execute_result",
          "data": {
            "text/plain": [
              "dict_keys(['val_loss', 'val_acc', 'loss', 'acc'])"
            ]
          },
          "metadata": {
            "tags": []
          },
          "execution_count": 22
        }
      ]
    },
    {
      "cell_type": "code",
      "metadata": {
        "id": "BgPdIkbufx6p",
        "colab_type": "code",
        "colab": {}
      },
      "source": [
        "range_epochs = range(1, len(history_dict['loss']) + 1)"
      ],
      "execution_count": 0,
      "outputs": []
    },
    {
      "cell_type": "code",
      "metadata": {
        "id": "0SToUEuOgEe-",
        "colab_type": "code",
        "outputId": "1c797c2b-4d52-4e12-d3c4-644c1089c6c7",
        "colab": {
          "base_uri": "https://localhost:8080/",
          "height": 34
        }
      },
      "source": [
        "range_epochs"
      ],
      "execution_count": 24,
      "outputs": [
        {
          "output_type": "execute_result",
          "data": {
            "text/plain": [
              "range(1, 21)"
            ]
          },
          "metadata": {
            "tags": []
          },
          "execution_count": 24
        }
      ]
    },
    {
      "cell_type": "code",
      "metadata": {
        "id": "guD0qFh4gIg1",
        "colab_type": "code",
        "outputId": "60e6ddfb-7723-439b-b4bd-cd2220453db9",
        "colab": {
          "base_uri": "https://localhost:8080/",
          "height": 295
        }
      },
      "source": [
        "plt.plot(range_epochs, history_dict['loss'],'b', label='training loss')\n",
        "plt.plot(range_epochs, history_dict['val_loss'], 'bo', label='validation loss')\n",
        "plt.title('Training and validation loss')\n",
        "plt.xlabel('epoch')\n",
        "plt.ylabel('loss')\n",
        "plt.legend()\n",
        "plt.show()"
      ],
      "execution_count": 25,
      "outputs": [
        {
          "output_type": "display_data",
          "data": {
            "image/png": "[encoded data removed]",
            "text/plain": [
              "<Figure size 432x288 with 1 Axes>"
            ]
          },
          "metadata": {
            "tags": []
          }
        }
      ]
    },
    {
      "cell_type": "code",
      "metadata": {
        "id": "4CSbwnhcgjVr",
        "colab_type": "code",
        "outputId": "66db825c-1147-46dc-bd23-875f59663bb9",
        "colab": {
          "base_uri": "https://localhost:8080/",
          "height": 295
        }
      },
      "source": [
        "plt.plot(range_epochs, history_dict['acc'],'b', label='training acc')\n",
        "plt.plot(range_epochs, history_dict['val_acc'], 'bo', label='validation acc')\n",
        "plt.title('Training and validation acc')\n",
        "plt.xlabel('epoch')\n",
        "plt.ylabel('acc')\n",
        "plt.legend()\n",
        "plt.show()"
      ],
      "execution_count": 26,
      "outputs": [
        {
          "output_type": "display_data",
          "data": {
            "image/png": "[encoded data removed]",
            "text/plain": [
              "<Figure size 432x288 with 1 Axes>"
            ]
          },
          "metadata": {
            "tags": []
          }
        }
      ]
    },
    {
      "cell_type": "markdown",
      "metadata": {
        "id": "XJx7sgLTj1pJ",
        "colab_type": "text"
      },
      "source": [
        "## retrain on 9 epochs"
      ]
    },
    {
      "cell_type": "code",
      "metadata": {
        "id": "UWKcRSpJhc4y",
        "colab_type": "code",
        "outputId": "d1595892-8585-48c4-f911-2a117786f7b4",
        "colab": {
          "base_uri": "https://localhost:8080/",
          "height": 340
        }
      },
      "source": [
        "model.fit(x=X_train, y=one_hot_train_labels, batch_size=512,epochs=9)"
      ],
      "execution_count": 27,
      "outputs": [
        {
          "output_type": "stream",
          "text": [
            "Epoch 1/9\n",
            "8982/8982 [==============================] - 1s 59us/step - loss: 0.2106 - acc: 0.9414\n",
            "Epoch 2/9\n",
            "8982/8982 [==============================] - 1s 58us/step - loss: 0.1697 - acc: 0.9481\n",
            "Epoch 3/9\n",
            "8982/8982 [==============================] - 1s 58us/step - loss: 0.1548 - acc: 0.9486\n",
            "Epoch 4/9\n",
            "8982/8982 [==============================] - 1s 58us/step - loss: 0.1346 - acc: 0.9530\n",
            "Epoch 5/9\n",
            "8982/8982 [==============================] - 1s 57us/step - loss: 0.1294 - acc: 0.9541\n",
            "Epoch 6/9\n",
            "8982/8982 [==============================] - 1s 57us/step - loss: 0.1189 - acc: 0.9570\n",
            "Epoch 7/9\n",
            "8982/8982 [==============================] - 1s 57us/step - loss: 0.1217 - acc: 0.9557\n",
            "Epoch 8/9\n",
            "8982/8982 [==============================] - 1s 57us/step - loss: 0.1140 - acc: 0.9569\n",
            "Epoch 9/9\n",
            "8982/8982 [==============================] - 1s 57us/step - loss: 0.1167 - acc: 0.9557\n"
          ],
          "name": "stdout"
        },
        {
          "output_type": "execute_result",
          "data": {
            "text/plain": [
              "<keras.callbacks.History at 0x7f7dc2736048>"
            ]
          },
          "metadata": {
            "tags": []
          },
          "execution_count": 27
        }
      ]
    },
    {
      "cell_type": "code",
      "metadata": {
        "id": "ORmjRN9AkJ2m",
        "colab_type": "code",
        "outputId": "c521b00b-491a-470b-9bd0-25b671405f59",
        "colab": {
          "base_uri": "https://localhost:8080/",
          "height": 34
        }
      },
      "source": [
        "results = model.evaluate(x=X_test, y=one_hot_test_labels)"
      ],
      "execution_count": 28,
      "outputs": [
        {
          "output_type": "stream",
          "text": [
            "2246/2246 [==============================] - 0s 91us/step\n"
          ],
          "name": "stdout"
        }
      ]
    },
    {
      "cell_type": "code",
      "metadata": {
        "id": "o59VlPzvkkWe",
        "colab_type": "code",
        "outputId": "4f6a89fa-5457-4822-9cbd-69afc737095b",
        "colab": {
          "base_uri": "https://localhost:8080/",
          "height": 34
        }
      },
      "source": [
        "results"
      ],
      "execution_count": 29,
      "outputs": [
        {
          "output_type": "execute_result",
          "data": {
            "text/plain": [
              "[1.2454336581225918, 0.7880676758682101]"
            ]
          },
          "metadata": {
            "tags": []
          },
          "execution_count": 29
        }
      ]
    },
    {
      "cell_type": "markdown",
      "metadata": {
        "id": "ETd6SVBUlyWW",
        "colab_type": "text"
      },
      "source": [
        "## Predictions on new data"
      ]
    },
    {
      "cell_type": "code",
      "metadata": {
        "id": "AdE2rvCSksee",
        "colab_type": "code",
        "colab": {}
      },
      "source": [
        "predictions = model.predict(X_test)"
      ],
      "execution_count": 0,
      "outputs": []
    },
    {
      "cell_type": "code",
      "metadata": {
        "id": "X08G9SGsmfMF",
        "colab_type": "code",
        "outputId": "430a7b5e-bc8c-4ad7-f284-01d27eed476a",
        "colab": {
          "base_uri": "https://localhost:8080/",
          "height": 238
        }
      },
      "source": [
        "predictions"
      ],
      "execution_count": 31,
      "outputs": [
        {
          "output_type": "execute_result",
          "data": {
            "text/plain": [
              "array([[1.8698333e-06, 2.0714793e-05, 1.0925443e-06, ..., 1.0447886e-09,\n",
              "        2.5731446e-12, 8.4620787e-08],\n",
              "       [2.0043772e-04, 1.2095858e-02, 8.8654459e-02, ..., 1.6090563e-02,\n",
              "        1.4859325e-10, 1.0249543e-03],\n",
              "       [8.8609848e-03, 9.2905235e-01, 5.6959182e-04, ..., 1.9564573e-05,\n",
              "        1.8244398e-05, 4.6102281e-04],\n",
              "       ...,\n",
              "       [8.3360317e-07, 2.3427356e-05, 1.4894030e-07, ..., 3.6356414e-11,\n",
              "        4.2671580e-10, 1.1680429e-07],\n",
              "       [3.7473671e-03, 1.8502021e-01, 1.8312879e-03, ..., 5.8646554e-05,\n",
              "        9.1831026e-07, 1.4579894e-04],\n",
              "       [9.8530079e-05, 3.8884747e-01, 3.8946770e-02, ..., 2.7254511e-05,\n",
              "        3.8602175e-06, 3.1612828e-05]], dtype=float32)"
            ]
          },
          "metadata": {
            "tags": []
          },
          "execution_count": 31
        }
      ]
    },
    {
      "cell_type": "code",
      "metadata": {
        "id": "rj4ecuaamgcF",
        "colab_type": "code",
        "outputId": "17793625-ac0e-4d94-e567-049a4426c859",
        "colab": {
          "base_uri": "https://localhost:8080/",
          "height": 34
        }
      },
      "source": [
        "predictions[0].shape"
      ],
      "execution_count": 32,
      "outputs": [
        {
          "output_type": "execute_result",
          "data": {
            "text/plain": [
              "(46,)"
            ]
          },
          "metadata": {
            "tags": []
          },
          "execution_count": 32
        }
      ]
    },
    {
      "cell_type": "code",
      "metadata": {
        "id": "Q6kjB4hymn4k",
        "colab_type": "code",
        "outputId": "fde6a5fe-38f2-4e02-d159-cf8ca7a08b30",
        "colab": {
          "base_uri": "https://localhost:8080/",
          "height": 34
        }
      },
      "source": [
        "np.sum(predictions[0])"
      ],
      "execution_count": 33,
      "outputs": [
        {
          "output_type": "execute_result",
          "data": {
            "text/plain": [
              "0.99999976"
            ]
          },
          "metadata": {
            "tags": []
          },
          "execution_count": 33
        }
      ]
    },
    {
      "cell_type": "code",
      "metadata": {
        "id": "4dOz5Hk1mub2",
        "colab_type": "code",
        "outputId": "b559f8b9-4419-48f2-c4f7-9c1ea24a20d4",
        "colab": {
          "base_uri": "https://localhost:8080/",
          "height": 34
        }
      },
      "source": [
        "np.argmax(predictions[0])"
      ],
      "execution_count": 34,
      "outputs": [
        {
          "output_type": "execute_result",
          "data": {
            "text/plain": [
              "3"
            ]
          },
          "metadata": {
            "tags": []
          },
          "execution_count": 34
        }
      ]
    },
    {
      "cell_type": "markdown",
      "metadata": {
        "id": "isFf9YO2qDo_",
        "colab_type": "text"
      },
      "source": [
        "## information bottleneck"
      ]
    },
    {
      "cell_type": "code",
      "metadata": {
        "id": "uSeFUfJ3mzg9",
        "colab_type": "code",
        "colab": {}
      },
      "source": [
        "model = models.Sequential()\n",
        "model.add(layer=layers.Dense(units=64,activation='relu', input_shape=(10000,)))\n",
        "model.add(layer=layers.Dense(units=4, activation='relu'))\n",
        "model.add(layer=layers.Dense(units=46, activation='softmax'))"
      ],
      "execution_count": 0,
      "outputs": []
    },
    {
      "cell_type": "code",
      "metadata": {
        "id": "kt8OLT6JqxZF",
        "colab_type": "code",
        "colab": {}
      },
      "source": [
        "model.compile(optimizer='rmsprop',loss='categorical_crossentropy',metrics=['accuracy'])"
      ],
      "execution_count": 0,
      "outputs": []
    },
    {
      "cell_type": "code",
      "metadata": {
        "id": "5gcIUBxkrcN1",
        "colab_type": "code",
        "outputId": "faecacc9-da69-400a-8464-7ebc1dab7482",
        "colab": {
          "base_uri": "https://localhost:8080/",
          "height": 731
        }
      },
      "source": [
        "model.fit(x=X_partial_train,y=y_partial_train,batch_size=512,epochs=20,validation_data=(X_val, y_val))"
      ],
      "execution_count": 37,
      "outputs": [
        {
          "output_type": "stream",
          "text": [
            "Train on 7982 samples, validate on 1000 samples\n",
            "Epoch 1/20\n",
            "7982/7982 [==============================] - 1s 88us/step - loss: 3.3816 - acc: 0.2169 - val_loss: 2.9844 - val_acc: 0.5740\n",
            "Epoch 2/20\n",
            "7982/7982 [==============================] - 0s 62us/step - loss: 2.6350 - acc: 0.6061 - val_loss: 2.3537 - val_acc: 0.6180\n",
            "Epoch 3/20\n",
            "7982/7982 [==============================] - 0s 61us/step - loss: 2.0374 - acc: 0.6516 - val_loss: 1.9100 - val_acc: 0.6310\n",
            "Epoch 4/20\n",
            "7982/7982 [==============================] - 0s 62us/step - loss: 1.6470 - acc: 0.6739 - val_loss: 1.6569 - val_acc: 0.6520\n",
            "Epoch 5/20\n",
            "7982/7982 [==============================] - 0s 61us/step - loss: 1.4142 - acc: 0.6944 - val_loss: 1.5083 - val_acc: 0.6730\n",
            "Epoch 6/20\n",
            "7982/7982 [==============================] - 1s 63us/step - loss: 1.2617 - acc: 0.7112 - val_loss: 1.4312 - val_acc: 0.6770\n",
            "Epoch 7/20\n",
            "7982/7982 [==============================] - 0s 61us/step - loss: 1.1552 - acc: 0.7230 - val_loss: 1.3833 - val_acc: 0.6880\n",
            "Epoch 8/20\n",
            "7982/7982 [==============================] - 0s 62us/step - loss: 1.0734 - acc: 0.7311 - val_loss: 1.3459 - val_acc: 0.6930\n",
            "Epoch 9/20\n",
            "7982/7982 [==============================] - 0s 60us/step - loss: 1.0061 - acc: 0.7415 - val_loss: 1.3146 - val_acc: 0.6970\n",
            "Epoch 10/20\n",
            "7982/7982 [==============================] - 0s 62us/step - loss: 0.9492 - acc: 0.7539 - val_loss: 1.3057 - val_acc: 0.6950\n",
            "Epoch 11/20\n",
            "7982/7982 [==============================] - 1s 64us/step - loss: 0.9011 - acc: 0.7656 - val_loss: 1.3084 - val_acc: 0.6960\n",
            "Epoch 12/20\n",
            "7982/7982 [==============================] - 0s 61us/step - loss: 0.8567 - acc: 0.7736 - val_loss: 1.2888 - val_acc: 0.7000\n",
            "Epoch 13/20\n",
            "7982/7982 [==============================] - 1s 65us/step - loss: 0.8165 - acc: 0.7804 - val_loss: 1.2869 - val_acc: 0.7030\n",
            "Epoch 14/20\n",
            "7982/7982 [==============================] - 1s 63us/step - loss: 0.7799 - acc: 0.7841 - val_loss: 1.2788 - val_acc: 0.7020\n",
            "Epoch 15/20\n",
            "7982/7982 [==============================] - 1s 63us/step - loss: 0.7454 - acc: 0.7928 - val_loss: 1.3001 - val_acc: 0.6970\n",
            "Epoch 16/20\n",
            "7982/7982 [==============================] - 0s 62us/step - loss: 0.7146 - acc: 0.7995 - val_loss: 1.2957 - val_acc: 0.7060\n",
            "Epoch 17/20\n",
            "7982/7982 [==============================] - 0s 62us/step - loss: 0.6840 - acc: 0.8058 - val_loss: 1.3306 - val_acc: 0.7040\n",
            "Epoch 18/20\n",
            "7982/7982 [==============================] - 0s 60us/step - loss: 0.6569 - acc: 0.8111 - val_loss: 1.3222 - val_acc: 0.6990\n",
            "Epoch 19/20\n",
            "7982/7982 [==============================] - 0s 62us/step - loss: 0.6308 - acc: 0.8168 - val_loss: 1.3311 - val_acc: 0.7090\n",
            "Epoch 20/20\n",
            "7982/7982 [==============================] - 0s 61us/step - loss: 0.6069 - acc: 0.8272 - val_loss: 1.3318 - val_acc: 0.7120\n"
          ],
          "name": "stdout"
        },
        {
          "output_type": "execute_result",
          "data": {
            "text/plain": [
              "<keras.callbacks.History at 0x7f7dc2fa6908>"
            ]
          },
          "metadata": {
            "tags": []
          },
          "execution_count": 37
        }
      ]
    },
    {
      "cell_type": "markdown",
      "metadata": {
        "id": "f8on00zipeAa",
        "colab_type": "text"
      },
      "source": [
        "## 32 units"
      ]
    },
    {
      "cell_type": "code",
      "metadata": {
        "id": "vepm2D5PsJZi",
        "colab_type": "code",
        "colab": {}
      },
      "source": [
        "model = models.Sequential()\n",
        "model.add(layer=layers.Dense(units=32,activation='relu', input_shape=(10000,)))\n",
        "model.add(layer=layers.Dense(units=32, activation='relu'))\n",
        "model.add(layer=layers.Dense(units=46, activation='softmax'))"
      ],
      "execution_count": 0,
      "outputs": []
    },
    {
      "cell_type": "code",
      "metadata": {
        "id": "3VVktFpiqZyb",
        "colab_type": "code",
        "colab": {}
      },
      "source": [
        "model.compile(optimizer='rmsprop', loss='categorical_crossentropy', metrics=['accuracy'])"
      ],
      "execution_count": 0,
      "outputs": []
    },
    {
      "cell_type": "code",
      "metadata": {
        "id": "XNSMpbgMq6e1",
        "colab_type": "code",
        "colab": {
          "base_uri": "https://localhost:8080/",
          "height": 731
        },
        "outputId": "c28716b5-736e-440c-8257-e82149f0deee"
      },
      "source": [
        "model.fit(x=X_partial_train, y=y_partial_train, batch_size=512,epochs=20,validation_data=(X_val, y_val))"
      ],
      "execution_count": 41,
      "outputs": [
        {
          "output_type": "stream",
          "text": [
            "Train on 7982 samples, validate on 1000 samples\n",
            "Epoch 1/20\n",
            "7982/7982 [==============================] - 1s 91us/step - loss: 3.0574 - acc: 0.4818 - val_loss: 2.2592 - val_acc: 0.5880\n",
            "Epoch 2/20\n",
            "7982/7982 [==============================] - 0s 59us/step - loss: 1.8668 - acc: 0.6477 - val_loss: 1.6195 - val_acc: 0.6590\n",
            "Epoch 3/20\n",
            "7982/7982 [==============================] - 0s 58us/step - loss: 1.3945 - acc: 0.7092 - val_loss: 1.3603 - val_acc: 0.6940\n",
            "Epoch 4/20\n",
            "7982/7982 [==============================] - 0s 60us/step - loss: 1.1395 - acc: 0.7503 - val_loss: 1.2254 - val_acc: 0.7280\n",
            "Epoch 5/20\n",
            "7982/7982 [==============================] - 0s 58us/step - loss: 0.9665 - acc: 0.7897 - val_loss: 1.1336 - val_acc: 0.7480\n",
            "Epoch 6/20\n",
            "7982/7982 [==============================] - 0s 59us/step - loss: 0.8284 - acc: 0.8167 - val_loss: 1.0643 - val_acc: 0.7710\n",
            "Epoch 7/20\n",
            "7982/7982 [==============================] - 0s 59us/step - loss: 0.7155 - acc: 0.8408 - val_loss: 1.0233 - val_acc: 0.7760\n",
            "Epoch 8/20\n",
            "7982/7982 [==============================] - 0s 61us/step - loss: 0.6171 - acc: 0.8599 - val_loss: 1.0018 - val_acc: 0.7860\n",
            "Epoch 9/20\n",
            "7982/7982 [==============================] - 0s 59us/step - loss: 0.5334 - acc: 0.8835 - val_loss: 0.9594 - val_acc: 0.7940\n",
            "Epoch 10/20\n",
            "7982/7982 [==============================] - 0s 60us/step - loss: 0.4653 - acc: 0.8979 - val_loss: 0.9507 - val_acc: 0.7950\n",
            "Epoch 11/20\n",
            "7982/7982 [==============================] - 0s 59us/step - loss: 0.4025 - acc: 0.9123 - val_loss: 0.9295 - val_acc: 0.8060\n",
            "Epoch 12/20\n",
            "7982/7982 [==============================] - 0s 58us/step - loss: 0.3504 - acc: 0.9232 - val_loss: 0.9355 - val_acc: 0.8150\n",
            "Epoch 13/20\n",
            "7982/7982 [==============================] - 0s 59us/step - loss: 0.3079 - acc: 0.9327 - val_loss: 0.9234 - val_acc: 0.8150\n",
            "Epoch 14/20\n",
            "7982/7982 [==============================] - 0s 57us/step - loss: 0.2718 - acc: 0.9390 - val_loss: 0.9255 - val_acc: 0.8120\n",
            "Epoch 15/20\n",
            "7982/7982 [==============================] - 0s 60us/step - loss: 0.2402 - acc: 0.9437 - val_loss: 0.9435 - val_acc: 0.8140\n",
            "Epoch 16/20\n",
            "7982/7982 [==============================] - 0s 58us/step - loss: 0.2149 - acc: 0.9470 - val_loss: 0.9622 - val_acc: 0.8020\n",
            "Epoch 17/20\n",
            "7982/7982 [==============================] - 0s 60us/step - loss: 0.1940 - acc: 0.9504 - val_loss: 0.9779 - val_acc: 0.8070\n",
            "Epoch 18/20\n",
            "7982/7982 [==============================] - 0s 59us/step - loss: 0.1764 - acc: 0.9513 - val_loss: 0.9670 - val_acc: 0.8080\n",
            "Epoch 19/20\n",
            "7982/7982 [==============================] - 0s 59us/step - loss: 0.1653 - acc: 0.9508 - val_loss: 0.9792 - val_acc: 0.8130\n",
            "Epoch 20/20\n",
            "7982/7982 [==============================] - 0s 57us/step - loss: 0.1519 - acc: 0.9530 - val_loss: 0.9877 - val_acc: 0.8090\n"
          ],
          "name": "stdout"
        },
        {
          "output_type": "execute_result",
          "data": {
            "text/plain": [
              "<keras.callbacks.History at 0x7f7dc35bfb38>"
            ]
          },
          "metadata": {
            "tags": []
          },
          "execution_count": 41
        }
      ]
    },
    {
      "cell_type": "markdown",
      "metadata": {
        "id": "7H5YmQKOsCLX",
        "colab_type": "text"
      },
      "source": [
        "## 128 units"
      ]
    },
    {
      "cell_type": "code",
      "metadata": {
        "id": "JfwIPCJ6rMGk",
        "colab_type": "code",
        "colab": {}
      },
      "source": [
        "model = models.Sequential()"
      ],
      "execution_count": 0,
      "outputs": []
    },
    {
      "cell_type": "code",
      "metadata": {
        "id": "JEF5kDVmsP1S",
        "colab_type": "code",
        "colab": {}
      },
      "source": [
        "model.add(layer=layers.Dense(units=128, activation='relu', input_shape=(10000,)))\n",
        "model.add(layer=layers.Dense(units=128,activation='relu'))\n",
        "model.add(layer=layers.Dense(units=46, activation='softmax'))"
      ],
      "execution_count": 0,
      "outputs": []
    },
    {
      "cell_type": "code",
      "metadata": {
        "id": "olhHlJ_osylZ",
        "colab_type": "code",
        "colab": {}
      },
      "source": [
        "model.compile(optimizer='rmsprop', loss='categorical_crossentropy', metrics=['accuracy'])"
      ],
      "execution_count": 0,
      "outputs": []
    },
    {
      "cell_type": "code",
      "metadata": {
        "id": "uvdrXPlHtCPj",
        "colab_type": "code",
        "colab": {
          "base_uri": "https://localhost:8080/",
          "height": 731
        },
        "outputId": "837eb83e-83e6-4b09-b7ce-29526904a547"
      },
      "source": [
        "model.fit(x=X_partial_train, y=y_partial_train, batch_size=512,epochs=20, validation_data=(X_val, y_val))"
      ],
      "execution_count": 46,
      "outputs": [
        {
          "output_type": "stream",
          "text": [
            "Train on 7982 samples, validate on 1000 samples\n",
            "Epoch 1/20\n",
            "7982/7982 [==============================] - 1s 103us/step - loss: 2.2294 - acc: 0.5479 - val_loss: 1.4265 - val_acc: 0.6810\n",
            "Epoch 2/20\n",
            "7982/7982 [==============================] - 1s 66us/step - loss: 1.1479 - acc: 0.7496 - val_loss: 1.1157 - val_acc: 0.7470\n",
            "Epoch 3/20\n",
            "7982/7982 [==============================] - 1s 65us/step - loss: 0.8032 - acc: 0.8289 - val_loss: 0.9735 - val_acc: 0.7980\n",
            "Epoch 4/20\n",
            "7982/7982 [==============================] - 1s 67us/step - loss: 0.5827 - acc: 0.8780 - val_loss: 0.8897 - val_acc: 0.8150\n",
            "Epoch 5/20\n",
            "7982/7982 [==============================] - 1s 69us/step - loss: 0.4231 - acc: 0.9131 - val_loss: 0.8573 - val_acc: 0.8270\n",
            "Epoch 6/20\n",
            "7982/7982 [==============================] - 1s 68us/step - loss: 0.3330 - acc: 0.9290 - val_loss: 0.8442 - val_acc: 0.8240\n",
            "Epoch 7/20\n",
            "7982/7982 [==============================] - 1s 65us/step - loss: 0.2597 - acc: 0.9420 - val_loss: 0.8787 - val_acc: 0.8190\n",
            "Epoch 8/20\n",
            "7982/7982 [==============================] - 1s 66us/step - loss: 0.2053 - acc: 0.9496 - val_loss: 0.8912 - val_acc: 0.8230\n",
            "Epoch 9/20\n",
            "7982/7982 [==============================] - 1s 65us/step - loss: 0.1893 - acc: 0.9518 - val_loss: 0.9100 - val_acc: 0.8160\n",
            "Epoch 10/20\n",
            "7982/7982 [==============================] - 1s 65us/step - loss: 0.1645 - acc: 0.9540 - val_loss: 0.9814 - val_acc: 0.8070\n",
            "Epoch 11/20\n",
            "7982/7982 [==============================] - 1s 66us/step - loss: 0.1502 - acc: 0.9568 - val_loss: 0.9723 - val_acc: 0.8070\n",
            "Epoch 12/20\n",
            "7982/7982 [==============================] - 1s 65us/step - loss: 0.1352 - acc: 0.9569 - val_loss: 1.0293 - val_acc: 0.8090\n",
            "Epoch 13/20\n",
            "7982/7982 [==============================] - 1s 66us/step - loss: 0.1370 - acc: 0.9568 - val_loss: 0.9566 - val_acc: 0.8060\n",
            "Epoch 14/20\n",
            "7982/7982 [==============================] - 1s 66us/step - loss: 0.1223 - acc: 0.9578 - val_loss: 0.9868 - val_acc: 0.8150\n",
            "Epoch 15/20\n",
            "7982/7982 [==============================] - 1s 65us/step - loss: 0.1199 - acc: 0.9569 - val_loss: 0.9886 - val_acc: 0.8200\n",
            "Epoch 16/20\n",
            "7982/7982 [==============================] - 1s 65us/step - loss: 0.1182 - acc: 0.9567 - val_loss: 1.0725 - val_acc: 0.8070\n",
            "Epoch 17/20\n",
            "7982/7982 [==============================] - 1s 67us/step - loss: 0.1174 - acc: 0.9585 - val_loss: 1.1305 - val_acc: 0.7960\n",
            "Epoch 18/20\n",
            "7982/7982 [==============================] - 1s 66us/step - loss: 0.1093 - acc: 0.9583 - val_loss: 1.0996 - val_acc: 0.8000\n",
            "Epoch 19/20\n",
            "7982/7982 [==============================] - 1s 66us/step - loss: 0.1116 - acc: 0.9580 - val_loss: 1.0850 - val_acc: 0.7970\n",
            "Epoch 20/20\n",
            "7982/7982 [==============================] - 1s 65us/step - loss: 0.1081 - acc: 0.9575 - val_loss: 1.0568 - val_acc: 0.8160\n"
          ],
          "name": "stdout"
        },
        {
          "output_type": "execute_result",
          "data": {
            "text/plain": [
              "<keras.callbacks.History at 0x7f7dc2e31c88>"
            ]
          },
          "metadata": {
            "tags": []
          },
          "execution_count": 46
        }
      ]
    },
    {
      "cell_type": "markdown",
      "metadata": {
        "id": "lYSF8AFttj_N",
        "colab_type": "text"
      },
      "source": [
        "result: the more neurons per layer, the better the val_acc"
      ]
    },
    {
      "cell_type": "markdown",
      "metadata": {
        "id": "FbZ9m9Fqttt0",
        "colab_type": "text"
      },
      "source": [
        "## one hidden layer"
      ]
    },
    {
      "cell_type": "code",
      "metadata": {
        "id": "sZOGgW1TtSkn",
        "colab_type": "code",
        "colab": {}
      },
      "source": [
        "model = models.Sequential()\n",
        "model.add(layer=layers.Dense(units=64, activation='relu', input_shape=(10000,)))\n",
        "model.add(layer=layers.Dense(units=46,activation='softmax'))"
      ],
      "execution_count": 0,
      "outputs": []
    },
    {
      "cell_type": "code",
      "metadata": {
        "id": "qhS0pF1Lu_az",
        "colab_type": "code",
        "colab": {}
      },
      "source": [
        "model.compile(optimizer='rmsprop', loss='categorical_crossentropy', metrics=['accuracy'])"
      ],
      "execution_count": 0,
      "outputs": []
    },
    {
      "cell_type": "code",
      "metadata": {
        "id": "_MTjacqDviRf",
        "colab_type": "code",
        "colab": {
          "base_uri": "https://localhost:8080/",
          "height": 731
        },
        "outputId": "dc28b1ba-b116-455f-b83b-eeaf4a238b32"
      },
      "source": [
        "model.fit(x=X_partial_train, y=y_partial_train,batch_size=512,epochs=20, validation_data=(X_val, y_val))"
      ],
      "execution_count": 50,
      "outputs": [
        {
          "output_type": "stream",
          "text": [
            "Train on 7982 samples, validate on 1000 samples\n",
            "Epoch 1/20\n",
            "7982/7982 [==============================] - 1s 92us/step - loss: 2.6006 - acc: 0.5811 - val_loss: 1.7974 - val_acc: 0.6610\n",
            "Epoch 2/20\n",
            "7982/7982 [==============================] - 0s 60us/step - loss: 1.4437 - acc: 0.7263 - val_loss: 1.3430 - val_acc: 0.7300\n",
            "Epoch 3/20\n",
            "7982/7982 [==============================] - 1s 63us/step - loss: 1.0479 - acc: 0.7912 - val_loss: 1.1406 - val_acc: 0.7650\n",
            "Epoch 4/20\n",
            "7982/7982 [==============================] - 0s 61us/step - loss: 0.8170 - acc: 0.8339 - val_loss: 1.0292 - val_acc: 0.7850\n",
            "Epoch 5/20\n",
            "7982/7982 [==============================] - 0s 61us/step - loss: 0.6573 - acc: 0.8683 - val_loss: 0.9547 - val_acc: 0.8050\n",
            "Epoch 6/20\n",
            "7982/7982 [==============================] - 0s 62us/step - loss: 0.5365 - acc: 0.8946 - val_loss: 0.9107 - val_acc: 0.8100\n",
            "Epoch 7/20\n",
            "7982/7982 [==============================] - 0s 62us/step - loss: 0.4424 - acc: 0.9114 - val_loss: 0.8752 - val_acc: 0.8120\n",
            "Epoch 8/20\n",
            "7982/7982 [==============================] - 0s 63us/step - loss: 0.3688 - acc: 0.9241 - val_loss: 0.8491 - val_acc: 0.8160\n",
            "Epoch 9/20\n",
            "7982/7982 [==============================] - 0s 60us/step - loss: 0.3090 - acc: 0.9351 - val_loss: 0.8360 - val_acc: 0.8230\n",
            "Epoch 10/20\n",
            "7982/7982 [==============================] - 0s 62us/step - loss: 0.2674 - acc: 0.9414 - val_loss: 0.8288 - val_acc: 0.8190\n",
            "Epoch 11/20\n",
            "7982/7982 [==============================] - 0s 61us/step - loss: 0.2297 - acc: 0.9449 - val_loss: 0.8334 - val_acc: 0.8240\n",
            "Epoch 12/20\n",
            "7982/7982 [==============================] - 1s 63us/step - loss: 0.2019 - acc: 0.9488 - val_loss: 0.8399 - val_acc: 0.8220\n",
            "Epoch 13/20\n",
            "7982/7982 [==============================] - 0s 61us/step - loss: 0.1784 - acc: 0.9501 - val_loss: 0.8423 - val_acc: 0.8220\n",
            "Epoch 14/20\n",
            "7982/7982 [==============================] - 0s 60us/step - loss: 0.1603 - acc: 0.9543 - val_loss: 0.8586 - val_acc: 0.8210\n",
            "Epoch 15/20\n",
            "7982/7982 [==============================] - 0s 60us/step - loss: 0.1467 - acc: 0.9558 - val_loss: 0.8663 - val_acc: 0.8160\n",
            "Epoch 16/20\n",
            "7982/7982 [==============================] - 0s 62us/step - loss: 0.1366 - acc: 0.9562 - val_loss: 0.8808 - val_acc: 0.8170\n",
            "Epoch 17/20\n",
            "7982/7982 [==============================] - 0s 62us/step - loss: 0.1279 - acc: 0.9570 - val_loss: 0.8980 - val_acc: 0.8150\n",
            "Epoch 18/20\n",
            "7982/7982 [==============================] - 0s 61us/step - loss: 0.1196 - acc: 0.9558 - val_loss: 0.9177 - val_acc: 0.8180\n",
            "Epoch 19/20\n",
            "7982/7982 [==============================] - 1s 63us/step - loss: 0.1134 - acc: 0.9574 - val_loss: 0.9186 - val_acc: 0.8140\n",
            "Epoch 20/20\n",
            "7982/7982 [==============================] - 0s 61us/step - loss: 0.1088 - acc: 0.9588 - val_loss: 0.9270 - val_acc: 0.8150\n"
          ],
          "name": "stdout"
        },
        {
          "output_type": "execute_result",
          "data": {
            "text/plain": [
              "<keras.callbacks.History at 0x7f7dc3dd0be0>"
            ]
          },
          "metadata": {
            "tags": []
          },
          "execution_count": 50
        }
      ]
    },
    {
      "cell_type": "markdown",
      "metadata": {
        "id": "0ttLZkRiwIIG",
        "colab_type": "text"
      },
      "source": [
        "### three hidden layers"
      ]
    },
    {
      "cell_type": "code",
      "metadata": {
        "id": "KDgfeIq1vty3",
        "colab_type": "code",
        "colab": {}
      },
      "source": [
        "model = models.Sequential()\n",
        "model.add(layer=layers.Dense(units=64, activation='relu', input_shape=(10000,)))\n",
        "model.add(layer=layers.Dense(units=64, activation='relu'))\n",
        "model.add(layer=layers.Dense(units=64, activation='relu'))\n",
        "model.add(layer=layers.Dense(units=46,activation='softmax'))"
      ],
      "execution_count": 0,
      "outputs": []
    },
    {
      "cell_type": "code",
      "metadata": {
        "id": "ZOVjXvaNxK9h",
        "colab_type": "code",
        "colab": {}
      },
      "source": [
        "model.compile(optimizer='rmsprop', loss='categorical_crossentropy', metrics=['accuracy'])"
      ],
      "execution_count": 0,
      "outputs": []
    },
    {
      "cell_type": "code",
      "metadata": {
        "id": "-VuePt_2xegW",
        "colab_type": "code",
        "colab": {
          "base_uri": "https://localhost:8080/",
          "height": 731
        },
        "outputId": "2ec3360c-e1b8-4c4e-d5da-36f980f8f6ca"
      },
      "source": [
        "model.fit(x=X_partial_train, y=y_partial_train, batch_size=512,epochs=20,validation_data=(X_partial_train, y_partial_train))"
      ],
      "execution_count": 54,
      "outputs": [
        {
          "output_type": "stream",
          "text": [
            "Train on 7982 samples, validate on 7982 samples\n",
            "Epoch 1/20\n",
            "7982/7982 [==============================] - 1s 147us/step - loss: 2.7823 - acc: 0.4148 - val_loss: 1.6199 - val_acc: 0.6869\n",
            "Epoch 2/20\n",
            "7982/7982 [==============================] - 1s 102us/step - loss: 1.3881 - acc: 0.6994 - val_loss: 1.1362 - val_acc: 0.7494\n",
            "Epoch 3/20\n",
            "7982/7982 [==============================] - 1s 105us/step - loss: 1.0392 - acc: 0.7662 - val_loss: 0.8687 - val_acc: 0.8007\n",
            "Epoch 4/20\n",
            "7982/7982 [==============================] - 1s 104us/step - loss: 0.8307 - acc: 0.8098 - val_loss: 0.7005 - val_acc: 0.8375\n",
            "Epoch 5/20\n",
            "7982/7982 [==============================] - 1s 104us/step - loss: 0.6606 - acc: 0.8548 - val_loss: 0.5535 - val_acc: 0.8812\n",
            "Epoch 6/20\n",
            "7982/7982 [==============================] - 1s 102us/step - loss: 0.5205 - acc: 0.8846 - val_loss: 0.4296 - val_acc: 0.9092\n",
            "Epoch 7/20\n",
            "7982/7982 [==============================] - 1s 105us/step - loss: 0.4334 - acc: 0.9092 - val_loss: 0.3410 - val_acc: 0.9263\n",
            "Epoch 8/20\n",
            "7982/7982 [==============================] - 1s 104us/step - loss: 0.3466 - acc: 0.9295 - val_loss: 0.2759 - val_acc: 0.9421\n",
            "Epoch 9/20\n",
            "7982/7982 [==============================] - 1s 103us/step - loss: 0.2824 - acc: 0.9379 - val_loss: 0.2393 - val_acc: 0.9469\n",
            "Epoch 10/20\n",
            "7982/7982 [==============================] - 1s 105us/step - loss: 0.2481 - acc: 0.9448 - val_loss: 0.1805 - val_acc: 0.9590\n",
            "Epoch 11/20\n",
            "7982/7982 [==============================] - 1s 104us/step - loss: 0.2136 - acc: 0.9498 - val_loss: 0.2057 - val_acc: 0.9541\n",
            "Epoch 12/20\n",
            "7982/7982 [==============================] - 1s 101us/step - loss: 0.1878 - acc: 0.9525 - val_loss: 0.1496 - val_acc: 0.9622\n",
            "Epoch 13/20\n",
            "7982/7982 [==============================] - 1s 102us/step - loss: 0.1709 - acc: 0.9544 - val_loss: 0.1504 - val_acc: 0.9612\n",
            "Epoch 14/20\n",
            "7982/7982 [==============================] - 1s 103us/step - loss: 0.1559 - acc: 0.9559 - val_loss: 0.1555 - val_acc: 0.9617\n",
            "Epoch 15/20\n",
            "7982/7982 [==============================] - 1s 103us/step - loss: 0.1573 - acc: 0.9559 - val_loss: 0.1193 - val_acc: 0.9667\n",
            "Epoch 16/20\n",
            "7982/7982 [==============================] - 1s 103us/step - loss: 0.1469 - acc: 0.9560 - val_loss: 0.1124 - val_acc: 0.9671\n",
            "Epoch 17/20\n",
            "7982/7982 [==============================] - 1s 104us/step - loss: 0.1337 - acc: 0.9573 - val_loss: 0.1094 - val_acc: 0.9659\n",
            "Epoch 18/20\n",
            "7982/7982 [==============================] - 1s 104us/step - loss: 0.1323 - acc: 0.9593 - val_loss: 0.0998 - val_acc: 0.9677\n",
            "Epoch 19/20\n",
            "7982/7982 [==============================] - 1s 103us/step - loss: 0.1312 - acc: 0.9578 - val_loss: 0.0952 - val_acc: 0.9674\n",
            "Epoch 20/20\n",
            "7982/7982 [==============================] - 1s 103us/step - loss: 0.1237 - acc: 0.9568 - val_loss: 0.0967 - val_acc: 0.9684\n"
          ],
          "name": "stdout"
        },
        {
          "output_type": "execute_result",
          "data": {
            "text/plain": [
              "<keras.callbacks.History at 0x7f7dc3e817f0>"
            ]
          },
          "metadata": {
            "tags": []
          },
          "execution_count": 54
        }
      ]
    },
    {
      "cell_type": "markdown",
      "metadata": {
        "id": "RVhdnNxsyE91",
        "colab_type": "text"
      },
      "source": [
        "result: the more layers, the better the val_acc"
      ]
    },
    {
      "cell_type": "code",
      "metadata": {
        "id": "-kA7ksZjxypG",
        "colab_type": "code",
        "colab": {}
      },
      "source": [
        ""
      ],
      "execution_count": 0,
      "outputs": []
    }
  ]
}