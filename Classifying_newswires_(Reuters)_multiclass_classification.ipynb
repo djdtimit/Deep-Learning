{
  "nbformat": 4,
  "nbformat_minor": 0,
  "metadata": {
    "colab": {
      "name": "Classifying_newswires_(Reuters)_multiclass_classification.ipynb",
      "version": "0.3.2",
      "provenance": [],
      "collapsed_sections": [],
      "include_colab_link": true
    },
    "kernelspec": {
      "name": "python3",
      "display_name": "Python 3"
    },
    "accelerator": "GPU"
  },
  "cells": [
    {
      "cell_type": "markdown",
      "metadata": {
        "id": "view-in-github",
        "colab_type": "text"
      },
      "source": [
        "<a href=\"https://colab.research.google.com/github/djdtimit/Deep-Learning/blob/master/Classifying_newswires_(Reuters)_multiclass_classification.ipynb\" target=\"_parent\"><img src=\"https://colab.research.google.com/assets/colab-badge.svg\" alt=\"Open In Colab\"/></a>"
      ]
    },
    {
      "cell_type": "markdown",
      "metadata": {
        "id": "XwBVhfbVOr3p",
        "colab_type": "text"
      },
      "source": [
        "# Classifying newswires from Reuters"
      ]
    },
    {
      "cell_type": "markdown",
      "metadata": {
        "id": "7yqaoy9hS4us",
        "colab_type": "text"
      },
      "source": [
        "## the dataset"
      ]
    },
    {
      "cell_type": "code",
      "metadata": {
        "id": "7W-iJPS5O0BF",
        "colab_type": "code",
        "colab": {}
      },
      "source": [
        "import keras"
      ],
      "execution_count": 0,
      "outputs": []
    },
    {
      "cell_type": "code",
      "metadata": {
        "id": "DxwRCKojQrcs",
        "colab_type": "code",
        "colab": {}
      },
      "source": [
        "from keras.datasets import reuters"
      ],
      "execution_count": 0,
      "outputs": []
    },
    {
      "cell_type": "code",
      "metadata": {
        "id": "IJl_8Bs9Q7Pl",
        "colab_type": "code",
        "colab": {}
      },
      "source": [
        "(train_data, train_labels), (test_data, test_labels) = reuters.load_data(num_words=10000)"
      ],
      "execution_count": 0,
      "outputs": []
    },
    {
      "cell_type": "code",
      "metadata": {
        "id": "NNEH0zm3RM7y",
        "colab_type": "code",
        "outputId": "5a78d75b-2e71-4788-e78c-a7b9c60344c5",
        "colab": {
          "base_uri": "https://localhost:8080/",
          "height": 173
        }
      },
      "source": [
        "train_data"
      ],
      "execution_count": 125,
      "outputs": [
        {
          "output_type": "execute_result",
          "data": {
            "text/plain": [
              "array([list([1, 2, 2, 8, 43, 10, 447, 5, 25, 207, 270, 5, 3095, 111, 16, 369, 186, 90, 67, 7, 89, 5, 19, 102, 6, 19, 124, 15, 90, 67, 84, 22, 482, 26, 7, 48, 4, 49, 8, 864, 39, 209, 154, 6, 151, 6, 83, 11, 15, 22, 155, 11, 15, 7, 48, 9, 4579, 1005, 504, 6, 258, 6, 272, 11, 15, 22, 134, 44, 11, 15, 16, 8, 197, 1245, 90, 67, 52, 29, 209, 30, 32, 132, 6, 109, 15, 17, 12]),\n",
              "       list([1, 3267, 699, 3434, 2295, 56, 2, 7511, 9, 56, 3906, 1073, 81, 5, 1198, 57, 366, 737, 132, 20, 4093, 7, 2, 49, 2295, 2, 1037, 3267, 699, 3434, 8, 7, 10, 241, 16, 855, 129, 231, 783, 5, 4, 587, 2295, 2, 2, 775, 7, 48, 34, 191, 44, 35, 1795, 505, 17, 12]),\n",
              "       list([1, 53, 12, 284, 15, 14, 272, 26, 53, 959, 32, 818, 15, 14, 272, 26, 39, 684, 70, 11, 14, 12, 3886, 18, 180, 183, 187, 70, 11, 14, 102, 32, 11, 29, 53, 44, 704, 15, 14, 19, 758, 15, 53, 959, 47, 1013, 15, 14, 19, 132, 15, 39, 965, 32, 11, 14, 147, 72, 11, 180, 183, 187, 44, 11, 14, 102, 19, 11, 123, 186, 90, 67, 960, 4, 78, 13, 68, 467, 511, 110, 59, 89, 90, 67, 1390, 55, 2678, 92, 617, 80, 1274, 46, 905, 220, 13, 4, 346, 48, 235, 629, 5, 211, 5, 1118, 7, 2, 81, 5, 187, 11, 15, 9, 1709, 201, 5, 47, 3615, 18, 478, 4514, 5, 1118, 7, 232, 2, 71, 5, 160, 63, 11, 9, 2, 81, 5, 102, 59, 11, 17, 12]),\n",
              "       ...,\n",
              "       list([1, 141, 3890, 387, 81, 8, 16, 1629, 10, 340, 1241, 850, 31, 56, 3890, 691, 9, 1241, 71, 9, 5985, 2, 2, 699, 2, 2, 2, 699, 244, 5945, 4, 49, 8, 4, 656, 850, 33, 2993, 9, 2139, 340, 3371, 1493, 9, 2, 22, 2, 1094, 687, 83, 35, 15, 257, 6, 57, 9190, 7, 4, 5956, 654, 5, 2, 6191, 1371, 4, 49, 8, 16, 369, 646, 6, 1076, 7, 124, 407, 17, 12]),\n",
              "       list([1, 53, 46, 957, 26, 14, 74, 132, 26, 39, 46, 258, 3614, 18, 14, 74, 134, 5131, 18, 88, 2321, 72, 11, 14, 1842, 32, 11, 123, 383, 89, 39, 46, 235, 10, 864, 728, 5, 258, 44, 11, 15, 22, 753, 9, 42, 92, 131, 728, 5, 69, 312, 11, 15, 22, 222, 2, 3237, 383, 48, 39, 74, 235, 10, 864, 276, 5, 61, 32, 11, 15, 21, 4, 211, 5, 126, 1072, 42, 92, 131, 46, 19, 352, 11, 15, 22, 710, 220, 9, 42, 92, 131, 276, 5, 59, 61, 11, 15, 22, 10, 455, 7, 1172, 137, 336, 1325, 6, 1532, 142, 971, 6463, 43, 359, 5, 4, 326, 753, 364, 17, 12]),\n",
              "       list([1, 227, 2406, 91, 2, 125, 2855, 21, 4, 3976, 76, 7, 4, 757, 481, 3976, 790, 5259, 5654, 9, 111, 149, 8, 7, 10, 76, 223, 51, 4, 417, 8, 1047, 91, 6917, 1688, 340, 7, 194, 9411, 6, 1894, 21, 127, 2151, 2394, 1456, 6, 3034, 4, 329, 433, 7, 65, 87, 1127, 10, 8219, 1475, 290, 9, 21, 567, 16, 1926, 24, 4, 76, 209, 30, 4033, 6655, 5654, 8, 4, 60, 8, 4, 966, 308, 40, 2575, 129, 2, 295, 277, 1071, 9, 24, 286, 2114, 234, 222, 9, 4, 906, 3994, 8519, 114, 5758, 1752, 7, 4, 113, 17, 12])],\n",
              "      dtype=object)"
            ]
          },
          "metadata": {
            "tags": []
          },
          "execution_count": 125
        }
      ]
    },
    {
      "cell_type": "code",
      "metadata": {
        "id": "UdYM136MRUZt",
        "colab_type": "code",
        "outputId": "fe3ebab3-b901-4db4-d246-e543c67a364c",
        "colab": {
          "base_uri": "https://localhost:8080/",
          "height": 34
        }
      },
      "source": [
        "train_labels"
      ],
      "execution_count": 126,
      "outputs": [
        {
          "output_type": "execute_result",
          "data": {
            "text/plain": [
              "array([ 3,  4,  3, ..., 25,  3, 25])"
            ]
          },
          "metadata": {
            "tags": []
          },
          "execution_count": 126
        }
      ]
    },
    {
      "cell_type": "code",
      "metadata": {
        "id": "BZRr06mTRW5-",
        "colab_type": "code",
        "outputId": "39e3a327-a8b0-4c72-df98-3cd6f989040b",
        "colab": {
          "base_uri": "https://localhost:8080/",
          "height": 34
        }
      },
      "source": [
        "len(train_data)"
      ],
      "execution_count": 127,
      "outputs": [
        {
          "output_type": "execute_result",
          "data": {
            "text/plain": [
              "8982"
            ]
          },
          "metadata": {
            "tags": []
          },
          "execution_count": 127
        }
      ]
    },
    {
      "cell_type": "code",
      "metadata": {
        "id": "HJsbs3kZRqTS",
        "colab_type": "code",
        "outputId": "63fbe38a-5dd7-45fa-9d67-5e041772a486",
        "colab": {
          "base_uri": "https://localhost:8080/",
          "height": 34
        }
      },
      "source": [
        "len(test_data)"
      ],
      "execution_count": 128,
      "outputs": [
        {
          "output_type": "execute_result",
          "data": {
            "text/plain": [
              "2246"
            ]
          },
          "metadata": {
            "tags": []
          },
          "execution_count": 128
        }
      ]
    },
    {
      "cell_type": "code",
      "metadata": {
        "id": "65K8upuPRsg6",
        "colab_type": "code",
        "outputId": "7ebb1f3c-4573-4147-df89-442de8cb0033",
        "colab": {
          "base_uri": "https://localhost:8080/",
          "height": 34
        }
      },
      "source": [
        "len(set(train_labels))"
      ],
      "execution_count": 129,
      "outputs": [
        {
          "output_type": "execute_result",
          "data": {
            "text/plain": [
              "46"
            ]
          },
          "metadata": {
            "tags": []
          },
          "execution_count": 129
        }
      ]
    },
    {
      "cell_type": "code",
      "metadata": {
        "id": "mDAALnH8R7a-",
        "colab_type": "code",
        "outputId": "0b7ce4f8-65e7-47e7-e9f0-d4cd60c65ab5",
        "colab": {
          "base_uri": "https://localhost:8080/",
          "height": 799
        }
      },
      "source": [
        "set(train_labels)"
      ],
      "execution_count": 130,
      "outputs": [
        {
          "output_type": "execute_result",
          "data": {
            "text/plain": [
              "{0,\n",
              " 1,\n",
              " 2,\n",
              " 3,\n",
              " 4,\n",
              " 5,\n",
              " 6,\n",
              " 7,\n",
              " 8,\n",
              " 9,\n",
              " 10,\n",
              " 11,\n",
              " 12,\n",
              " 13,\n",
              " 14,\n",
              " 15,\n",
              " 16,\n",
              " 17,\n",
              " 18,\n",
              " 19,\n",
              " 20,\n",
              " 21,\n",
              " 22,\n",
              " 23,\n",
              " 24,\n",
              " 25,\n",
              " 26,\n",
              " 27,\n",
              " 28,\n",
              " 29,\n",
              " 30,\n",
              " 31,\n",
              " 32,\n",
              " 33,\n",
              " 34,\n",
              " 35,\n",
              " 36,\n",
              " 37,\n",
              " 38,\n",
              " 39,\n",
              " 40,\n",
              " 41,\n",
              " 42,\n",
              " 43,\n",
              " 44,\n",
              " 45}"
            ]
          },
          "metadata": {
            "tags": []
          },
          "execution_count": 130
        }
      ]
    },
    {
      "cell_type": "markdown",
      "metadata": {
        "id": "SIBunvBMTB4F",
        "colab_type": "text"
      },
      "source": [
        "## Preparing the data"
      ]
    },
    {
      "cell_type": "code",
      "metadata": {
        "id": "S3fhINzcSJj5",
        "colab_type": "code",
        "colab": {}
      },
      "source": [
        "import numpy as np"
      ],
      "execution_count": 0,
      "outputs": []
    },
    {
      "cell_type": "code",
      "metadata": {
        "id": "1ULoiQM1TXhw",
        "colab_type": "code",
        "colab": {}
      },
      "source": [
        "def vectorice_sequences(sequence, dimension=10000):\n",
        "  index_matrix = np.zeros((len(sequence), dimension))\n",
        "\n",
        "  for i, seq in enumerate(sequence):\n",
        "    index_matrix[i, seq] = 1.0\n",
        "  return index_matrix"
      ],
      "execution_count": 0,
      "outputs": []
    },
    {
      "cell_type": "code",
      "metadata": {
        "id": "Qw2ZHpZfUL8d",
        "colab_type": "code",
        "colab": {}
      },
      "source": [
        "X_train = vectorice_sequences(train_data)\n",
        "X_test = vectorice_sequences(test_data)"
      ],
      "execution_count": 0,
      "outputs": []
    },
    {
      "cell_type": "code",
      "metadata": {
        "id": "I6VYPicjUXl1",
        "colab_type": "code",
        "colab": {}
      },
      "source": [
        "from keras.utils.np_utils import to_categorical"
      ],
      "execution_count": 0,
      "outputs": []
    },
    {
      "cell_type": "code",
      "metadata": {
        "id": "mYLIKiLYVQIA",
        "colab_type": "code",
        "colab": {}
      },
      "source": [
        "one_hot_train_labels = to_categorical(train_labels)\n",
        "one_hot_test_labels = to_categorical(test_labels)"
      ],
      "execution_count": 0,
      "outputs": []
    },
    {
      "cell_type": "code",
      "metadata": {
        "id": "-6MOZyz2VSqA",
        "colab_type": "code",
        "outputId": "06d692f4-c54d-4775-f7f9-501ad1150547",
        "colab": {
          "base_uri": "https://localhost:8080/",
          "height": 136
        }
      },
      "source": [
        "one_hot_train_labels"
      ],
      "execution_count": 136,
      "outputs": [
        {
          "output_type": "execute_result",
          "data": {
            "text/plain": [
              "array([[0., 0., 0., ..., 0., 0., 0.],\n",
              "       [0., 0., 0., ..., 0., 0., 0.],\n",
              "       [0., 0., 0., ..., 0., 0., 0.],\n",
              "       ...,\n",
              "       [0., 0., 0., ..., 0., 0., 0.],\n",
              "       [0., 0., 0., ..., 0., 0., 0.],\n",
              "       [0., 0., 0., ..., 0., 0., 0.]], dtype=float32)"
            ]
          },
          "metadata": {
            "tags": []
          },
          "execution_count": 136
        }
      ]
    },
    {
      "cell_type": "markdown",
      "metadata": {
        "id": "-ftsQxp2WVt3",
        "colab_type": "text"
      },
      "source": [
        "## Building the network"
      ]
    },
    {
      "cell_type": "code",
      "metadata": {
        "id": "j8qb1gLSVU1M",
        "colab_type": "code",
        "colab": {}
      },
      "source": [
        "from keras import models, layers"
      ],
      "execution_count": 0,
      "outputs": []
    },
    {
      "cell_type": "code",
      "metadata": {
        "id": "bnsxr4xnZbdd",
        "colab_type": "code",
        "colab": {}
      },
      "source": [
        "model = models.Sequential()\n",
        "model.add(layer=layers.Dense(units=64,activation='relu', input_shape=(10000,)))\n",
        "model.add(layer=layers.Dense(units=64,activation='relu'))\n",
        "model.add(layer=layers.Dense(units=46,activation='softmax'))"
      ],
      "execution_count": 0,
      "outputs": []
    },
    {
      "cell_type": "code",
      "metadata": {
        "id": "IPtVWYnSaMyN",
        "colab_type": "code",
        "colab": {}
      },
      "source": [
        "model.compile(optimizer='rmsprop', loss='categorical_crossentropy', metrics=['accuracy'])"
      ],
      "execution_count": 0,
      "outputs": []
    },
    {
      "cell_type": "markdown",
      "metadata": {
        "id": "1eKN2b86cwiB",
        "colab_type": "text"
      },
      "source": [
        "## Validation data"
      ]
    },
    {
      "cell_type": "code",
      "metadata": {
        "id": "ZpDqWuVUcnOC",
        "colab_type": "code",
        "colab": {}
      },
      "source": [
        "X_val = X_train[:1000]\n",
        "y_val = one_hot_train_labels[:1000]\n",
        "\n",
        "X_partial_train = X_train[1000:]\n",
        "y_partial_train = one_hot_train_labels[1000:]"
      ],
      "execution_count": 0,
      "outputs": []
    },
    {
      "cell_type": "markdown",
      "metadata": {
        "id": "FtR6R4EfdjqC",
        "colab_type": "text"
      },
      "source": [
        "## Train the model"
      ]
    },
    {
      "cell_type": "code",
      "metadata": {
        "id": "wnryi8rHdM9p",
        "colab_type": "code",
        "outputId": "289c3b1f-1495-4a78-f8a6-cbe9e4274f40",
        "colab": {
          "base_uri": "https://localhost:8080/",
          "height": 714
        }
      },
      "source": [
        "history = model.fit(x=X_partial_train, y=y_partial_train, batch_size=512,epochs=20,validation_data=(X_val, y_val))"
      ],
      "execution_count": 141,
      "outputs": [
        {
          "output_type": "stream",
          "text": [
            "Train on 7982 samples, validate on 1000 samples\n",
            "Epoch 1/20\n",
            "7982/7982 [==============================] - 1s 102us/step - loss: 2.5557 - acc: 0.5159 - val_loss: 1.7035 - val_acc: 0.6400\n",
            "Epoch 2/20\n",
            "7982/7982 [==============================] - 1s 72us/step - loss: 1.3926 - acc: 0.7072 - val_loss: 1.2901 - val_acc: 0.7160\n",
            "Epoch 3/20\n",
            "7982/7982 [==============================] - 1s 73us/step - loss: 1.0422 - acc: 0.7724 - val_loss: 1.1232 - val_acc: 0.7480\n",
            "Epoch 4/20\n",
            "7982/7982 [==============================] - 1s 72us/step - loss: 0.8230 - acc: 0.8236 - val_loss: 1.0370 - val_acc: 0.7690\n",
            "Epoch 5/20\n",
            "7982/7982 [==============================] - 1s 69us/step - loss: 0.6578 - acc: 0.8636 - val_loss: 0.9589 - val_acc: 0.7950\n",
            "Epoch 6/20\n",
            "7982/7982 [==============================] - 1s 67us/step - loss: 0.5297 - acc: 0.8893 - val_loss: 0.9190 - val_acc: 0.8040\n",
            "Epoch 7/20\n",
            "7982/7982 [==============================] - 1s 70us/step - loss: 0.4254 - acc: 0.9116 - val_loss: 0.8983 - val_acc: 0.8120\n",
            "Epoch 8/20\n",
            "7982/7982 [==============================] - 1s 72us/step - loss: 0.3494 - acc: 0.9273 - val_loss: 0.8880 - val_acc: 0.8150\n",
            "Epoch 9/20\n",
            "7982/7982 [==============================] - 1s 73us/step - loss: 0.2856 - acc: 0.9366 - val_loss: 0.8915 - val_acc: 0.8150\n",
            "Epoch 10/20\n",
            "7982/7982 [==============================] - 1s 73us/step - loss: 0.2418 - acc: 0.9429 - val_loss: 0.9112 - val_acc: 0.8090\n",
            "Epoch 11/20\n",
            "7982/7982 [==============================] - 1s 70us/step - loss: 0.2105 - acc: 0.9480 - val_loss: 0.9202 - val_acc: 0.8130\n",
            "Epoch 12/20\n",
            "7982/7982 [==============================] - 1s 68us/step - loss: 0.1839 - acc: 0.9520 - val_loss: 0.9578 - val_acc: 0.8060\n",
            "Epoch 13/20\n",
            "7982/7982 [==============================] - 1s 69us/step - loss: 0.1657 - acc: 0.9534 - val_loss: 0.9257 - val_acc: 0.8130\n",
            "Epoch 14/20\n",
            "7982/7982 [==============================] - 1s 70us/step - loss: 0.1538 - acc: 0.9549 - val_loss: 0.9711 - val_acc: 0.8080\n",
            "Epoch 15/20\n",
            "7982/7982 [==============================] - 1s 70us/step - loss: 0.1412 - acc: 0.9528 - val_loss: 0.9817 - val_acc: 0.8170\n",
            "Epoch 16/20\n",
            "7982/7982 [==============================] - 1s 72us/step - loss: 0.1285 - acc: 0.9569 - val_loss: 1.0464 - val_acc: 0.7990\n",
            "Epoch 17/20\n",
            "7982/7982 [==============================] - 1s 72us/step - loss: 0.1250 - acc: 0.9545 - val_loss: 1.0055 - val_acc: 0.8080\n",
            "Epoch 18/20\n",
            "7982/7982 [==============================] - 1s 74us/step - loss: 0.1197 - acc: 0.9557 - val_loss: 1.0287 - val_acc: 0.8090\n",
            "Epoch 19/20\n",
            "7982/7982 [==============================] - 1s 71us/step - loss: 0.1136 - acc: 0.9578 - val_loss: 1.0340 - val_acc: 0.8120\n",
            "Epoch 20/20\n",
            "7982/7982 [==============================] - 1s 73us/step - loss: 0.1107 - acc: 0.9582 - val_loss: 1.0936 - val_acc: 0.7960\n"
          ],
          "name": "stdout"
        }
      ]
    },
    {
      "cell_type": "markdown",
      "metadata": {
        "id": "ifW5Z0ZAfQGp",
        "colab_type": "text"
      },
      "source": [
        "## Plotting"
      ]
    },
    {
      "cell_type": "code",
      "metadata": {
        "id": "ib__eYNseHsE",
        "colab_type": "code",
        "colab": {}
      },
      "source": [
        "import matplotlib.pyplot as plt\n",
        "%matplotlib inline"
      ],
      "execution_count": 0,
      "outputs": []
    },
    {
      "cell_type": "code",
      "metadata": {
        "id": "o8xDvFIgfYJ_",
        "colab_type": "code",
        "outputId": "9ee7fd5a-abf6-4224-d72b-29065e0133b6",
        "colab": {
          "base_uri": "https://localhost:8080/",
          "height": 34
        }
      },
      "source": [
        "history_dict = history.history\n",
        "history_dict.keys()"
      ],
      "execution_count": 143,
      "outputs": [
        {
          "output_type": "execute_result",
          "data": {
            "text/plain": [
              "dict_keys(['val_loss', 'val_acc', 'loss', 'acc'])"
            ]
          },
          "metadata": {
            "tags": []
          },
          "execution_count": 143
        }
      ]
    },
    {
      "cell_type": "code",
      "metadata": {
        "id": "BgPdIkbufx6p",
        "colab_type": "code",
        "colab": {}
      },
      "source": [
        "range_epochs = range(1, len(history_dict['loss']) + 1)"
      ],
      "execution_count": 0,
      "outputs": []
    },
    {
      "cell_type": "code",
      "metadata": {
        "id": "0SToUEuOgEe-",
        "colab_type": "code",
        "outputId": "be8edb3e-30ce-43f3-f78e-e299b342f8e6",
        "colab": {
          "base_uri": "https://localhost:8080/",
          "height": 34
        }
      },
      "source": [
        "range_epochs"
      ],
      "execution_count": 145,
      "outputs": [
        {
          "output_type": "execute_result",
          "data": {
            "text/plain": [
              "range(1, 21)"
            ]
          },
          "metadata": {
            "tags": []
          },
          "execution_count": 145
        }
      ]
    },
    {
      "cell_type": "code",
      "metadata": {
        "id": "guD0qFh4gIg1",
        "colab_type": "code",
        "outputId": "0b59177a-fd2e-4ac7-ea98-bfcde898c66f",
        "colab": {
          "base_uri": "https://localhost:8080/",
          "height": 295
        }
      },
      "source": [
        "plt.plot(range_epochs, history_dict['loss'],'b', label='training loss')\n",
        "plt.plot(range_epochs, history_dict['val_loss'], 'bo', label='validation loss')\n",
        "plt.title('Training and validation loss')\n",
        "plt.xlabel('epoch')\n",
        "plt.ylabel('loss')\n",
        "plt.legend()\n",
        "plt.show()"
      ],
      "execution_count": 146,
      "outputs": [
        {
          "output_type": "display_data",
          "data": {
            "image/png": "[encoded data removed]",
            "text/plain": [
              "<Figure size 432x288 with 1 Axes>"
            ]
          },
          "metadata": {
            "tags": []
          }
        }
      ]
    },
    {
      "cell_type": "code",
      "metadata": {
        "id": "4CSbwnhcgjVr",
        "colab_type": "code",
        "outputId": "2af79fd2-3e52-4d27-b1d1-77d55d98e8c9",
        "colab": {
          "base_uri": "https://localhost:8080/",
          "height": 295
        }
      },
      "source": [
        "plt.plot(range_epochs, history_dict['acc'],'b', label='training acc')\n",
        "plt.plot(range_epochs, history_dict['val_acc'], 'bo', label='validation acc')\n",
        "plt.title('Training and validation acc')\n",
        "plt.xlabel('epoch')\n",
        "plt.ylabel('acc')\n",
        "plt.legend()\n",
        "plt.show()"
      ],
      "execution_count": 147,
      "outputs": [
        {
          "output_type": "display_data",
          "data": {
            "image/png": "[encoded data removed]",
            "text/plain": [
              "<Figure size 432x288 with 1 Axes>"
            ]
          },
          "metadata": {
            "tags": []
          }
        }
      ]
    },
    {
      "cell_type": "markdown",
      "metadata": {
        "id": "XJx7sgLTj1pJ",
        "colab_type": "text"
      },
      "source": [
        "## retrain on 9 epochs"
      ]
    },
    {
      "cell_type": "code",
      "metadata": {
        "id": "UWKcRSpJhc4y",
        "colab_type": "code",
        "outputId": "59b1ffe2-3e6c-47aa-d35e-911ba06d8350",
        "colab": {
          "base_uri": "https://localhost:8080/",
          "height": 340
        }
      },
      "source": [
        "model.fit(x=X_train, y=one_hot_train_labels, batch_size=512,epochs=9)"
      ],
      "execution_count": 156,
      "outputs": [
        {
          "output_type": "stream",
          "text": [
            "Epoch 1/9\n",
            "8982/8982 [==============================] - 1s 64us/step - loss: 0.1021 - acc: 0.9581\n",
            "Epoch 2/9\n",
            "8982/8982 [==============================] - 1s 64us/step - loss: 0.1021 - acc: 0.9554\n",
            "Epoch 3/9\n",
            "8982/8982 [==============================] - 1s 62us/step - loss: 0.0996 - acc: 0.9578\n",
            "Epoch 4/9\n",
            "8982/8982 [==============================] - 1s 62us/step - loss: 0.1021 - acc: 0.9561\n",
            "Epoch 5/9\n",
            "8982/8982 [==============================] - 1s 64us/step - loss: 0.0978 - acc: 0.9532\n",
            "Epoch 6/9\n",
            "8982/8982 [==============================] - 1s 63us/step - loss: 0.0999 - acc: 0.9548\n",
            "Epoch 7/9\n",
            "8982/8982 [==============================] - 1s 63us/step - loss: 0.0954 - acc: 0.9564\n",
            "Epoch 8/9\n",
            "8982/8982 [==============================] - 1s 63us/step - loss: 0.0978 - acc: 0.9558\n",
            "Epoch 9/9\n",
            "8982/8982 [==============================] - 1s 66us/step - loss: 0.0949 - acc: 0.9548\n"
          ],
          "name": "stdout"
        },
        {
          "output_type": "execute_result",
          "data": {
            "text/plain": [
              "<keras.callbacks.History at 0x7fa9c0916208>"
            ]
          },
          "metadata": {
            "tags": []
          },
          "execution_count": 156
        }
      ]
    },
    {
      "cell_type": "code",
      "metadata": {
        "id": "ORmjRN9AkJ2m",
        "colab_type": "code",
        "outputId": "535ee5d4-1e8d-413c-94e3-c08dbde87b8d",
        "colab": {
          "base_uri": "https://localhost:8080/",
          "height": 34
        }
      },
      "source": [
        "results = model.evaluate(x=X_test, y=one_hot_test_labels)"
      ],
      "execution_count": 157,
      "outputs": [
        {
          "output_type": "stream",
          "text": [
            "2246/2246 [==============================] - 0s 89us/step\n"
          ],
          "name": "stdout"
        }
      ]
    },
    {
      "cell_type": "code",
      "metadata": {
        "id": "o59VlPzvkkWe",
        "colab_type": "code",
        "outputId": "c94506cb-d6f4-4324-8c43-772036ae4f3d",
        "colab": {
          "base_uri": "https://localhost:8080/",
          "height": 34
        }
      },
      "source": [
        "results"
      ],
      "execution_count": 158,
      "outputs": [
        {
          "output_type": "execute_result",
          "data": {
            "text/plain": [
              "[1.3708536283097306, 0.7849510239896664]"
            ]
          },
          "metadata": {
            "tags": []
          },
          "execution_count": 158
        }
      ]
    },
    {
      "cell_type": "markdown",
      "metadata": {
        "id": "ETd6SVBUlyWW",
        "colab_type": "text"
      },
      "source": [
        "## Predictions on new data"
      ]
    },
    {
      "cell_type": "code",
      "metadata": {
        "id": "AdE2rvCSksee",
        "colab_type": "code",
        "colab": {}
      },
      "source": [
        "predictions = model.predict(X_test)"
      ],
      "execution_count": 0,
      "outputs": []
    },
    {
      "cell_type": "code",
      "metadata": {
        "id": "X08G9SGsmfMF",
        "colab_type": "code",
        "outputId": "051186fb-9ecd-4ad5-9cf0-09c0a54c4e22",
        "colab": {
          "base_uri": "https://localhost:8080/",
          "height": 238
        }
      },
      "source": [
        "predictions"
      ],
      "execution_count": 160,
      "outputs": [
        {
          "output_type": "execute_result",
          "data": {
            "text/plain": [
              "array([[9.9301019e-07, 2.3288601e-06, 3.0354641e-09, ..., 1.7506238e-07,\n",
              "        1.5662257e-13, 6.0668333e-09],\n",
              "       [4.2094762e-05, 1.8574314e-01, 1.6323678e-07, ..., 8.2646318e-15,\n",
              "        2.8824924e-12, 7.3914158e-08],\n",
              "       [3.7816106e-04, 9.8533475e-01, 1.6389036e-04, ..., 5.0791340e-09,\n",
              "        1.5241399e-09, 4.5520624e-06],\n",
              "       ...,\n",
              "       [2.1920334e-08, 1.2130811e-06, 5.9595873e-08, ..., 3.1276282e-09,\n",
              "        2.5339754e-13, 2.9956290e-08],\n",
              "       [9.8359154e-04, 1.0379443e-01, 1.1847481e-04, ..., 6.5507634e-06,\n",
              "        7.9734323e-11, 1.9063336e-06],\n",
              "       [1.8808689e-05, 6.6151053e-02, 8.6908741e-03, ..., 4.9268073e-07,\n",
              "        2.4704603e-09, 4.4046858e-05]], dtype=float32)"
            ]
          },
          "metadata": {
            "tags": []
          },
          "execution_count": 160
        }
      ]
    },
    {
      "cell_type": "code",
      "metadata": {
        "id": "rj4ecuaamgcF",
        "colab_type": "code",
        "outputId": "7f787cbc-562a-4475-e169-ce20d7b73edb",
        "colab": {
          "base_uri": "https://localhost:8080/",
          "height": 34
        }
      },
      "source": [
        "predictions[0].shape"
      ],
      "execution_count": 161,
      "outputs": [
        {
          "output_type": "execute_result",
          "data": {
            "text/plain": [
              "(46,)"
            ]
          },
          "metadata": {
            "tags": []
          },
          "execution_count": 161
        }
      ]
    },
    {
      "cell_type": "code",
      "metadata": {
        "id": "Q6kjB4hymn4k",
        "colab_type": "code",
        "outputId": "4ee1c374-af64-482b-835b-54cf31db0139",
        "colab": {
          "base_uri": "https://localhost:8080/",
          "height": 34
        }
      },
      "source": [
        "np.sum(predictions[0])"
      ],
      "execution_count": 162,
      "outputs": [
        {
          "output_type": "execute_result",
          "data": {
            "text/plain": [
              "1.0"
            ]
          },
          "metadata": {
            "tags": []
          },
          "execution_count": 162
        }
      ]
    },
    {
      "cell_type": "code",
      "metadata": {
        "id": "4dOz5Hk1mub2",
        "colab_type": "code",
        "outputId": "37013a2a-1d28-443d-d239-dd11bf62d934",
        "colab": {
          "base_uri": "https://localhost:8080/",
          "height": 34
        }
      },
      "source": [
        "np.argmax(predictions[0])"
      ],
      "execution_count": 163,
      "outputs": [
        {
          "output_type": "execute_result",
          "data": {
            "text/plain": [
              "3"
            ]
          },
          "metadata": {
            "tags": []
          },
          "execution_count": 163
        }
      ]
    },
    {
      "cell_type": "markdown",
      "metadata": {
        "id": "isFf9YO2qDo_",
        "colab_type": "text"
      },
      "source": [
        "## information bottleneck"
      ]
    },
    {
      "cell_type": "code",
      "metadata": {
        "id": "uSeFUfJ3mzg9",
        "colab_type": "code",
        "colab": {}
      },
      "source": [
        "model = models.Sequential()\n",
        "model.add(layer=layers.Dense(units=64,activation='relu', input_shape=(10000,)))\n",
        "model.add(layer=layers.Dense(units=4, activation='relu'))\n",
        "model.add(layer=layers.Dense(units=46, activation='softmax'))"
      ],
      "execution_count": 0,
      "outputs": []
    },
    {
      "cell_type": "code",
      "metadata": {
        "id": "kt8OLT6JqxZF",
        "colab_type": "code",
        "colab": {}
      },
      "source": [
        "model.compile(optimizer='rmsprop',loss='categorical_crossentropy',metrics=['accuracy'])"
      ],
      "execution_count": 0,
      "outputs": []
    },
    {
      "cell_type": "code",
      "metadata": {
        "id": "5gcIUBxkrcN1",
        "colab_type": "code",
        "colab": {
          "base_uri": "https://localhost:8080/",
          "height": 731
        },
        "outputId": "ef7137ef-af8d-4c5c-d7b6-fc69b8eccbd4"
      },
      "source": [
        "model.fit(x=X_partial_train,y=y_partial_train,batch_size=512,epochs=20,validation_data=(X_val, y_val))"
      ],
      "execution_count": 170,
      "outputs": [
        {
          "output_type": "stream",
          "text": [
            "Train on 7982 samples, validate on 1000 samples\n",
            "Epoch 1/20\n",
            "7982/7982 [==============================] - 1s 124us/step - loss: 3.4309 - acc: 0.1570 - val_loss: 3.0402 - val_acc: 0.2230\n",
            "Epoch 2/20\n",
            "7982/7982 [==============================] - 1s 78us/step - loss: 2.7540 - acc: 0.2196 - val_loss: 2.4999 - val_acc: 0.2330\n",
            "Epoch 3/20\n",
            "7982/7982 [==============================] - 1s 82us/step - loss: 2.2471 - acc: 0.4564 - val_loss: 2.1007 - val_acc: 0.5470\n",
            "Epoch 4/20\n",
            "7982/7982 [==============================] - 1s 80us/step - loss: 1.8784 - acc: 0.5531 - val_loss: 1.8422 - val_acc: 0.5700\n",
            "Epoch 5/20\n",
            "7982/7982 [==============================] - 1s 79us/step - loss: 1.6427 - acc: 0.5806 - val_loss: 1.7068 - val_acc: 0.5830\n",
            "Epoch 6/20\n",
            "7982/7982 [==============================] - 1s 80us/step - loss: 1.4903 - acc: 0.6072 - val_loss: 1.6159 - val_acc: 0.5990\n",
            "Epoch 7/20\n",
            "7982/7982 [==============================] - 1s 78us/step - loss: 1.3807 - acc: 0.6523 - val_loss: 1.5527 - val_acc: 0.6330\n",
            "Epoch 8/20\n",
            "7982/7982 [==============================] - 1s 79us/step - loss: 1.2940 - acc: 0.6892 - val_loss: 1.5098 - val_acc: 0.6580\n",
            "Epoch 9/20\n",
            "7982/7982 [==============================] - 1s 77us/step - loss: 1.2186 - acc: 0.7028 - val_loss: 1.4749 - val_acc: 0.6520\n",
            "Epoch 10/20\n",
            "7982/7982 [==============================] - 1s 82us/step - loss: 1.1556 - acc: 0.7130 - val_loss: 1.4327 - val_acc: 0.6720\n",
            "Epoch 11/20\n",
            "7982/7982 [==============================] - 1s 79us/step - loss: 1.0987 - acc: 0.7181 - val_loss: 1.4281 - val_acc: 0.6640\n",
            "Epoch 12/20\n",
            "7982/7982 [==============================] - 1s 77us/step - loss: 1.0497 - acc: 0.7249 - val_loss: 1.4083 - val_acc: 0.6690\n",
            "Epoch 13/20\n",
            "7982/7982 [==============================] - 1s 78us/step - loss: 1.0023 - acc: 0.7309 - val_loss: 1.3920 - val_acc: 0.6740\n",
            "Epoch 14/20\n",
            "7982/7982 [==============================] - 1s 78us/step - loss: 0.9575 - acc: 0.7342 - val_loss: 1.3814 - val_acc: 0.6720\n",
            "Epoch 15/20\n",
            "7982/7982 [==============================] - 1s 77us/step - loss: 0.9147 - acc: 0.7365 - val_loss: 1.3772 - val_acc: 0.6710\n",
            "Epoch 16/20\n",
            "7982/7982 [==============================] - 1s 82us/step - loss: 0.8719 - acc: 0.7422 - val_loss: 1.3523 - val_acc: 0.6730\n",
            "Epoch 17/20\n",
            "7982/7982 [==============================] - 1s 77us/step - loss: 0.8327 - acc: 0.7453 - val_loss: 1.3689 - val_acc: 0.6790\n",
            "Epoch 18/20\n",
            "7982/7982 [==============================] - 1s 78us/step - loss: 0.7952 - acc: 0.7527 - val_loss: 1.3518 - val_acc: 0.6790\n",
            "Epoch 19/20\n",
            "7982/7982 [==============================] - 1s 81us/step - loss: 0.7609 - acc: 0.7715 - val_loss: 1.3605 - val_acc: 0.6840\n",
            "Epoch 20/20\n",
            "7982/7982 [==============================] - 1s 78us/step - loss: 0.7287 - acc: 0.7880 - val_loss: 1.4134 - val_acc: 0.6870\n"
          ],
          "name": "stdout"
        },
        {
          "output_type": "execute_result",
          "data": {
            "text/plain": [
              "<keras.callbacks.History at 0x7fa9baaffcf8>"
            ]
          },
          "metadata": {
            "tags": []
          },
          "execution_count": 170
        }
      ]
    },
    {
      "cell_type": "code",
      "metadata": {
        "id": "vepm2D5PsJZi",
        "colab_type": "code",
        "colab": {}
      },
      "source": [
        ""
      ],
      "execution_count": 0,
      "outputs": []
    }
  ]
}