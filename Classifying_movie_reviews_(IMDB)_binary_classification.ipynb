{
  "nbformat": 4,
  "nbformat_minor": 0,
  "metadata": {
    "colab": {
      "name": "Classifying_movie_reviews_(IMDB)_binary_classification.ipynb",
      "version": "0.3.2",
      "provenance": [],
      "collapsed_sections": [],
      "include_colab_link": true
    },
    "kernelspec": {
      "name": "python3",
      "display_name": "Python 3"
    },
    "accelerator": "GPU"
  },
  "cells": [
    {
      "cell_type": "markdown",
      "metadata": {
        "id": "view-in-github",
        "colab_type": "text"
      },
      "source": [
        "<a href=\"https://colab.research.google.com/github/djdtimit/Deep-Learning/blob/master/Classifying_movie_reviews_(IMDB)_binary_classification.ipynb\" target=\"_parent\"><img src=\"https://colab.research.google.com/assets/colab-badge.svg\" alt=\"Open In Colab\"/></a>"
      ]
    },
    {
      "cell_type": "markdown",
      "metadata": {
        "id": "a_Qw4lksnOgb",
        "colab_type": "text"
      },
      "source": [
        "# Classifying movie reviews (IMDB): binary classification"
      ]
    },
    {
      "cell_type": "markdown",
      "metadata": {
        "id": "evSnwXPcns03",
        "colab_type": "text"
      },
      "source": [
        "classify movie reviews as\n",
        "positive or negative, based on the text content of the reviews"
      ]
    },
    {
      "cell_type": "code",
      "metadata": {
        "id": "-kKi9fWinS69",
        "colab_type": "code",
        "colab": {}
      },
      "source": [
        "from keras.datasets import imdb"
      ],
      "execution_count": 0,
      "outputs": []
    },
    {
      "cell_type": "code",
      "metadata": {
        "id": "L8O5daAJoIqW",
        "colab_type": "code",
        "colab": {}
      },
      "source": [
        "# keep only the 10000 most frequent occuring words\n",
        "(train_data, train_labels) , (test_data, test_labels) = imdb.load_data(num_words=10000)"
      ],
      "execution_count": 0,
      "outputs": []
    },
    {
      "cell_type": "code",
      "metadata": {
        "id": "X12-E2Saoavl",
        "colab_type": "code",
        "outputId": "574e747f-4a10-40b7-ad89-6abd72d9fea4",
        "colab": {
          "base_uri": "https://localhost:8080/",
          "height": 34
        }
      },
      "source": [
        "train_data.ndim"
      ],
      "execution_count": 60,
      "outputs": [
        {
          "output_type": "execute_result",
          "data": {
            "text/plain": [
              "1"
            ]
          },
          "metadata": {
            "tags": []
          },
          "execution_count": 60
        }
      ]
    },
    {
      "cell_type": "code",
      "metadata": {
        "id": "0RN17hGJofDj",
        "colab_type": "code",
        "outputId": "ec52568d-5b3d-4cf3-c12b-5977a5a4cb0f",
        "colab": {
          "base_uri": "https://localhost:8080/",
          "height": 34
        }
      },
      "source": [
        "train_data.shape"
      ],
      "execution_count": 61,
      "outputs": [
        {
          "output_type": "execute_result",
          "data": {
            "text/plain": [
              "(25000,)"
            ]
          },
          "metadata": {
            "tags": []
          },
          "execution_count": 61
        }
      ]
    },
    {
      "cell_type": "code",
      "metadata": {
        "id": "JiGyTqfDppTo",
        "colab_type": "code",
        "outputId": "2380bb47-eb2f-4449-8121-e2e3992dcf63",
        "colab": {
          "base_uri": "https://localhost:8080/",
          "height": 54
        }
      },
      "source": [
        "# list of word indices\n",
        "print(train_data[0])"
      ],
      "execution_count": 62,
      "outputs": [
        {
          "output_type": "stream",
          "text": [
            "[1, 14, 22, 16, 43, 530, 973, 1622, 1385, 65, 458, 4468, 66, 3941, 4, 173, 36, 256, 5, 25, 100, 43, 838, 112, 50, 670, 2, 9, 35, 480, 284, 5, 150, 4, 172, 112, 167, 2, 336, 385, 39, 4, 172, 4536, 1111, 17, 546, 38, 13, 447, 4, 192, 50, 16, 6, 147, 2025, 19, 14, 22, 4, 1920, 4613, 469, 4, 22, 71, 87, 12, 16, 43, 530, 38, 76, 15, 13, 1247, 4, 22, 17, 515, 17, 12, 16, 626, 18, 2, 5, 62, 386, 12, 8, 316, 8, 106, 5, 4, 2223, 5244, 16, 480, 66, 3785, 33, 4, 130, 12, 16, 38, 619, 5, 25, 124, 51, 36, 135, 48, 25, 1415, 33, 6, 22, 12, 215, 28, 77, 52, 5, 14, 407, 16, 82, 2, 8, 4, 107, 117, 5952, 15, 256, 4, 2, 7, 3766, 5, 723, 36, 71, 43, 530, 476, 26, 400, 317, 46, 7, 4, 2, 1029, 13, 104, 88, 4, 381, 15, 297, 98, 32, 2071, 56, 26, 141, 6, 194, 7486, 18, 4, 226, 22, 21, 134, 476, 26, 480, 5, 144, 30, 5535, 18, 51, 36, 28, 224, 92, 25, 104, 4, 226, 65, 16, 38, 1334, 88, 12, 16, 283, 5, 16, 4472, 113, 103, 32, 15, 16, 5345, 19, 178, 32]\n"
          ],
          "name": "stdout"
        }
      ]
    },
    {
      "cell_type": "code",
      "metadata": {
        "id": "P_UwyG3nq6AT",
        "colab_type": "code",
        "colab": {}
      },
      "source": [
        "word_index = imdb.get_word_index()\n",
        "reverse_word_index = dict(\n",
        "[(value, key) for (key, value) in word_index.items()])\n",
        "decoded_review = ' '.join(\n",
        "[reverse_word_index.get(i - 3, '?') for i in train_data[0]])"
      ],
      "execution_count": 0,
      "outputs": []
    },
    {
      "cell_type": "code",
      "metadata": {
        "id": "X-SIzZllrANc",
        "colab_type": "code",
        "outputId": "4cce2a41-8bbd-4cc0-f895-8634709c2658",
        "colab": {
          "base_uri": "https://localhost:8080/",
          "height": 54
        }
      },
      "source": [
        "decoded_review"
      ],
      "execution_count": 64,
      "outputs": [
        {
          "output_type": "execute_result",
          "data": {
            "text/plain": [
              "\"? this film was just brilliant casting location scenery story direction everyone's really suited the part they played and you could just imagine being there robert ? is an amazing actor and now the same being director ? father came from the same scottish island as myself so i loved the fact there was a real connection with this film the witty remarks throughout the film were great it was just brilliant so much that i bought the film as soon as it was released for ? and would recommend it to everyone to watch and the fly fishing was amazing really cried at the end it was so sad and you know what they say if you cry at a film it must have been good and this definitely was also ? to the two little boy's that played the ? of norman and paul they were just brilliant children are often left out of the ? list i think because the stars that play them all grown up are such a big profile for the whole film but these children are amazing and should be praised for what they have done don't you think the whole story was so lovely because it was true and was someone's life after all that was shared with us all\""
            ]
          },
          "metadata": {
            "tags": []
          },
          "execution_count": 64
        }
      ]
    },
    {
      "cell_type": "code",
      "metadata": {
        "id": "RxUJQEkYqG9I",
        "colab_type": "code",
        "outputId": "c687e028-75bf-4711-a037-ca62fd0b404e",
        "colab": {
          "base_uri": "https://localhost:8080/",
          "height": 34
        }
      },
      "source": [
        "print(train_labels)"
      ],
      "execution_count": 65,
      "outputs": [
        {
          "output_type": "stream",
          "text": [
            "[1 0 0 ... 0 1 0]\n"
          ],
          "name": "stdout"
        }
      ]
    },
    {
      "cell_type": "code",
      "metadata": {
        "id": "23js134VpTC4",
        "colab_type": "code",
        "outputId": "665877bc-70e7-42e3-f376-2bd63abf1db5",
        "colab": {
          "base_uri": "https://localhost:8080/",
          "height": 34
        }
      },
      "source": [
        "test_data.shape"
      ],
      "execution_count": 66,
      "outputs": [
        {
          "output_type": "execute_result",
          "data": {
            "text/plain": [
              "(25000,)"
            ]
          },
          "metadata": {
            "tags": []
          },
          "execution_count": 66
        }
      ]
    },
    {
      "cell_type": "markdown",
      "metadata": {
        "id": "Cv2bY5qnpXxl",
        "colab_type": "text"
      },
      "source": [
        "## balanced dataset"
      ]
    },
    {
      "cell_type": "code",
      "metadata": {
        "id": "uvLjrsWMojn7",
        "colab_type": "code",
        "outputId": "aed1383b-efcf-4c0e-dad4-8ed5d5f90a5a",
        "colab": {
          "base_uri": "https://localhost:8080/",
          "height": 34
        }
      },
      "source": [
        " len([label for label in train_labels if label == 1])"
      ],
      "execution_count": 67,
      "outputs": [
        {
          "output_type": "execute_result",
          "data": {
            "text/plain": [
              "12500"
            ]
          },
          "metadata": {
            "tags": []
          },
          "execution_count": 67
        }
      ]
    },
    {
      "cell_type": "code",
      "metadata": {
        "id": "L_gZIs7oo5b6",
        "colab_type": "code",
        "outputId": "6ccbe17e-e42d-4c27-d00e-34b9989e54e5",
        "colab": {
          "base_uri": "https://localhost:8080/",
          "height": 34
        }
      },
      "source": [
        " len([label for label in train_labels if label == 0])"
      ],
      "execution_count": 68,
      "outputs": [
        {
          "output_type": "execute_result",
          "data": {
            "text/plain": [
              "12500"
            ]
          },
          "metadata": {
            "tags": []
          },
          "execution_count": 68
        }
      ]
    },
    {
      "cell_type": "markdown",
      "metadata": {
        "id": "NAngFbYhHpZA",
        "colab_type": "text"
      },
      "source": [
        "## Preparing the data"
      ]
    },
    {
      "cell_type": "markdown",
      "metadata": {
        "id": "yykE9I3UIUF1",
        "colab_type": "text"
      },
      "source": [
        "### one-hot encoding"
      ]
    },
    {
      "cell_type": "code",
      "metadata": {
        "id": "zQ6E6z3DpOgn",
        "colab_type": "code",
        "colab": {}
      },
      "source": [
        "import numpy as np"
      ],
      "execution_count": 0,
      "outputs": []
    },
    {
      "cell_type": "code",
      "metadata": {
        "id": "OVsbrNdDHDTB",
        "colab_type": "code",
        "colab": {}
      },
      "source": [
        "def vectorize_sequences(sequences, dimension=10000):\n",
        "  one_hot_matrix = np.zeros((len(sequences), dimension))\n",
        "  \n",
        "  for i, sequence in enumerate(sequences):\n",
        "    one_hot_matrix[i, sequence] = 1.0\n",
        "    \n",
        "  return one_hot_matrix"
      ],
      "execution_count": 0,
      "outputs": []
    },
    {
      "cell_type": "code",
      "metadata": {
        "id": "Mm00-STBMngq",
        "colab_type": "code",
        "colab": {}
      },
      "source": [
        "X_train = vectorize_sequences(train_data)\n",
        "X_test = vectorize_sequences(test_data)"
      ],
      "execution_count": 0,
      "outputs": []
    },
    {
      "cell_type": "code",
      "metadata": {
        "id": "1ENjCe8fbrgZ",
        "colab_type": "code",
        "outputId": "fd533be0-926b-4824-df01-37a45f5ea3c3",
        "colab": {
          "base_uri": "https://localhost:8080/",
          "height": 34
        }
      },
      "source": [
        "X_train.shape"
      ],
      "execution_count": 72,
      "outputs": [
        {
          "output_type": "execute_result",
          "data": {
            "text/plain": [
              "(25000, 10000)"
            ]
          },
          "metadata": {
            "tags": []
          },
          "execution_count": 72
        }
      ]
    },
    {
      "cell_type": "markdown",
      "metadata": {
        "id": "ZIF4ZJqJYdf3",
        "colab_type": "text"
      },
      "source": [
        "### vectorizing of labels"
      ]
    },
    {
      "cell_type": "code",
      "metadata": {
        "id": "q5gxj8iuX3js",
        "colab_type": "code",
        "colab": {}
      },
      "source": [
        "y_train = np.asarray(train_labels).astype('float32')\n",
        "y_test = np.asarray(test_labels).astype('float32')"
      ],
      "execution_count": 0,
      "outputs": []
    },
    {
      "cell_type": "code",
      "metadata": {
        "id": "ITT_Uw4vZhNU",
        "colab_type": "code",
        "outputId": "8e75683d-1dbd-4e85-ec6f-af807d57ce15",
        "colab": {
          "base_uri": "https://localhost:8080/",
          "height": 34
        }
      },
      "source": [
        "y_train"
      ],
      "execution_count": 74,
      "outputs": [
        {
          "output_type": "execute_result",
          "data": {
            "text/plain": [
              "array([1., 0., 0., ..., 0., 1., 0.], dtype=float32)"
            ]
          },
          "metadata": {
            "tags": []
          },
          "execution_count": 74
        }
      ]
    },
    {
      "cell_type": "markdown",
      "metadata": {
        "id": "bKBChD6VaiDv",
        "colab_type": "text"
      },
      "source": [
        "## Building the network"
      ]
    },
    {
      "cell_type": "markdown",
      "metadata": {
        "id": "SOOzmiycaiR6",
        "colab_type": "text"
      },
      "source": [
        "input data is vectors, and the labels are scalars (1s and 0s): simple stack of fully connected (Dense) layers with relu activations performs well on such a problem\n",
        "\n",
        "sigmoid returns probability of label equal to 1"
      ]
    },
    {
      "cell_type": "code",
      "metadata": {
        "id": "DIYz6dkkZjHZ",
        "colab_type": "code",
        "colab": {}
      },
      "source": [
        "from keras import models\n",
        "from keras import layers"
      ],
      "execution_count": 0,
      "outputs": []
    },
    {
      "cell_type": "code",
      "metadata": {
        "id": "5bPn3bSeaw_m",
        "colab_type": "code",
        "colab": {}
      },
      "source": [
        "model = models.Sequential()\n",
        "model.add(layers.Dense(16, activation='relu', input_shape=(10000,)))\n",
        "model.add(layers.Dense(16, activation='relu'))\n",
        "model.add(layers.Dense(1, activation='sigmoid'))"
      ],
      "execution_count": 0,
      "outputs": []
    },
    {
      "cell_type": "code",
      "metadata": {
        "id": "0djHjwlBcL_Z",
        "colab_type": "code",
        "colab": {
          "base_uri": "https://localhost:8080/",
          "height": 156
        },
        "outputId": "947456e3-1322-453e-debf-dad5444d4222"
      },
      "source": [
        "model.compile(optimizer='rmsprop', loss='binary_crossentropy', metrics=['accuracy'])"
      ],
      "execution_count": 77,
      "outputs": [
        {
          "output_type": "stream",
          "text": [
            "W0903 18:58:55.106843 140265916606336 deprecation_wrapper.py:119] From /usr/local/lib/python3.6/dist-packages/keras/optimizers.py:793: The name tf.train.Optimizer is deprecated. Please use tf.compat.v1.train.Optimizer instead.\n",
            "\n",
            "W0903 18:58:55.131907 140265916606336 deprecation_wrapper.py:119] From /usr/local/lib/python3.6/dist-packages/keras/backend/tensorflow_backend.py:3657: The name tf.log is deprecated. Please use tf.math.log instead.\n",
            "\n",
            "W0903 18:58:55.136613 140265916606336 deprecation.py:323] From /usr/local/lib/python3.6/dist-packages/tensorflow/python/ops/nn_impl.py:180: add_dispatch_support.<locals>.wrapper (from tensorflow.python.ops.array_ops) is deprecated and will be removed in a future version.\n",
            "Instructions for updating:\n",
            "Use tf.where in 2.0, which has the same broadcast rule as np.where\n"
          ],
          "name": "stderr"
        }
      ]
    },
    {
      "cell_type": "markdown",
      "metadata": {
        "id": "ZXxFcin9ggvD",
        "colab_type": "text"
      },
      "source": [
        "### Configuring the optimizer"
      ]
    },
    {
      "cell_type": "code",
      "metadata": {
        "id": "_kSkEyulf2Zr",
        "colab_type": "code",
        "colab": {}
      },
      "source": [
        "from keras import optimizers"
      ],
      "execution_count": 0,
      "outputs": []
    },
    {
      "cell_type": "code",
      "metadata": {
        "id": "3CwwDNbZh5ja",
        "colab_type": "code",
        "colab": {}
      },
      "source": [
        "model.compile(optimizer=optimizers.RMSprop(lr = 0.001), loss='binary_crossentropy', metrics=['accuracy'])"
      ],
      "execution_count": 0,
      "outputs": []
    },
    {
      "cell_type": "markdown",
      "metadata": {
        "id": "n72SrlCziiXd",
        "colab_type": "text"
      },
      "source": [
        "### using custom losses and metrics"
      ]
    },
    {
      "cell_type": "code",
      "metadata": {
        "id": "F71Z7y_YidKu",
        "colab_type": "code",
        "colab": {}
      },
      "source": [
        "from keras import losses, metrics"
      ],
      "execution_count": 0,
      "outputs": []
    },
    {
      "cell_type": "code",
      "metadata": {
        "id": "Q0D05cTMiUfE",
        "colab_type": "code",
        "colab": {}
      },
      "source": [
        "model.compile(optimizer=optimizers.RMSprop(lr = 0.001), loss=losses.binary_crossentropy, metrics=[metrics.binary_accuracy])"
      ],
      "execution_count": 0,
      "outputs": []
    },
    {
      "cell_type": "markdown",
      "metadata": {
        "id": "ajJxeN2SjINp",
        "colab_type": "text"
      },
      "source": [
        "## Validation"
      ]
    },
    {
      "cell_type": "code",
      "metadata": {
        "id": "NqOgVVm1i6OA",
        "colab_type": "code",
        "colab": {}
      },
      "source": [
        "X_val = X_train[:10000]\n",
        "X_partial_train = X_train[10000:]\n",
        "y_val = y_train[:10000]\n",
        "y_partial_train = y_train[10000:]"
      ],
      "execution_count": 0,
      "outputs": []
    },
    {
      "cell_type": "code",
      "metadata": {
        "id": "QJmylO0Rjylo",
        "colab_type": "code",
        "colab": {}
      },
      "source": [
        "model.compile(optimizer='rmsprop', loss='binary_crossentropy', metrics=['accuracy'])"
      ],
      "execution_count": 0,
      "outputs": []
    },
    {
      "cell_type": "code",
      "metadata": {
        "id": "HqBvxPvRkUhD",
        "colab_type": "code",
        "colab": {
          "base_uri": "https://localhost:8080/",
          "height": 768
        },
        "outputId": "9f839496-6e47-4a48-dc59-8f6c5e3e89dd"
      },
      "source": [
        "history = model.fit(X_partial_train, y_partial_train, epochs=20, batch_size=512, validation_data=(X_val, y_val))"
      ],
      "execution_count": 89,
      "outputs": [
        {
          "output_type": "stream",
          "text": [
            "W0903 19:20:48.290528 140265916606336 deprecation_wrapper.py:119] From /usr/local/lib/python3.6/dist-packages/keras/backend/tensorflow_backend.py:1033: The name tf.assign_add is deprecated. Please use tf.compat.v1.assign_add instead.\n",
            "\n"
          ],
          "name": "stderr"
        },
        {
          "output_type": "stream",
          "text": [
            "Train on 15000 samples, validate on 10000 samples\n",
            "Epoch 1/20\n",
            "15000/15000 [==============================] - 7s 435us/step - loss: 0.5512 - acc: 0.7795 - val_loss: 0.4244 - val_acc: 0.8674\n",
            "Epoch 2/20\n",
            "15000/15000 [==============================] - 2s 121us/step - loss: 0.3411 - acc: 0.8985 - val_loss: 0.3396 - val_acc: 0.8700\n",
            "Epoch 3/20\n",
            "15000/15000 [==============================] - 2s 122us/step - loss: 0.2465 - acc: 0.9251 - val_loss: 0.2960 - val_acc: 0.8830\n",
            "Epoch 4/20\n",
            "15000/15000 [==============================] - 2s 121us/step - loss: 0.1936 - acc: 0.9391 - val_loss: 0.3224 - val_acc: 0.8672\n",
            "Epoch 5/20\n",
            "15000/15000 [==============================] - 2s 121us/step - loss: 0.1586 - acc: 0.9518 - val_loss: 0.2882 - val_acc: 0.8825\n",
            "Epoch 6/20\n",
            "15000/15000 [==============================] - 2s 121us/step - loss: 0.1310 - acc: 0.9607 - val_loss: 0.2924 - val_acc: 0.8853\n",
            "Epoch 7/20\n",
            "15000/15000 [==============================] - 2s 122us/step - loss: 0.1065 - acc: 0.9688 - val_loss: 0.3368 - val_acc: 0.8742\n",
            "Epoch 8/20\n",
            "15000/15000 [==============================] - 2s 121us/step - loss: 0.0876 - acc: 0.9755 - val_loss: 0.3170 - val_acc: 0.8845\n",
            "Epoch 9/20\n",
            "15000/15000 [==============================] - 2s 121us/step - loss: 0.0750 - acc: 0.9795 - val_loss: 0.3363 - val_acc: 0.8817\n",
            "Epoch 10/20\n",
            "15000/15000 [==============================] - 2s 122us/step - loss: 0.0610 - acc: 0.9845 - val_loss: 0.3587 - val_acc: 0.8795\n",
            "Epoch 11/20\n",
            "15000/15000 [==============================] - 2s 121us/step - loss: 0.0499 - acc: 0.9884 - val_loss: 0.3840 - val_acc: 0.8784\n",
            "Epoch 12/20\n",
            "15000/15000 [==============================] - 2s 121us/step - loss: 0.0404 - acc: 0.9904 - val_loss: 0.4132 - val_acc: 0.8742\n",
            "Epoch 13/20\n",
            "15000/15000 [==============================] - 2s 121us/step - loss: 0.0330 - acc: 0.9930 - val_loss: 0.4429 - val_acc: 0.8736\n",
            "Epoch 14/20\n",
            "15000/15000 [==============================] - 2s 121us/step - loss: 0.0226 - acc: 0.9967 - val_loss: 0.4741 - val_acc: 0.8738\n",
            "Epoch 15/20\n",
            "15000/15000 [==============================] - 2s 120us/step - loss: 0.0187 - acc: 0.9973 - val_loss: 0.5209 - val_acc: 0.8712\n",
            "Epoch 16/20\n",
            "15000/15000 [==============================] - 2s 122us/step - loss: 0.0162 - acc: 0.9981 - val_loss: 0.5430 - val_acc: 0.8711\n",
            "Epoch 17/20\n",
            "15000/15000 [==============================] - 2s 121us/step - loss: 0.0120 - acc: 0.9987 - val_loss: 0.5627 - val_acc: 0.8693\n",
            "Epoch 18/20\n",
            "15000/15000 [==============================] - 2s 122us/step - loss: 0.0083 - acc: 0.9996 - val_loss: 0.6145 - val_acc: 0.8628\n",
            "Epoch 19/20\n",
            "15000/15000 [==============================] - 2s 122us/step - loss: 0.0073 - acc: 0.9993 - val_loss: 0.6304 - val_acc: 0.8675\n",
            "Epoch 20/20\n",
            "15000/15000 [==============================] - 2s 120us/step - loss: 0.0055 - acc: 0.9998 - val_loss: 0.6604 - val_acc: 0.8660\n"
          ],
          "name": "stdout"
        }
      ]
    },
    {
      "cell_type": "markdown",
      "metadata": {
        "id": "zosUgHs0ljqo",
        "colab_type": "text"
      },
      "source": [
        "## Plotting"
      ]
    },
    {
      "cell_type": "code",
      "metadata": {
        "id": "eXj3ZfMYk282",
        "colab_type": "code",
        "colab": {}
      },
      "source": [
        "history_dict = history.history"
      ],
      "execution_count": 0,
      "outputs": []
    },
    {
      "cell_type": "code",
      "metadata": {
        "id": "i1G0jukCmeVa",
        "colab_type": "code",
        "colab": {
          "base_uri": "https://localhost:8080/",
          "height": 34
        },
        "outputId": "dc3adc7a-2378-4535-a21f-01551be4eed7"
      },
      "source": [
        "history_dict.keys()"
      ],
      "execution_count": 95,
      "outputs": [
        {
          "output_type": "execute_result",
          "data": {
            "text/plain": [
              "dict_keys(['val_loss', 'val_acc', 'loss', 'acc'])"
            ]
          },
          "metadata": {
            "tags": []
          },
          "execution_count": 95
        }
      ]
    },
    {
      "cell_type": "code",
      "metadata": {
        "id": "UgREc5HWmgAK",
        "colab_type": "code",
        "colab": {}
      },
      "source": [
        "import matplotlib.pyplot as plt\n",
        "% matplotlib inline"
      ],
      "execution_count": 0,
      "outputs": []
    },
    {
      "cell_type": "code",
      "metadata": {
        "id": "0dtWXUwnnIgc",
        "colab_type": "code",
        "colab": {
          "base_uri": "https://localhost:8080/",
          "height": 295
        },
        "outputId": "e4ac06cc-dc2e-4900-8bfa-f37783ffefb8"
      },
      "source": [
        "val_loss = history_dict['val_loss']\n",
        "train_loss = history_dict['loss']\n",
        "\n",
        "epochs = range(1, len(val_loss)+1)\n",
        "plt.plot(epochs, train_loss, 'bo', label='training loss')\n",
        "plt.plot(epochs, val_loss, 'b', label='validation loss')\n",
        "plt.title('Training and validation loss')\n",
        "plt.xlabel('Epochs')\n",
        "plt.ylabel('Loss')\n",
        "plt.legend()\n",
        "plt.show()"
      ],
      "execution_count": 102,
      "outputs": [
        {
          "output_type": "display_data",
          "data": {
            "image/png": "[encoded data removed]",
            "text/plain": [
              "<Figure size 432x288 with 1 Axes>"
            ]
          },
          "metadata": {
            "tags": []
          }
        }
      ]
    },
    {
      "cell_type": "code",
      "metadata": {
        "id": "lQH6OOo_nb3C",
        "colab_type": "code",
        "colab": {
          "base_uri": "https://localhost:8080/",
          "height": 295
        },
        "outputId": "4e67dde9-0abb-4bfc-b1e3-01f77de0e0c3"
      },
      "source": [
        "val_acc = history_dict['val_acc']\n",
        "train_acc = history_dict['acc']\n",
        "\n",
        "epochs = range(1, len(val_acc)+1)\n",
        "plt.plot(epochs, train_acc, 'bo', label='training acc')\n",
        "plt.plot(epochs, val_acc, 'b', label='validation acc')\n",
        "plt.title('Training and validation acc')\n",
        "plt.xlabel('Epochs')\n",
        "plt.ylabel('acc')\n",
        "plt.legend()\n",
        "plt.show()"
      ],
      "execution_count": 104,
      "outputs": [
        {
          "output_type": "display_data",
          "data": {
            "image/png": "[encoded data removed]",
            "text/plain": [
              "<Figure size 432x288 with 1 Axes>"
            ]
          },
          "metadata": {
            "tags": []
          }
        }
      ]
    },
    {
      "cell_type": "code",
      "metadata": {
        "id": "t3ug2tU9pNjH",
        "colab_type": "code",
        "colab": {
          "base_uri": "https://localhost:8080/",
          "height": 357
        },
        "outputId": "3441a6d9-70ef-4661-8916-2d753492591c"
      },
      "source": [
        "val_acc"
      ],
      "execution_count": 105,
      "outputs": [
        {
          "output_type": "execute_result",
          "data": {
            "text/plain": [
              "[0.8673999992370606,\n",
              " 0.8699999996185303,\n",
              " 0.8830000002861023,\n",
              " 0.8672,\n",
              " 0.8824999997138977,\n",
              " 0.8853000000953675,\n",
              " 0.8741999998092651,\n",
              " 0.8845000002861023,\n",
              " 0.8817000000953674,\n",
              " 0.8795000004768372,\n",
              " 0.8784000001907348,\n",
              " 0.8742,\n",
              " 0.8735999998092652,\n",
              " 0.8737999999046325,\n",
              " 0.8711999997138977,\n",
              " 0.8710999997138977,\n",
              " 0.8693,\n",
              " 0.8627999995231629,\n",
              " 0.8674999997138977,\n",
              " 0.8659999996185302]"
            ]
          },
          "metadata": {
            "tags": []
          },
          "execution_count": 105
        }
      ]
    },
    {
      "cell_type": "code",
      "metadata": {
        "id": "XBpq5dLqp1CH",
        "colab_type": "code",
        "colab": {
          "base_uri": "https://localhost:8080/",
          "height": 357
        },
        "outputId": "4ffc6831-9875-46c6-cb7e-9adac37108c5"
      },
      "source": [
        "val_loss"
      ],
      "execution_count": 106,
      "outputs": [
        {
          "output_type": "execute_result",
          "data": {
            "text/plain": [
              "[0.4244114146232605,\n",
              " 0.3396249638557434,\n",
              " 0.2960110127925873,\n",
              " 0.32235915155410766,\n",
              " 0.28823593564033506,\n",
              " 0.29236408076286313,\n",
              " 0.33679107332229613,\n",
              " 0.31704977712631227,\n",
              " 0.33628498506546023,\n",
              " 0.35873153076171876,\n",
              " 0.3840444068431854,\n",
              " 0.41318784132003783,\n",
              " 0.4428722213745117,\n",
              " 0.4740822287082672,\n",
              " 0.5209254910469056,\n",
              " 0.5430305050849915,\n",
              " 0.5627270984172821,\n",
              " 0.6145212679862976,\n",
              " 0.6303640144348145,\n",
              " 0.6604279664993287]"
            ]
          },
          "metadata": {
            "tags": []
          },
          "execution_count": 106
        }
      ]
    },
    {
      "cell_type": "code",
      "metadata": {
        "id": "Url_q7VoqHX3",
        "colab_type": "code",
        "colab": {}
      },
      "source": [
        ""
      ],
      "execution_count": 0,
      "outputs": []
    }
  ]
}