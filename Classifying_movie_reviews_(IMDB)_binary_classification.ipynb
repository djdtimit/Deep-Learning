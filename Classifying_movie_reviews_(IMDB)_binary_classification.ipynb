{
  "nbformat": 4,
  "nbformat_minor": 0,
  "metadata": {
    "colab": {
      "name": "Classifying_movie_reviews_(IMDB)_binary_classification.ipynb",
      "version": "0.3.2",
      "provenance": [],
      "collapsed_sections": [],
      "include_colab_link": true
    },
    "kernelspec": {
      "name": "python3",
      "display_name": "Python 3"
    },
    "accelerator": "GPU"
  },
  "cells": [
    {
      "cell_type": "markdown",
      "metadata": {
        "id": "view-in-github",
        "colab_type": "text"
      },
      "source": [
        "<a href=\"https://colab.research.google.com/github/djdtimit/Deep-Learning/blob/master/Classifying_movie_reviews_(IMDB)_binary_classification.ipynb\" target=\"_parent\"><img src=\"https://colab.research.google.com/assets/colab-badge.svg\" alt=\"Open In Colab\"/></a>"
      ]
    },
    {
      "cell_type": "markdown",
      "metadata": {
        "id": "a_Qw4lksnOgb",
        "colab_type": "text"
      },
      "source": [
        "# Classifying movie reviews (IMDB): binary classification"
      ]
    },
    {
      "cell_type": "markdown",
      "metadata": {
        "id": "evSnwXPcns03",
        "colab_type": "text"
      },
      "source": [
        "classify movie reviews as\n",
        "positive or negative, based on the text content of the reviews"
      ]
    },
    {
      "cell_type": "code",
      "metadata": {
        "id": "-kKi9fWinS69",
        "colab_type": "code",
        "colab": {}
      },
      "source": [
        "from keras.datasets import imdb"
      ],
      "execution_count": 0,
      "outputs": []
    },
    {
      "cell_type": "code",
      "metadata": {
        "id": "L8O5daAJoIqW",
        "colab_type": "code",
        "colab": {}
      },
      "source": [
        "# keep only the 10000 most frequent occuring words\n",
        "(train_data, train_labels) , (test_data, test_labels) = imdb.load_data(num_words=10000)"
      ],
      "execution_count": 0,
      "outputs": []
    },
    {
      "cell_type": "code",
      "metadata": {
        "id": "X12-E2Saoavl",
        "colab_type": "code",
        "outputId": "ff2cea52-74a0-4950-cc6d-8782e07bad05",
        "colab": {
          "base_uri": "https://localhost:8080/",
          "height": 34
        }
      },
      "source": [
        "train_data.ndim"
      ],
      "execution_count": 54,
      "outputs": [
        {
          "output_type": "execute_result",
          "data": {
            "text/plain": [
              "1"
            ]
          },
          "metadata": {
            "tags": []
          },
          "execution_count": 54
        }
      ]
    },
    {
      "cell_type": "code",
      "metadata": {
        "id": "0RN17hGJofDj",
        "colab_type": "code",
        "outputId": "e9be198a-979a-4c67-8b82-9344e5189ad1",
        "colab": {
          "base_uri": "https://localhost:8080/",
          "height": 34
        }
      },
      "source": [
        "train_data.shape"
      ],
      "execution_count": 55,
      "outputs": [
        {
          "output_type": "execute_result",
          "data": {
            "text/plain": [
              "(25000,)"
            ]
          },
          "metadata": {
            "tags": []
          },
          "execution_count": 55
        }
      ]
    },
    {
      "cell_type": "code",
      "metadata": {
        "id": "JiGyTqfDppTo",
        "colab_type": "code",
        "outputId": "0ee1f0fa-7a5c-4b1d-da5d-5fa7536c9901",
        "colab": {
          "base_uri": "https://localhost:8080/",
          "height": 54
        }
      },
      "source": [
        "# list of word indices\n",
        "print(train_data[0])"
      ],
      "execution_count": 56,
      "outputs": [
        {
          "output_type": "stream",
          "text": [
            "[1, 14, 22, 16, 43, 530, 973, 1622, 1385, 65, 458, 4468, 66, 3941, 4, 173, 36, 256, 5, 25, 100, 43, 838, 112, 50, 670, 2, 9, 35, 480, 284, 5, 150, 4, 172, 112, 167, 2, 336, 385, 39, 4, 172, 4536, 1111, 17, 546, 38, 13, 447, 4, 192, 50, 16, 6, 147, 2025, 19, 14, 22, 4, 1920, 4613, 469, 4, 22, 71, 87, 12, 16, 43, 530, 38, 76, 15, 13, 1247, 4, 22, 17, 515, 17, 12, 16, 626, 18, 2, 5, 62, 386, 12, 8, 316, 8, 106, 5, 4, 2223, 5244, 16, 480, 66, 3785, 33, 4, 130, 12, 16, 38, 619, 5, 25, 124, 51, 36, 135, 48, 25, 1415, 33, 6, 22, 12, 215, 28, 77, 52, 5, 14, 407, 16, 82, 2, 8, 4, 107, 117, 5952, 15, 256, 4, 2, 7, 3766, 5, 723, 36, 71, 43, 530, 476, 26, 400, 317, 46, 7, 4, 2, 1029, 13, 104, 88, 4, 381, 15, 297, 98, 32, 2071, 56, 26, 141, 6, 194, 7486, 18, 4, 226, 22, 21, 134, 476, 26, 480, 5, 144, 30, 5535, 18, 51, 36, 28, 224, 92, 25, 104, 4, 226, 65, 16, 38, 1334, 88, 12, 16, 283, 5, 16, 4472, 113, 103, 32, 15, 16, 5345, 19, 178, 32]\n"
          ],
          "name": "stdout"
        }
      ]
    },
    {
      "cell_type": "code",
      "metadata": {
        "id": "P_UwyG3nq6AT",
        "colab_type": "code",
        "colab": {}
      },
      "source": [
        "word_index = imdb.get_word_index()\n",
        "reverse_word_index = dict(\n",
        "[(value, key) for (key, value) in word_index.items()])\n",
        "decoded_review = ' '.join(\n",
        "[reverse_word_index.get(i - 3, '?') for i in train_data[0]])"
      ],
      "execution_count": 0,
      "outputs": []
    },
    {
      "cell_type": "code",
      "metadata": {
        "id": "X-SIzZllrANc",
        "colab_type": "code",
        "outputId": "15c47e91-dc82-4060-e4db-e74b5a5dc9c2",
        "colab": {
          "base_uri": "https://localhost:8080/",
          "height": 54
        }
      },
      "source": [
        "decoded_review"
      ],
      "execution_count": 58,
      "outputs": [
        {
          "output_type": "execute_result",
          "data": {
            "text/plain": [
              "\"? this film was just brilliant casting location scenery story direction everyone's really suited the part they played and you could just imagine being there robert ? is an amazing actor and now the same being director ? father came from the same scottish island as myself so i loved the fact there was a real connection with this film the witty remarks throughout the film were great it was just brilliant so much that i bought the film as soon as it was released for ? and would recommend it to everyone to watch and the fly fishing was amazing really cried at the end it was so sad and you know what they say if you cry at a film it must have been good and this definitely was also ? to the two little boy's that played the ? of norman and paul they were just brilliant children are often left out of the ? list i think because the stars that play them all grown up are such a big profile for the whole film but these children are amazing and should be praised for what they have done don't you think the whole story was so lovely because it was true and was someone's life after all that was shared with us all\""
            ]
          },
          "metadata": {
            "tags": []
          },
          "execution_count": 58
        }
      ]
    },
    {
      "cell_type": "code",
      "metadata": {
        "id": "RxUJQEkYqG9I",
        "colab_type": "code",
        "outputId": "7b8fd539-aaad-4175-d17e-60b5033d7f10",
        "colab": {
          "base_uri": "https://localhost:8080/",
          "height": 34
        }
      },
      "source": [
        "print(train_labels)"
      ],
      "execution_count": 59,
      "outputs": [
        {
          "output_type": "stream",
          "text": [
            "[1 0 0 ... 0 1 0]\n"
          ],
          "name": "stdout"
        }
      ]
    },
    {
      "cell_type": "code",
      "metadata": {
        "id": "23js134VpTC4",
        "colab_type": "code",
        "outputId": "171a09fc-0d7e-45ea-b797-fcb7f57c2d40",
        "colab": {
          "base_uri": "https://localhost:8080/",
          "height": 34
        }
      },
      "source": [
        "test_data.shape"
      ],
      "execution_count": 60,
      "outputs": [
        {
          "output_type": "execute_result",
          "data": {
            "text/plain": [
              "(25000,)"
            ]
          },
          "metadata": {
            "tags": []
          },
          "execution_count": 60
        }
      ]
    },
    {
      "cell_type": "markdown",
      "metadata": {
        "id": "Cv2bY5qnpXxl",
        "colab_type": "text"
      },
      "source": [
        "## balanced dataset"
      ]
    },
    {
      "cell_type": "code",
      "metadata": {
        "id": "uvLjrsWMojn7",
        "colab_type": "code",
        "outputId": "c54c3e14-c16e-4e19-a6a1-0360887b3d1e",
        "colab": {
          "base_uri": "https://localhost:8080/",
          "height": 34
        }
      },
      "source": [
        " len([label for label in train_labels if label == 1])"
      ],
      "execution_count": 61,
      "outputs": [
        {
          "output_type": "execute_result",
          "data": {
            "text/plain": [
              "12500"
            ]
          },
          "metadata": {
            "tags": []
          },
          "execution_count": 61
        }
      ]
    },
    {
      "cell_type": "code",
      "metadata": {
        "id": "L_gZIs7oo5b6",
        "colab_type": "code",
        "outputId": "bee28849-abda-487d-e071-3fc7745dc93b",
        "colab": {
          "base_uri": "https://localhost:8080/",
          "height": 34
        }
      },
      "source": [
        " len([label for label in train_labels if label == 0])"
      ],
      "execution_count": 62,
      "outputs": [
        {
          "output_type": "execute_result",
          "data": {
            "text/plain": [
              "12500"
            ]
          },
          "metadata": {
            "tags": []
          },
          "execution_count": 62
        }
      ]
    },
    {
      "cell_type": "markdown",
      "metadata": {
        "id": "NAngFbYhHpZA",
        "colab_type": "text"
      },
      "source": [
        "## Preparing the data"
      ]
    },
    {
      "cell_type": "markdown",
      "metadata": {
        "id": "yykE9I3UIUF1",
        "colab_type": "text"
      },
      "source": [
        "### one-hot encoding"
      ]
    },
    {
      "cell_type": "code",
      "metadata": {
        "id": "zQ6E6z3DpOgn",
        "colab_type": "code",
        "colab": {}
      },
      "source": [
        "import numpy as np"
      ],
      "execution_count": 0,
      "outputs": []
    },
    {
      "cell_type": "code",
      "metadata": {
        "id": "OVsbrNdDHDTB",
        "colab_type": "code",
        "colab": {}
      },
      "source": [
        "def vectorize_sequences(sequences, dimension=10000):\n",
        "  one_hot_matrix = np.zeros((len(sequences), dimension))\n",
        "  \n",
        "  for i, sequence in enumerate(sequences):\n",
        "    one_hot_matrix[i, sequence] = 1.0\n",
        "    \n",
        "  return one_hot_matrix"
      ],
      "execution_count": 0,
      "outputs": []
    },
    {
      "cell_type": "code",
      "metadata": {
        "id": "Mm00-STBMngq",
        "colab_type": "code",
        "colab": {}
      },
      "source": [
        "X_train = vectorize_sequences(train_data)\n",
        "X_test = vectorize_sequences(test_data)"
      ],
      "execution_count": 0,
      "outputs": []
    },
    {
      "cell_type": "code",
      "metadata": {
        "id": "1ENjCe8fbrgZ",
        "colab_type": "code",
        "outputId": "659545ad-0dc7-4104-82ab-3fc5c78bc550",
        "colab": {
          "base_uri": "https://localhost:8080/",
          "height": 34
        }
      },
      "source": [
        "X_train.shape"
      ],
      "execution_count": 66,
      "outputs": [
        {
          "output_type": "execute_result",
          "data": {
            "text/plain": [
              "(25000, 10000)"
            ]
          },
          "metadata": {
            "tags": []
          },
          "execution_count": 66
        }
      ]
    },
    {
      "cell_type": "markdown",
      "metadata": {
        "id": "ZIF4ZJqJYdf3",
        "colab_type": "text"
      },
      "source": [
        "### vectorizing of labels"
      ]
    },
    {
      "cell_type": "code",
      "metadata": {
        "id": "q5gxj8iuX3js",
        "colab_type": "code",
        "colab": {}
      },
      "source": [
        "y_train = np.asarray(train_labels).astype('float32')\n",
        "y_test = np.asarray(test_labels).astype('float32')"
      ],
      "execution_count": 0,
      "outputs": []
    },
    {
      "cell_type": "code",
      "metadata": {
        "id": "ITT_Uw4vZhNU",
        "colab_type": "code",
        "outputId": "222a2515-3fca-4055-81d8-5e134c4d05e9",
        "colab": {
          "base_uri": "https://localhost:8080/",
          "height": 34
        }
      },
      "source": [
        "y_train"
      ],
      "execution_count": 68,
      "outputs": [
        {
          "output_type": "execute_result",
          "data": {
            "text/plain": [
              "array([1., 0., 0., ..., 0., 1., 0.], dtype=float32)"
            ]
          },
          "metadata": {
            "tags": []
          },
          "execution_count": 68
        }
      ]
    },
    {
      "cell_type": "markdown",
      "metadata": {
        "id": "bKBChD6VaiDv",
        "colab_type": "text"
      },
      "source": [
        "## Building the network"
      ]
    },
    {
      "cell_type": "markdown",
      "metadata": {
        "id": "SOOzmiycaiR6",
        "colab_type": "text"
      },
      "source": [
        "input data is vectors, and the labels are scalars (1s and 0s): simple stack of fully connected (Dense) layers with relu activations performs well on such a problem\n",
        "\n",
        "sigmoid returns probability of label equal to 1"
      ]
    },
    {
      "cell_type": "code",
      "metadata": {
        "id": "DIYz6dkkZjHZ",
        "colab_type": "code",
        "colab": {}
      },
      "source": [
        "from keras import models\n",
        "from keras import layers"
      ],
      "execution_count": 0,
      "outputs": []
    },
    {
      "cell_type": "code",
      "metadata": {
        "id": "5bPn3bSeaw_m",
        "colab_type": "code",
        "colab": {}
      },
      "source": [
        "model = models.Sequential()\n",
        "model.add(layers.Dense(16, activation='relu', input_shape=(10000,)))\n",
        "model.add(layers.Dense(16, activation='relu'))\n",
        "model.add(layers.Dense(1, activation='sigmoid'))"
      ],
      "execution_count": 0,
      "outputs": []
    },
    {
      "cell_type": "code",
      "metadata": {
        "id": "0djHjwlBcL_Z",
        "colab_type": "code",
        "colab": {}
      },
      "source": [
        "model.compile(optimizer='rmsprop', loss='binary_crossentropy', metrics=['accuracy'])"
      ],
      "execution_count": 0,
      "outputs": []
    },
    {
      "cell_type": "markdown",
      "metadata": {
        "id": "ZXxFcin9ggvD",
        "colab_type": "text"
      },
      "source": [
        "### Configuring the optimizer"
      ]
    },
    {
      "cell_type": "code",
      "metadata": {
        "id": "_kSkEyulf2Zr",
        "colab_type": "code",
        "colab": {}
      },
      "source": [
        "from keras import optimizers"
      ],
      "execution_count": 0,
      "outputs": []
    },
    {
      "cell_type": "code",
      "metadata": {
        "id": "3CwwDNbZh5ja",
        "colab_type": "code",
        "colab": {}
      },
      "source": [
        "model.compile(optimizer=optimizers.RMSprop(lr = 0.001), loss='binary_crossentropy', metrics=['accuracy'])"
      ],
      "execution_count": 0,
      "outputs": []
    },
    {
      "cell_type": "markdown",
      "metadata": {
        "id": "n72SrlCziiXd",
        "colab_type": "text"
      },
      "source": [
        "### using custom losses and metrics"
      ]
    },
    {
      "cell_type": "code",
      "metadata": {
        "id": "F71Z7y_YidKu",
        "colab_type": "code",
        "colab": {}
      },
      "source": [
        "from keras import losses, metrics"
      ],
      "execution_count": 0,
      "outputs": []
    },
    {
      "cell_type": "code",
      "metadata": {
        "id": "Q0D05cTMiUfE",
        "colab_type": "code",
        "colab": {}
      },
      "source": [
        "model.compile(optimizer=optimizers.RMSprop(lr = 0.001), loss=losses.binary_crossentropy, metrics=[metrics.binary_accuracy])"
      ],
      "execution_count": 0,
      "outputs": []
    },
    {
      "cell_type": "markdown",
      "metadata": {
        "id": "ajJxeN2SjINp",
        "colab_type": "text"
      },
      "source": [
        "## Validation"
      ]
    },
    {
      "cell_type": "code",
      "metadata": {
        "id": "NqOgVVm1i6OA",
        "colab_type": "code",
        "colab": {}
      },
      "source": [
        "X_val = X_train[:10000]\n",
        "X_partial_train = X_train[10000:]\n",
        "y_val = y_train[:10000]\n",
        "y_partial_train = y_train[10000:]"
      ],
      "execution_count": 0,
      "outputs": []
    },
    {
      "cell_type": "code",
      "metadata": {
        "id": "QJmylO0Rjylo",
        "colab_type": "code",
        "colab": {}
      },
      "source": [
        "model.compile(optimizer='rmsprop', loss='binary_crossentropy', metrics=['accuracy'])"
      ],
      "execution_count": 0,
      "outputs": []
    },
    {
      "cell_type": "code",
      "metadata": {
        "id": "HqBvxPvRkUhD",
        "colab_type": "code",
        "outputId": "94db1e5d-1f78-4f44-fa59-8cc50e48a72e",
        "colab": {
          "base_uri": "https://localhost:8080/",
          "height": 714
        }
      },
      "source": [
        "history = model.fit(X_partial_train, y_partial_train, epochs=20, batch_size=512, validation_data=(X_val, y_val))"
      ],
      "execution_count": 78,
      "outputs": [
        {
          "output_type": "stream",
          "text": [
            "Train on 15000 samples, validate on 10000 samples\n",
            "Epoch 1/20\n",
            "15000/15000 [==============================] - 2s 122us/step - loss: 0.5280 - acc: 0.7782 - val_loss: 0.4108 - val_acc: 0.8532\n",
            "Epoch 2/20\n",
            "15000/15000 [==============================] - 2s 103us/step - loss: 0.3216 - acc: 0.8977 - val_loss: 0.3304 - val_acc: 0.8750\n",
            "Epoch 3/20\n",
            "15000/15000 [==============================] - 2s 104us/step - loss: 0.2323 - acc: 0.9263 - val_loss: 0.3049 - val_acc: 0.8761\n",
            "Epoch 4/20\n",
            "15000/15000 [==============================] - 2s 103us/step - loss: 0.1821 - acc: 0.9407 - val_loss: 0.2784 - val_acc: 0.8898\n",
            "Epoch 5/20\n",
            "15000/15000 [==============================] - 2s 104us/step - loss: 0.1461 - acc: 0.9560 - val_loss: 0.2767 - val_acc: 0.8900\n",
            "Epoch 6/20\n",
            "15000/15000 [==============================] - 2s 103us/step - loss: 0.1178 - acc: 0.9641 - val_loss: 0.3234 - val_acc: 0.8733\n",
            "Epoch 7/20\n",
            "15000/15000 [==============================] - 2s 103us/step - loss: 0.0962 - acc: 0.9727 - val_loss: 0.3052 - val_acc: 0.8856\n",
            "Epoch 8/20\n",
            "15000/15000 [==============================] - 2s 101us/step - loss: 0.0765 - acc: 0.9801 - val_loss: 0.3230 - val_acc: 0.8846\n",
            "Epoch 9/20\n",
            "15000/15000 [==============================] - 2s 103us/step - loss: 0.0590 - acc: 0.9857 - val_loss: 0.3919 - val_acc: 0.8728\n",
            "Epoch 10/20\n",
            "15000/15000 [==============================] - 2s 103us/step - loss: 0.0481 - acc: 0.9887 - val_loss: 0.3830 - val_acc: 0.8785\n",
            "Epoch 11/20\n",
            "15000/15000 [==============================] - 2s 103us/step - loss: 0.0365 - acc: 0.9929 - val_loss: 0.4158 - val_acc: 0.8757\n",
            "Epoch 12/20\n",
            "15000/15000 [==============================] - 2s 103us/step - loss: 0.0275 - acc: 0.9959 - val_loss: 0.4265 - val_acc: 0.8781\n",
            "Epoch 13/20\n",
            "15000/15000 [==============================] - 2s 104us/step - loss: 0.0215 - acc: 0.9959 - val_loss: 0.4492 - val_acc: 0.8767\n",
            "Epoch 14/20\n",
            "15000/15000 [==============================] - 2s 102us/step - loss: 0.0190 - acc: 0.9967 - val_loss: 0.4757 - val_acc: 0.8754\n",
            "Epoch 15/20\n",
            "15000/15000 [==============================] - 2s 102us/step - loss: 0.0093 - acc: 0.9995 - val_loss: 0.5049 - val_acc: 0.8716\n",
            "Epoch 16/20\n",
            "15000/15000 [==============================] - 2s 103us/step - loss: 0.0100 - acc: 0.9984 - val_loss: 0.5397 - val_acc: 0.8725\n",
            "Epoch 17/20\n",
            "15000/15000 [==============================] - 2s 104us/step - loss: 0.0047 - acc: 0.9998 - val_loss: 0.5739 - val_acc: 0.8715\n",
            "Epoch 18/20\n",
            "15000/15000 [==============================] - 2s 103us/step - loss: 0.0061 - acc: 0.9993 - val_loss: 0.6034 - val_acc: 0.8702\n",
            "Epoch 19/20\n",
            "15000/15000 [==============================] - 2s 103us/step - loss: 0.0024 - acc: 0.9999 - val_loss: 0.6354 - val_acc: 0.8698\n",
            "Epoch 20/20\n",
            "15000/15000 [==============================] - 2s 104us/step - loss: 0.0048 - acc: 0.9991 - val_loss: 0.6550 - val_acc: 0.8689\n"
          ],
          "name": "stdout"
        }
      ]
    },
    {
      "cell_type": "markdown",
      "metadata": {
        "id": "zosUgHs0ljqo",
        "colab_type": "text"
      },
      "source": [
        "## Plotting"
      ]
    },
    {
      "cell_type": "code",
      "metadata": {
        "id": "eXj3ZfMYk282",
        "colab_type": "code",
        "colab": {}
      },
      "source": [
        "history_dict = history.history"
      ],
      "execution_count": 0,
      "outputs": []
    },
    {
      "cell_type": "code",
      "metadata": {
        "id": "i1G0jukCmeVa",
        "colab_type": "code",
        "outputId": "dad2d361-242e-4f43-b5cd-e76d47d98a36",
        "colab": {
          "base_uri": "https://localhost:8080/",
          "height": 34
        }
      },
      "source": [
        "history_dict.keys()"
      ],
      "execution_count": 80,
      "outputs": [
        {
          "output_type": "execute_result",
          "data": {
            "text/plain": [
              "dict_keys(['val_loss', 'val_acc', 'loss', 'acc'])"
            ]
          },
          "metadata": {
            "tags": []
          },
          "execution_count": 80
        }
      ]
    },
    {
      "cell_type": "code",
      "metadata": {
        "id": "UgREc5HWmgAK",
        "colab_type": "code",
        "colab": {}
      },
      "source": [
        "import matplotlib.pyplot as plt\n",
        "% matplotlib inline"
      ],
      "execution_count": 0,
      "outputs": []
    },
    {
      "cell_type": "code",
      "metadata": {
        "id": "0dtWXUwnnIgc",
        "colab_type": "code",
        "outputId": "c37803b0-3786-4c94-9d7f-c468fce79c28",
        "colab": {
          "base_uri": "https://localhost:8080/",
          "height": 295
        }
      },
      "source": [
        "val_loss = history_dict['val_loss']\n",
        "train_loss = history_dict['loss']\n",
        "\n",
        "epochs = range(1, len(val_loss)+1)\n",
        "plt.plot(epochs, train_loss, 'bo', label='training loss')\n",
        "plt.plot(epochs, val_loss, 'b', label='validation loss')\n",
        "plt.title('Training and validation loss')\n",
        "plt.xlabel('Epochs')\n",
        "plt.ylabel('Loss')\n",
        "plt.legend()\n",
        "plt.show()"
      ],
      "execution_count": 82,
      "outputs": [
        {
          "output_type": "display_data",
          "data": {
            "image/png": "[encoded data removed]",
            "text/plain": [
              "<Figure size 432x288 with 1 Axes>"
            ]
          },
          "metadata": {
            "tags": []
          }
        }
      ]
    },
    {
      "cell_type": "code",
      "metadata": {
        "id": "lQH6OOo_nb3C",
        "colab_type": "code",
        "outputId": "4cfdfec2-5eb1-4146-c238-c5e8e2fb9eb6",
        "colab": {
          "base_uri": "https://localhost:8080/",
          "height": 295
        }
      },
      "source": [
        "val_acc = history_dict['val_acc']\n",
        "train_acc = history_dict['acc']\n",
        "\n",
        "epochs = range(1, len(val_acc)+1)\n",
        "plt.plot(epochs, train_acc, 'bo', label='training acc')\n",
        "plt.plot(epochs, val_acc, 'b', label='validation acc')\n",
        "plt.title('Training and validation acc')\n",
        "plt.xlabel('Epochs')\n",
        "plt.ylabel('acc')\n",
        "plt.legend()\n",
        "plt.show()"
      ],
      "execution_count": 83,
      "outputs": [
        {
          "output_type": "display_data",
          "data": {
            "image/png": "[encoded data removed]",
            "text/plain": [
              "<Figure size 432x288 with 1 Axes>"
            ]
          },
          "metadata": {
            "tags": []
          }
        }
      ]
    },
    {
      "cell_type": "code",
      "metadata": {
        "id": "t3ug2tU9pNjH",
        "colab_type": "code",
        "outputId": "c829b2e5-947d-470b-9ba6-a86eb1a0482d",
        "colab": {
          "base_uri": "https://localhost:8080/",
          "height": 357
        }
      },
      "source": [
        "val_acc"
      ],
      "execution_count": 84,
      "outputs": [
        {
          "output_type": "execute_result",
          "data": {
            "text/plain": [
              "[0.8531999999046326,\n",
              " 0.8750000004768371,\n",
              " 0.8761000002861022,\n",
              " 0.8898000003814698,\n",
              " 0.8900000003814698,\n",
              " 0.8733000001907348,\n",
              " 0.8856,\n",
              " 0.8846000000953674,\n",
              " 0.8727999998092651,\n",
              " 0.8785,\n",
              " 0.8757000001907349,\n",
              " 0.8781000002861022,\n",
              " 0.8766999999046325,\n",
              " 0.8753999999046326,\n",
              " 0.8716,\n",
              " 0.8724999999046326,\n",
              " 0.8714999999046326,\n",
              " 0.8701999997138977,\n",
              " 0.8697999999046325,\n",
              " 0.8688999998092651]"
            ]
          },
          "metadata": {
            "tags": []
          },
          "execution_count": 84
        }
      ]
    },
    {
      "cell_type": "markdown",
      "metadata": {
        "id": "4KldrD1tLs9q",
        "colab_type": "text"
      },
      "source": [
        "best val_acc after 4 epochs -> retrain"
      ]
    },
    {
      "cell_type": "markdown",
      "metadata": {
        "id": "_4L6d81nL0eH",
        "colab_type": "text"
      },
      "source": [
        "## Retraining"
      ]
    },
    {
      "cell_type": "code",
      "metadata": {
        "id": "XBpq5dLqp1CH",
        "colab_type": "code",
        "outputId": "08c93d83-5e4e-425b-c3bc-d408feac8df2",
        "colab": {
          "base_uri": "https://localhost:8080/",
          "height": 170
        }
      },
      "source": [
        "model.fit(x=X_train, y=y_train, batch_size=512,epochs=4)"
      ],
      "execution_count": 85,
      "outputs": [
        {
          "output_type": "stream",
          "text": [
            "Epoch 1/4\n",
            "25000/25000 [==============================] - 2s 64us/step - loss: 0.2163 - acc: 0.9463\n",
            "Epoch 2/4\n",
            "25000/25000 [==============================] - 2s 64us/step - loss: 0.1226 - acc: 0.9639\n",
            "Epoch 3/4\n",
            "25000/25000 [==============================] - 2s 64us/step - loss: 0.0893 - acc: 0.9734\n",
            "Epoch 4/4\n",
            "25000/25000 [==============================] - 2s 64us/step - loss: 0.0642 - acc: 0.9822\n"
          ],
          "name": "stdout"
        },
        {
          "output_type": "execute_result",
          "data": {
            "text/plain": [
              "<keras.callbacks.History at 0x7ffa7d4eec50>"
            ]
          },
          "metadata": {
            "tags": []
          },
          "execution_count": 85
        }
      ]
    },
    {
      "cell_type": "code",
      "metadata": {
        "id": "Url_q7VoqHX3",
        "colab_type": "code",
        "colab": {
          "base_uri": "https://localhost:8080/",
          "height": 34
        },
        "outputId": "4b6a5694-bf6d-4550-a50a-45a657dcc5b1"
      },
      "source": [
        "results = model.evaluate(X_test, y_test)"
      ],
      "execution_count": 86,
      "outputs": [
        {
          "output_type": "stream",
          "text": [
            "25000/25000 [==============================] - 2s 80us/step\n"
          ],
          "name": "stdout"
        }
      ]
    },
    {
      "cell_type": "code",
      "metadata": {
        "id": "_1ToI9a5NWCm",
        "colab_type": "code",
        "colab": {
          "base_uri": "https://localhost:8080/",
          "height": 34
        },
        "outputId": "154e91b2-c6db-4148-dd7d-b3f681371812"
      },
      "source": [
        "results"
      ],
      "execution_count": 87,
      "outputs": [
        {
          "output_type": "execute_result",
          "data": {
            "text/plain": [
              "[0.4949550302553177, 0.8598]"
            ]
          },
          "metadata": {
            "tags": []
          },
          "execution_count": 87
        }
      ]
    },
    {
      "cell_type": "code",
      "metadata": {
        "id": "MRku5-DMNYMM",
        "colab_type": "code",
        "colab": {
          "base_uri": "https://localhost:8080/",
          "height": 34
        },
        "outputId": "1ff620ab-990b-4501-9bb1-88e23bde31cf"
      },
      "source": [
        "model.metrics_names"
      ],
      "execution_count": 88,
      "outputs": [
        {
          "output_type": "execute_result",
          "data": {
            "text/plain": [
              "['loss', 'acc']"
            ]
          },
          "metadata": {
            "tags": []
          },
          "execution_count": 88
        }
      ]
    },
    {
      "cell_type": "markdown",
      "metadata": {
        "id": "tPKS5L0eORg0",
        "colab_type": "text"
      },
      "source": [
        "## Prediction"
      ]
    },
    {
      "cell_type": "code",
      "metadata": {
        "id": "PA2XEjUhNt5g",
        "colab_type": "code",
        "colab": {
          "base_uri": "https://localhost:8080/",
          "height": 136
        },
        "outputId": "25e606c7-3289-48cb-ba55-c88d40b3fc4e"
      },
      "source": [
        "model.predict(X_test)"
      ],
      "execution_count": 89,
      "outputs": [
        {
          "output_type": "execute_result",
          "data": {
            "text/plain": [
              "array([[0.01844221],\n",
              "       [1.        ],\n",
              "       [0.9238348 ],\n",
              "       ...,\n",
              "       [0.04118869],\n",
              "       [0.07572913],\n",
              "       [0.81525993]], dtype=float32)"
            ]
          },
          "metadata": {
            "tags": []
          },
          "execution_count": 89
        }
      ]
    },
    {
      "cell_type": "markdown",
      "metadata": {
        "id": "zyIFjBUROsX5",
        "colab_type": "text"
      },
      "source": [
        "## Further experiments"
      ]
    },
    {
      "cell_type": "markdown",
      "metadata": {
        "id": "Q90e4q4wO68Y",
        "colab_type": "text"
      },
      "source": [
        "### One hidden layer"
      ]
    },
    {
      "cell_type": "code",
      "metadata": {
        "id": "dbd7HLbCOYOx",
        "colab_type": "code",
        "colab": {}
      },
      "source": [
        "model = models.Sequential()\n",
        "model.add(layer=layers.Dense(units=16, activation='relu',input_shape=(10000,)))\n",
        "model.add(layer=layers.Dense(units=1,activation='sigmoid'))"
      ],
      "execution_count": 0,
      "outputs": []
    },
    {
      "cell_type": "code",
      "metadata": {
        "id": "kkVS7aaSQMut",
        "colab_type": "code",
        "colab": {}
      },
      "source": [
        "model.compile(optimizer='rmsprop', loss ='binary_crossentropy', metrics=['accuracy'])"
      ],
      "execution_count": 0,
      "outputs": []
    },
    {
      "cell_type": "code",
      "metadata": {
        "id": "MUdWa7bOQlQB",
        "colab_type": "code",
        "colab": {
          "base_uri": "https://localhost:8080/",
          "height": 714
        },
        "outputId": "40a7c0cc-0a2f-40d5-9b9c-3c4a8f6fc74b"
      },
      "source": [
        "history = model.fit(x=X_partial_train, y=y_partial_train, batch_size=512,epochs=20,validation_data=(X_val, y_val))"
      ],
      "execution_count": 92,
      "outputs": [
        {
          "output_type": "stream",
          "text": [
            "Train on 15000 samples, validate on 10000 samples\n",
            "Epoch 1/20\n",
            "15000/15000 [==============================] - 2s 121us/step - loss: 0.4899 - acc: 0.7972 - val_loss: 0.3979 - val_acc: 0.8469\n",
            "Epoch 2/20\n",
            "15000/15000 [==============================] - 2s 105us/step - loss: 0.3049 - acc: 0.9065 - val_loss: 0.3147 - val_acc: 0.8848\n",
            "Epoch 3/20\n",
            "15000/15000 [==============================] - 2s 104us/step - loss: 0.2376 - acc: 0.9258 - val_loss: 0.2924 - val_acc: 0.8866\n",
            "Epoch 4/20\n",
            "15000/15000 [==============================] - 2s 104us/step - loss: 0.1951 - acc: 0.9399 - val_loss: 0.2791 - val_acc: 0.8885\n",
            "Epoch 5/20\n",
            "15000/15000 [==============================] - 2s 103us/step - loss: 0.1660 - acc: 0.9501 - val_loss: 0.2738 - val_acc: 0.8900\n",
            "Epoch 6/20\n",
            "15000/15000 [==============================] - 2s 103us/step - loss: 0.1427 - acc: 0.9593 - val_loss: 0.2990 - val_acc: 0.8790\n",
            "Epoch 7/20\n",
            "15000/15000 [==============================] - 2s 101us/step - loss: 0.1249 - acc: 0.9652 - val_loss: 0.2814 - val_acc: 0.8879\n",
            "Epoch 8/20\n",
            "15000/15000 [==============================] - 2s 102us/step - loss: 0.1101 - acc: 0.9687 - val_loss: 0.2939 - val_acc: 0.8851\n",
            "Epoch 9/20\n",
            "15000/15000 [==============================] - 2s 101us/step - loss: 0.0962 - acc: 0.9745 - val_loss: 0.3026 - val_acc: 0.8847\n",
            "Epoch 10/20\n",
            "15000/15000 [==============================] - 2s 103us/step - loss: 0.0853 - acc: 0.9777 - val_loss: 0.3116 - val_acc: 0.8838\n",
            "Epoch 11/20\n",
            "15000/15000 [==============================] - 2s 101us/step - loss: 0.0757 - acc: 0.9815 - val_loss: 0.3344 - val_acc: 0.8788\n",
            "Epoch 12/20\n",
            "15000/15000 [==============================] - 2s 101us/step - loss: 0.0668 - acc: 0.9849 - val_loss: 0.3358 - val_acc: 0.8808\n",
            "Epoch 13/20\n",
            "15000/15000 [==============================] - 2s 103us/step - loss: 0.0602 - acc: 0.9873 - val_loss: 0.3549 - val_acc: 0.8766\n",
            "Epoch 14/20\n",
            "15000/15000 [==============================] - 2s 102us/step - loss: 0.0513 - acc: 0.9900 - val_loss: 0.3654 - val_acc: 0.8779\n",
            "Epoch 15/20\n",
            "15000/15000 [==============================] - 2s 102us/step - loss: 0.0466 - acc: 0.9906 - val_loss: 0.3845 - val_acc: 0.8748\n",
            "Epoch 16/20\n",
            "15000/15000 [==============================] - 2s 102us/step - loss: 0.0411 - acc: 0.9927 - val_loss: 0.3967 - val_acc: 0.8752\n",
            "Epoch 17/20\n",
            "15000/15000 [==============================] - 2s 102us/step - loss: 0.0357 - acc: 0.9943 - val_loss: 0.4202 - val_acc: 0.8728\n",
            "Epoch 18/20\n",
            "15000/15000 [==============================] - 2s 101us/step - loss: 0.0317 - acc: 0.9951 - val_loss: 0.4320 - val_acc: 0.8732\n",
            "Epoch 19/20\n",
            "15000/15000 [==============================] - 2s 101us/step - loss: 0.0264 - acc: 0.9972 - val_loss: 0.4968 - val_acc: 0.8615\n",
            "Epoch 20/20\n",
            "15000/15000 [==============================] - 2s 102us/step - loss: 0.0243 - acc: 0.9971 - val_loss: 0.4764 - val_acc: 0.8703\n"
          ],
          "name": "stdout"
        }
      ]
    },
    {
      "cell_type": "code",
      "metadata": {
        "id": "r7H7RBlYRN9a",
        "colab_type": "code",
        "colab": {}
      },
      "source": [
        "history_dict = history.history"
      ],
      "execution_count": 0,
      "outputs": []
    },
    {
      "cell_type": "code",
      "metadata": {
        "id": "UYNzXNbyRohF",
        "colab_type": "code",
        "colab": {
          "base_uri": "https://localhost:8080/",
          "height": 34
        },
        "outputId": "8f4b2a66-cc18-420d-e073-ed5d41a0fade"
      },
      "source": [
        "history_dict.keys()"
      ],
      "execution_count": 94,
      "outputs": [
        {
          "output_type": "execute_result",
          "data": {
            "text/plain": [
              "dict_keys(['val_loss', 'val_acc', 'loss', 'acc'])"
            ]
          },
          "metadata": {
            "tags": []
          },
          "execution_count": 94
        }
      ]
    },
    {
      "cell_type": "code",
      "metadata": {
        "id": "z4FfJAHWRrEy",
        "colab_type": "code",
        "colab": {
          "base_uri": "https://localhost:8080/",
          "height": 357
        },
        "outputId": "a0a9bc54-f1d4-4cf3-8211-fa2df1f79795"
      },
      "source": [
        "history_dict['val_acc']"
      ],
      "execution_count": 95,
      "outputs": [
        {
          "output_type": "execute_result",
          "data": {
            "text/plain": [
              "[0.846900000667572,\n",
              " 0.8848,\n",
              " 0.8866000007629394,\n",
              " 0.8885000003814697,\n",
              " 0.8900000003814698,\n",
              " 0.879,\n",
              " 0.8879000001907349,\n",
              " 0.8851,\n",
              " 0.8847000001907349,\n",
              " 0.8838000001907349,\n",
              " 0.8788000000953674,\n",
              " 0.8808000000953674,\n",
              " 0.8766000000953674,\n",
              " 0.8779000001907349,\n",
              " 0.8748000000953674,\n",
              " 0.8751999999046326,\n",
              " 0.8727999999046325,\n",
              " 0.8731999996185302,\n",
              " 0.8614999998092652,\n",
              " 0.8702999998092651]"
            ]
          },
          "metadata": {
            "tags": []
          },
          "execution_count": 95
        }
      ]
    },
    {
      "cell_type": "code",
      "metadata": {
        "id": "Q9UbN4kRR0Kt",
        "colab_type": "code",
        "colab": {
          "base_uri": "https://localhost:8080/",
          "height": 170
        },
        "outputId": "ccb61d47-c3ca-4c43-ce93-e9c608804d40"
      },
      "source": [
        "model.fit(x=X_train, y=y_train, batch_size=512, epochs=4)"
      ],
      "execution_count": 96,
      "outputs": [
        {
          "output_type": "stream",
          "text": [
            "Epoch 1/4\n",
            "25000/25000 [==============================] - 2s 63us/step - loss: 0.1953 - acc: 0.9464\n",
            "Epoch 2/4\n",
            "25000/25000 [==============================] - 2s 63us/step - loss: 0.1434 - acc: 0.9570\n",
            "Epoch 3/4\n",
            "25000/25000 [==============================] - 2s 63us/step - loss: 0.1188 - acc: 0.9640\n",
            "Epoch 4/4\n",
            "25000/25000 [==============================] - 2s 63us/step - loss: 0.1023 - acc: 0.9697\n"
          ],
          "name": "stdout"
        },
        {
          "output_type": "execute_result",
          "data": {
            "text/plain": [
              "<keras.callbacks.History at 0x7ffa85d46438>"
            ]
          },
          "metadata": {
            "tags": []
          },
          "execution_count": 96
        }
      ]
    },
    {
      "cell_type": "code",
      "metadata": {
        "id": "lFcI5HCTSGlE",
        "colab_type": "code",
        "colab": {
          "base_uri": "https://localhost:8080/",
          "height": 51
        },
        "outputId": "b1da2a05-a8c9-4a70-e977-530e82266964"
      },
      "source": [
        "model.evaluate(x=X_test, y=y_test)"
      ],
      "execution_count": 97,
      "outputs": [
        {
          "output_type": "stream",
          "text": [
            "25000/25000 [==============================] - 2s 80us/step\n"
          ],
          "name": "stdout"
        },
        {
          "output_type": "execute_result",
          "data": {
            "text/plain": [
              "[0.461113265209198, 0.8568]"
            ]
          },
          "metadata": {
            "tags": []
          },
          "execution_count": 97
        }
      ]
    },
    {
      "cell_type": "markdown",
      "metadata": {
        "id": "dR9fhp6NUDFY",
        "colab_type": "text"
      },
      "source": [
        "acc not as good as in the two hidden layer case"
      ]
    },
    {
      "cell_type": "markdown",
      "metadata": {
        "id": "SJGuB9bbUxHx",
        "colab_type": "text"
      },
      "source": [
        "### three hidden layer"
      ]
    },
    {
      "cell_type": "code",
      "metadata": {
        "id": "vapkT5UNUtVT",
        "colab_type": "code",
        "colab": {}
      },
      "source": [
        "model = models.Sequential()\n",
        "model.add(layer=layers.Dense(units=16, activation='relu',input_shape=(10000,)))\n",
        "model.add(layer=layers.Dense(units=16,activation='relu'))\n",
        "model.add(layer=layers.Dense(units=16,activation='relu'))\n",
        "model.add(layer=layers.Dense(units=16,activation='relu'))\n",
        "model.add(layer=layers.Dense(units=1,activation='sigmoid'))"
      ],
      "execution_count": 0,
      "outputs": []
    },
    {
      "cell_type": "code",
      "metadata": {
        "id": "Lse9kHFCSf0d",
        "colab_type": "code",
        "colab": {}
      },
      "source": [
        "model.compile(optimizer='rmsprop',loss='binary_crossentropy', metrics=['accuracy'])"
      ],
      "execution_count": 0,
      "outputs": []
    },
    {
      "cell_type": "code",
      "metadata": {
        "id": "cmC_UgrHV7jU",
        "colab_type": "code",
        "colab": {
          "base_uri": "https://localhost:8080/",
          "height": 714
        },
        "outputId": "fdef2644-a47c-4d59-eeb7-9423e0ce74fa"
      },
      "source": [
        "history = model.fit(x=X_partial_train, y=y_partial_train, batch_size=512, epochs=20,validation_data=(X_val, y_val))"
      ],
      "execution_count": 102,
      "outputs": [
        {
          "output_type": "stream",
          "text": [
            "Train on 15000 samples, validate on 10000 samples\n",
            "Epoch 1/20\n",
            "15000/15000 [==============================] - 2s 130us/step - loss: 0.5715 - acc: 0.7637 - val_loss: 0.4318 - val_acc: 0.8648\n",
            "Epoch 2/20\n",
            "15000/15000 [==============================] - 2s 105us/step - loss: 0.3353 - acc: 0.8965 - val_loss: 0.3240 - val_acc: 0.8787\n",
            "Epoch 3/20\n",
            "15000/15000 [==============================] - 2s 105us/step - loss: 0.2326 - acc: 0.9225 - val_loss: 0.3125 - val_acc: 0.8769\n",
            "Epoch 4/20\n",
            "15000/15000 [==============================] - 2s 105us/step - loss: 0.1739 - acc: 0.9431 - val_loss: 0.2960 - val_acc: 0.8805\n",
            "Epoch 5/20\n",
            "15000/15000 [==============================] - 2s 104us/step - loss: 0.1425 - acc: 0.9537 - val_loss: 0.2894 - val_acc: 0.8853\n",
            "Epoch 6/20\n",
            "15000/15000 [==============================] - 2s 105us/step - loss: 0.1116 - acc: 0.9655 - val_loss: 0.3296 - val_acc: 0.8795\n",
            "Epoch 7/20\n",
            "15000/15000 [==============================] - 2s 105us/step - loss: 0.0985 - acc: 0.9683 - val_loss: 0.3262 - val_acc: 0.8828\n",
            "Epoch 8/20\n",
            "15000/15000 [==============================] - 2s 105us/step - loss: 0.0737 - acc: 0.9785 - val_loss: 0.3537 - val_acc: 0.8795\n",
            "Epoch 9/20\n",
            "15000/15000 [==============================] - 2s 106us/step - loss: 0.0628 - acc: 0.9829 - val_loss: 0.3947 - val_acc: 0.8750\n",
            "Epoch 10/20\n",
            "15000/15000 [==============================] - 2s 106us/step - loss: 0.0445 - acc: 0.9895 - val_loss: 0.4220 - val_acc: 0.8772\n",
            "Epoch 11/20\n",
            "15000/15000 [==============================] - 2s 104us/step - loss: 0.0392 - acc: 0.9905 - val_loss: 0.4703 - val_acc: 0.8707\n",
            "Epoch 12/20\n",
            "15000/15000 [==============================] - 2s 105us/step - loss: 0.0298 - acc: 0.9927 - val_loss: 0.4943 - val_acc: 0.8707\n",
            "Epoch 13/20\n",
            "15000/15000 [==============================] - 2s 105us/step - loss: 0.0270 - acc: 0.9921 - val_loss: 0.5246 - val_acc: 0.8705\n",
            "Epoch 14/20\n",
            "15000/15000 [==============================] - 2s 104us/step - loss: 0.0164 - acc: 0.9968 - val_loss: 0.6813 - val_acc: 0.8542\n",
            "Epoch 15/20\n",
            "15000/15000 [==============================] - 2s 104us/step - loss: 0.0091 - acc: 0.9989 - val_loss: 0.6135 - val_acc: 0.8661\n",
            "Epoch 16/20\n",
            "15000/15000 [==============================] - 2s 106us/step - loss: 0.0147 - acc: 0.9962 - val_loss: 0.6165 - val_acc: 0.8690\n",
            "Epoch 17/20\n",
            "15000/15000 [==============================] - 2s 105us/step - loss: 0.0059 - acc: 0.9991 - val_loss: 0.8388 - val_acc: 0.8461\n",
            "Epoch 18/20\n",
            "15000/15000 [==============================] - 2s 104us/step - loss: 0.0040 - acc: 0.9995 - val_loss: 0.6971 - val_acc: 0.8664\n",
            "Epoch 19/20\n",
            "15000/15000 [==============================] - 2s 104us/step - loss: 0.0125 - acc: 0.9966 - val_loss: 0.7341 - val_acc: 0.8673\n",
            "Epoch 20/20\n",
            "15000/15000 [==============================] - 2s 104us/step - loss: 0.0014 - acc: 0.9999 - val_loss: 0.7639 - val_acc: 0.8654\n"
          ],
          "name": "stdout"
        }
      ]
    },
    {
      "cell_type": "code",
      "metadata": {
        "id": "lTC7DLRBWTjm",
        "colab_type": "code",
        "colab": {
          "base_uri": "https://localhost:8080/",
          "height": 204
        },
        "outputId": "dbd1ee01-ad69-4cd6-b0a4-0aefb2dc0ffb"
      },
      "source": [
        "model.fit(x=X_train, y=y_train, batch_size=512,epochs=5)"
      ],
      "execution_count": 103,
      "outputs": [
        {
          "output_type": "stream",
          "text": [
            "Epoch 1/5\n",
            "25000/25000 [==============================] - 2s 65us/step - loss: 0.2559 - acc: 0.9454\n",
            "Epoch 2/5\n",
            "25000/25000 [==============================] - 2s 66us/step - loss: 0.1348 - acc: 0.9621\n",
            "Epoch 3/5\n",
            "25000/25000 [==============================] - 2s 65us/step - loss: 0.1045 - acc: 0.9700\n",
            "Epoch 4/5\n",
            "25000/25000 [==============================] - 2s 66us/step - loss: 0.0841 - acc: 0.9758\n",
            "Epoch 5/5\n",
            "25000/25000 [==============================] - 2s 66us/step - loss: 0.0664 - acc: 0.9821\n"
          ],
          "name": "stdout"
        },
        {
          "output_type": "execute_result",
          "data": {
            "text/plain": [
              "<keras.callbacks.History at 0x7ffa8ab1ec88>"
            ]
          },
          "metadata": {
            "tags": []
          },
          "execution_count": 103
        }
      ]
    },
    {
      "cell_type": "code",
      "metadata": {
        "id": "_L7Xll93W0-t",
        "colab_type": "code",
        "colab": {
          "base_uri": "https://localhost:8080/",
          "height": 34
        },
        "outputId": "6de2d682-79ca-4e03-8725-a9f414f175bb"
      },
      "source": [
        "results = model.evaluate(x=X_test, y=y_test)"
      ],
      "execution_count": 104,
      "outputs": [
        {
          "output_type": "stream",
          "text": [
            "25000/25000 [==============================] - 2s 84us/step\n"
          ],
          "name": "stdout"
        }
      ]
    },
    {
      "cell_type": "code",
      "metadata": {
        "id": "DS7BlGnQXD1F",
        "colab_type": "code",
        "colab": {
          "base_uri": "https://localhost:8080/",
          "height": 34
        },
        "outputId": "c8f53e8c-71a0-4108-d448-f763b0a0a5f4"
      },
      "source": [
        "results"
      ],
      "execution_count": 105,
      "outputs": [
        {
          "output_type": "execute_result",
          "data": {
            "text/plain": [
              "[0.5172021146202087, 0.85924]"
            ]
          },
          "metadata": {
            "tags": []
          },
          "execution_count": 105
        }
      ]
    },
    {
      "cell_type": "markdown",
      "metadata": {
        "id": "y6wGl9jpXemt",
        "colab_type": "text"
      },
      "source": [
        "### 32 hidden units"
      ]
    },
    {
      "cell_type": "code",
      "metadata": {
        "id": "tIukKeJEXF6k",
        "colab_type": "code",
        "colab": {}
      },
      "source": [
        "model = models.Sequential()\n",
        "model.add(layer=layers.Dense(units=32,activation='relu', input_shape=(10000,)))\n",
        "model.add(layer=layers.Dense(units=32,activation='relu'))\n",
        "model.add(layer=layers.Dense(units=32,activation='relu'))\n",
        "model.add(layer=layers.Dense(units=1,activation='sigmoid'))"
      ],
      "execution_count": 0,
      "outputs": []
    },
    {
      "cell_type": "code",
      "metadata": {
        "id": "1bmDmc-hYCKO",
        "colab_type": "code",
        "colab": {}
      },
      "source": [
        "model.compile(optimizer='rmsprop',loss='binary_crossentropy', metrics=['accuracy'])"
      ],
      "execution_count": 0,
      "outputs": []
    },
    {
      "cell_type": "code",
      "metadata": {
        "id": "7LcaH825YRYB",
        "colab_type": "code",
        "colab": {
          "base_uri": "https://localhost:8080/",
          "height": 731
        },
        "outputId": "62bf4e30-dc71-4163-d498-3f1fcef9efb7"
      },
      "source": [
        "model.fit(x=X_partial_train, y=y_partial_train,batch_size=512,epochs=20,validation_data=(X_val, y_val))"
      ],
      "execution_count": 109,
      "outputs": [
        {
          "output_type": "stream",
          "text": [
            "Train on 15000 samples, validate on 10000 samples\n",
            "Epoch 1/20\n",
            "15000/15000 [==============================] - 2s 132us/step - loss: 0.4924 - acc: 0.7803 - val_loss: 0.3440 - val_acc: 0.8694\n",
            "Epoch 2/20\n",
            "15000/15000 [==============================] - 2s 108us/step - loss: 0.2684 - acc: 0.9030 - val_loss: 0.3559 - val_acc: 0.8491\n",
            "Epoch 3/20\n",
            "15000/15000 [==============================] - 2s 105us/step - loss: 0.1897 - acc: 0.9315 - val_loss: 0.3297 - val_acc: 0.8691\n",
            "Epoch 4/20\n",
            "15000/15000 [==============================] - 2s 105us/step - loss: 0.1517 - acc: 0.9469 - val_loss: 0.3002 - val_acc: 0.8836\n",
            "Epoch 5/20\n",
            "15000/15000 [==============================] - 2s 106us/step - loss: 0.1184 - acc: 0.9582 - val_loss: 0.3378 - val_acc: 0.8789\n",
            "Epoch 6/20\n",
            "15000/15000 [==============================] - 2s 104us/step - loss: 0.0897 - acc: 0.9699 - val_loss: 0.3384 - val_acc: 0.8833\n",
            "Epoch 7/20\n",
            "15000/15000 [==============================] - 2s 106us/step - loss: 0.0641 - acc: 0.9801 - val_loss: 0.3813 - val_acc: 0.8791\n",
            "Epoch 8/20\n",
            "15000/15000 [==============================] - 2s 105us/step - loss: 0.0572 - acc: 0.9803 - val_loss: 0.4171 - val_acc: 0.8755\n",
            "Epoch 9/20\n",
            "15000/15000 [==============================] - 2s 105us/step - loss: 0.0417 - acc: 0.9869 - val_loss: 0.4568 - val_acc: 0.8758\n",
            "Epoch 10/20\n",
            "15000/15000 [==============================] - 2s 106us/step - loss: 0.0421 - acc: 0.9879 - val_loss: 0.4829 - val_acc: 0.8761\n",
            "Epoch 11/20\n",
            "15000/15000 [==============================] - 2s 105us/step - loss: 0.0100 - acc: 0.9989 - val_loss: 0.5293 - val_acc: 0.8730\n",
            "Epoch 12/20\n",
            "15000/15000 [==============================] - 2s 105us/step - loss: 0.0356 - acc: 0.9902 - val_loss: 0.5688 - val_acc: 0.8725\n",
            "Epoch 13/20\n",
            "15000/15000 [==============================] - 2s 104us/step - loss: 0.0040 - acc: 0.9998 - val_loss: 0.6126 - val_acc: 0.8715\n",
            "Epoch 14/20\n",
            "15000/15000 [==============================] - 2s 105us/step - loss: 0.0375 - acc: 0.9897 - val_loss: 0.6569 - val_acc: 0.8717\n",
            "Epoch 15/20\n",
            "15000/15000 [==============================] - 2s 104us/step - loss: 0.0017 - acc: 0.9999 - val_loss: 0.6840 - val_acc: 0.8709\n",
            "Epoch 16/20\n",
            "15000/15000 [==============================] - 2s 105us/step - loss: 0.0011 - acc: 1.0000 - val_loss: 0.7348 - val_acc: 0.8693\n",
            "Epoch 17/20\n",
            "15000/15000 [==============================] - 2s 104us/step - loss: 0.0437 - acc: 0.9911 - val_loss: 0.7933 - val_acc: 0.8698\n",
            "Epoch 18/20\n",
            "15000/15000 [==============================] - 2s 105us/step - loss: 4.4650e-04 - acc: 1.0000 - val_loss: 0.8095 - val_acc: 0.8687\n",
            "Epoch 19/20\n",
            "15000/15000 [==============================] - 2s 104us/step - loss: 3.5342e-04 - acc: 1.0000 - val_loss: 0.8375 - val_acc: 0.8681\n",
            "Epoch 20/20\n",
            "15000/15000 [==============================] - 2s 104us/step - loss: 2.5755e-04 - acc: 1.0000 - val_loss: 0.8873 - val_acc: 0.8674\n"
          ],
          "name": "stdout"
        },
        {
          "output_type": "execute_result",
          "data": {
            "text/plain": [
              "<keras.callbacks.History at 0x7ffa8a91edd8>"
            ]
          },
          "metadata": {
            "tags": []
          },
          "execution_count": 109
        }
      ]
    },
    {
      "cell_type": "code",
      "metadata": {
        "id": "Yj_iy1QDYkwC",
        "colab_type": "code",
        "colab": {
          "base_uri": "https://localhost:8080/",
          "height": 170
        },
        "outputId": "3b6379cd-1062-4393-aca6-ee1c85708372"
      },
      "source": [
        "model.fit(x=X_train, y=y_train,batch_size=512,epochs=4)"
      ],
      "execution_count": 110,
      "outputs": [
        {
          "output_type": "stream",
          "text": [
            "Epoch 1/4\n",
            "25000/25000 [==============================] - 2s 66us/step - loss: 0.2619 - acc: 0.9429\n",
            "Epoch 2/4\n",
            "25000/25000 [==============================] - 2s 65us/step - loss: 0.1215 - acc: 0.9639\n",
            "Epoch 3/4\n",
            "25000/25000 [==============================] - 2s 65us/step - loss: 0.0828 - acc: 0.9745\n",
            "Epoch 4/4\n",
            "25000/25000 [==============================] - 2s 65us/step - loss: 0.0520 - acc: 0.9842\n"
          ],
          "name": "stdout"
        },
        {
          "output_type": "execute_result",
          "data": {
            "text/plain": [
              "<keras.callbacks.History at 0x7ffa7d45f6a0>"
            ]
          },
          "metadata": {
            "tags": []
          },
          "execution_count": 110
        }
      ]
    },
    {
      "cell_type": "code",
      "metadata": {
        "id": "r-m4gNbfZPbU",
        "colab_type": "code",
        "colab": {
          "base_uri": "https://localhost:8080/",
          "height": 51
        },
        "outputId": "98c3d9ae-372f-4f99-83ce-d150abc99dae"
      },
      "source": [
        "model.evaluate(X_test, y_test)"
      ],
      "execution_count": 111,
      "outputs": [
        {
          "output_type": "stream",
          "text": [
            "25000/25000 [==============================] - 2s 82us/step\n"
          ],
          "name": "stdout"
        },
        {
          "output_type": "execute_result",
          "data": {
            "text/plain": [
              "[0.5583022185468673, 0.85988]"
            ]
          },
          "metadata": {
            "tags": []
          },
          "execution_count": 111
        }
      ]
    },
    {
      "cell_type": "markdown",
      "metadata": {
        "id": "k0Ywqp20aEDZ",
        "colab_type": "text"
      },
      "source": [
        "### 64 hidden units: best result"
      ]
    },
    {
      "cell_type": "code",
      "metadata": {
        "id": "PMY85lopZXO_",
        "colab_type": "code",
        "colab": {}
      },
      "source": [
        "model = models.Sequential()\n",
        "model.add(layer=layers.Dense(units=64, activation='relu', input_shape=(10000,)))\n",
        "model.add(layer=layers.Dense(units=64,activation='relu'))\n",
        "model.add(layer=layers.Dense(units=64,activation='relu'))\n",
        "model.add(layer=layers.Dense(units=1,activation='sigmoid'))"
      ],
      "execution_count": 0,
      "outputs": []
    },
    {
      "cell_type": "code",
      "metadata": {
        "id": "BJa8t6xMbSWa",
        "colab_type": "code",
        "colab": {}
      },
      "source": [
        "model.compile(optimizer='rmsprop',loss='binary_crossentropy', metrics=['accuracy'])"
      ],
      "execution_count": 0,
      "outputs": []
    },
    {
      "cell_type": "code",
      "metadata": {
        "id": "4i6WZbW9bfWu",
        "colab_type": "code",
        "colab": {
          "base_uri": "https://localhost:8080/",
          "height": 731
        },
        "outputId": "2b176173-59e9-4597-b59e-db9317cac1c2"
      },
      "source": [
        "model.fit(x=X_partial_train, y=y_partial_train, batch_size=512,epochs=20,validation_data=(X_train, y_train))"
      ],
      "execution_count": 115,
      "outputs": [
        {
          "output_type": "stream",
          "text": [
            "Train on 15000 samples, validate on 25000 samples\n",
            "Epoch 1/20\n",
            "15000/15000 [==============================] - 3s 194us/step - loss: 0.4979 - acc: 0.7477 - val_loss: 0.4085 - val_acc: 0.8166\n",
            "Epoch 2/20\n",
            "15000/15000 [==============================] - 2s 164us/step - loss: 0.2679 - acc: 0.8965 - val_loss: 0.2034 - val_acc: 0.9260\n",
            "Epoch 3/20\n",
            "15000/15000 [==============================] - 2s 164us/step - loss: 0.1947 - acc: 0.9294 - val_loss: 0.1910 - val_acc: 0.9296\n",
            "Epoch 4/20\n",
            "15000/15000 [==============================] - 2s 165us/step - loss: 0.1254 - acc: 0.9556 - val_loss: 0.1664 - val_acc: 0.9434\n",
            "Epoch 5/20\n",
            "15000/15000 [==============================] - 2s 163us/step - loss: 0.1008 - acc: 0.9664 - val_loss: 0.3538 - val_acc: 0.8774\n",
            "Epoch 6/20\n",
            "15000/15000 [==============================] - 2s 164us/step - loss: 0.0907 - acc: 0.9709 - val_loss: 0.1604 - val_acc: 0.9494\n",
            "Epoch 7/20\n",
            "15000/15000 [==============================] - 2s 163us/step - loss: 0.0262 - acc: 0.9938 - val_loss: 0.3385 - val_acc: 0.9061\n",
            "Epoch 8/20\n",
            "15000/15000 [==============================] - 2s 164us/step - loss: 0.0574 - acc: 0.9829 - val_loss: 0.1914 - val_acc: 0.9516\n",
            "Epoch 9/20\n",
            "15000/15000 [==============================] - 2s 166us/step - loss: 0.0662 - acc: 0.9843 - val_loss: 0.1918 - val_acc: 0.9511\n",
            "Epoch 10/20\n",
            "15000/15000 [==============================] - 2s 164us/step - loss: 0.0048 - acc: 0.9997 - val_loss: 0.2213 - val_acc: 0.9518\n",
            "Epoch 11/20\n",
            "15000/15000 [==============================] - 2s 164us/step - loss: 0.0575 - acc: 0.9891 - val_loss: 0.2385 - val_acc: 0.9472\n",
            "Epoch 12/20\n",
            "15000/15000 [==============================] - 2s 164us/step - loss: 0.0024 - acc: 0.9999 - val_loss: 0.2482 - val_acc: 0.9505\n",
            "Epoch 13/20\n",
            "15000/15000 [==============================] - 2s 164us/step - loss: 9.2073e-04 - acc: 0.9999 - val_loss: 0.2744 - val_acc: 0.9506\n",
            "Epoch 14/20\n",
            "15000/15000 [==============================] - 2s 163us/step - loss: 3.7730e-04 - acc: 0.9999 - val_loss: 0.3170 - val_acc: 0.9504\n",
            "Epoch 15/20\n",
            "15000/15000 [==============================] - 2s 161us/step - loss: 0.1006 - acc: 0.9877 - val_loss: 0.3167 - val_acc: 0.9512\n",
            "Epoch 16/20\n",
            "15000/15000 [==============================] - 2s 162us/step - loss: 4.2632e-04 - acc: 0.9999 - val_loss: 0.3215 - val_acc: 0.9507\n",
            "Epoch 17/20\n",
            "15000/15000 [==============================] - 2s 163us/step - loss: 1.0977e-04 - acc: 1.0000 - val_loss: 0.3329 - val_acc: 0.9511\n",
            "Epoch 18/20\n",
            "15000/15000 [==============================] - 2s 163us/step - loss: 6.0904e-05 - acc: 1.0000 - val_loss: 0.3538 - val_acc: 0.9503\n",
            "Epoch 19/20\n",
            "15000/15000 [==============================] - 2s 162us/step - loss: 2.7162e-05 - acc: 1.0000 - val_loss: 0.3785 - val_acc: 0.9496\n",
            "Epoch 20/20\n",
            "15000/15000 [==============================] - 2s 161us/step - loss: 8.8776e-06 - acc: 1.0000 - val_loss: 0.4099 - val_acc: 0.9497\n"
          ],
          "name": "stdout"
        },
        {
          "output_type": "execute_result",
          "data": {
            "text/plain": [
              "<keras.callbacks.History at 0x7ffa85a67d68>"
            ]
          },
          "metadata": {
            "tags": []
          },
          "execution_count": 115
        }
      ]
    },
    {
      "cell_type": "code",
      "metadata": {
        "id": "iT-t9e9GbuPa",
        "colab_type": "code",
        "colab": {
          "base_uri": "https://localhost:8080/",
          "height": 374
        },
        "outputId": "35e4a025-f71d-4038-caa6-1db2abcfc683"
      },
      "source": [
        "model.fit(x=X_train, y=y_train, batch_size=512,epochs=10)"
      ],
      "execution_count": 119,
      "outputs": [
        {
          "output_type": "stream",
          "text": [
            "Epoch 1/10\n",
            "25000/25000 [==============================] - 2s 66us/step - loss: 0.2300 - acc: 0.9413\n",
            "Epoch 2/10\n",
            "25000/25000 [==============================] - 2s 65us/step - loss: 0.1032 - acc: 0.9709\n",
            "Epoch 3/10\n",
            "25000/25000 [==============================] - 2s 66us/step - loss: 0.0524 - acc: 0.9862\n",
            "Epoch 4/10\n",
            "25000/25000 [==============================] - 2s 65us/step - loss: 0.0314 - acc: 0.9929\n",
            "Epoch 5/10\n",
            "25000/25000 [==============================] - 2s 64us/step - loss: 0.0257 - acc: 0.9952\n",
            "Epoch 6/10\n",
            "25000/25000 [==============================] - 2s 65us/step - loss: 0.0124 - acc: 0.9983\n",
            "Epoch 7/10\n",
            "25000/25000 [==============================] - 2s 66us/step - loss: 0.0325 - acc: 0.9957\n",
            "Epoch 8/10\n",
            "25000/25000 [==============================] - 2s 66us/step - loss: 0.0091 - acc: 0.9990\n",
            "Epoch 9/10\n",
            "25000/25000 [==============================] - 2s 66us/step - loss: 0.0082 - acc: 0.9994\n",
            "Epoch 10/10\n",
            "25000/25000 [==============================] - 2s 65us/step - loss: 0.0304 - acc: 0.9961\n"
          ],
          "name": "stdout"
        },
        {
          "output_type": "execute_result",
          "data": {
            "text/plain": [
              "<keras.callbacks.History at 0x7ffa8a6395c0>"
            ]
          },
          "metadata": {
            "tags": []
          },
          "execution_count": 119
        }
      ]
    },
    {
      "cell_type": "code",
      "metadata": {
        "id": "x6sCIyGTcLX0",
        "colab_type": "code",
        "colab": {
          "base_uri": "https://localhost:8080/",
          "height": 51
        },
        "outputId": "e7e5cb2e-336f-45a9-cecd-f76aeac450e9"
      },
      "source": [
        "model.evaluate(x=X_test, y=y_test)"
      ],
      "execution_count": 120,
      "outputs": [
        {
          "output_type": "stream",
          "text": [
            "25000/25000 [==============================] - 2s 83us/step\n"
          ],
          "name": "stdout"
        },
        {
          "output_type": "execute_result",
          "data": {
            "text/plain": [
              "[0.26223899785897425, 0.95964]"
            ]
          },
          "metadata": {
            "tags": []
          },
          "execution_count": 120
        }
      ]
    },
    {
      "cell_type": "markdown",
      "metadata": {
        "id": "XoHluN2VdkwP",
        "colab_type": "text"
      },
      "source": [
        "### mse loss function"
      ]
    },
    {
      "cell_type": "code",
      "metadata": {
        "id": "TE9LsvyfcpWv",
        "colab_type": "code",
        "colab": {}
      },
      "source": [
        "model = models.Sequential()\n",
        "model.add(layer=layers.Dense(units=16,activation='relu', input_shape=(10000,)))\n",
        "model.add(layer=layers.Dense(units=16,activation='relu'))\n",
        "model.add(layer=layers.Dense(units=16,activation='relu'))\n",
        "model.add(layer=layers.Dense(units=1, activation='sigmoid'))"
      ],
      "execution_count": 0,
      "outputs": []
    },
    {
      "cell_type": "code",
      "metadata": {
        "id": "dp2SEVFVecn-",
        "colab_type": "code",
        "colab": {}
      },
      "source": [
        "model.compile(optimizer='rmsprop', loss='mse', metrics=['accuracy'])"
      ],
      "execution_count": 0,
      "outputs": []
    },
    {
      "cell_type": "code",
      "metadata": {
        "id": "Gi4qJ11Let1Q",
        "colab_type": "code",
        "colab": {
          "base_uri": "https://localhost:8080/",
          "height": 731
        },
        "outputId": "7abc705d-0822-406c-9cf4-fdb49b34a5d8"
      },
      "source": [
        "model.fit(x=X_partial_train, y=y_partial_train, batch_size=512, epochs=20, validation_data=(X_val, y_val))"
      ],
      "execution_count": 124,
      "outputs": [
        {
          "output_type": "stream",
          "text": [
            "Train on 15000 samples, validate on 10000 samples\n",
            "Epoch 1/20\n",
            "15000/15000 [==============================] - 2s 133us/step - loss: 0.2022 - acc: 0.7303 - val_loss: 0.1655 - val_acc: 0.8015\n",
            "Epoch 2/20\n",
            "15000/15000 [==============================] - 2s 104us/step - loss: 0.1204 - acc: 0.8897 - val_loss: 0.1047 - val_acc: 0.8860\n",
            "Epoch 3/20\n",
            "15000/15000 [==============================] - 2s 103us/step - loss: 0.0735 - acc: 0.9275 - val_loss: 0.0900 - val_acc: 0.8867\n",
            "Epoch 4/20\n",
            "15000/15000 [==============================] - 2s 106us/step - loss: 0.0520 - acc: 0.9450 - val_loss: 0.0858 - val_acc: 0.8869\n",
            "Epoch 5/20\n",
            "15000/15000 [==============================] - 2s 105us/step - loss: 0.0409 - acc: 0.9571 - val_loss: 0.0916 - val_acc: 0.8771\n",
            "Epoch 6/20\n",
            "15000/15000 [==============================] - 2s 105us/step - loss: 0.0327 - acc: 0.9659 - val_loss: 0.0852 - val_acc: 0.8852\n",
            "Epoch 7/20\n",
            "15000/15000 [==============================] - 2s 105us/step - loss: 0.0263 - acc: 0.9743 - val_loss: 0.0877 - val_acc: 0.8836\n",
            "Epoch 8/20\n",
            "15000/15000 [==============================] - 2s 106us/step - loss: 0.0213 - acc: 0.9792 - val_loss: 0.1131 - val_acc: 0.8539\n",
            "Epoch 9/20\n",
            "15000/15000 [==============================] - 2s 106us/step - loss: 0.0172 - acc: 0.9840 - val_loss: 0.0965 - val_acc: 0.8757\n",
            "Epoch 10/20\n",
            "15000/15000 [==============================] - 2s 105us/step - loss: 0.0145 - acc: 0.9870 - val_loss: 0.0948 - val_acc: 0.8781\n",
            "Epoch 11/20\n",
            "15000/15000 [==============================] - 2s 102us/step - loss: 0.0128 - acc: 0.9875 - val_loss: 0.0971 - val_acc: 0.8766\n",
            "Epoch 12/20\n",
            "15000/15000 [==============================] - 2s 102us/step - loss: 0.0110 - acc: 0.9893 - val_loss: 0.0995 - val_acc: 0.8741\n",
            "Epoch 13/20\n",
            "15000/15000 [==============================] - 2s 103us/step - loss: 0.0067 - acc: 0.9943 - val_loss: 0.1017 - val_acc: 0.8726\n",
            "Epoch 14/20\n",
            "15000/15000 [==============================] - 2s 103us/step - loss: 0.0088 - acc: 0.9903 - val_loss: 0.1046 - val_acc: 0.8705\n",
            "Epoch 15/20\n",
            "15000/15000 [==============================] - 2s 104us/step - loss: 0.0049 - acc: 0.9956 - val_loss: 0.1065 - val_acc: 0.8685\n",
            "Epoch 16/20\n",
            "15000/15000 [==============================] - 2s 102us/step - loss: 0.0069 - acc: 0.9923 - val_loss: 0.1065 - val_acc: 0.8713\n",
            "Epoch 17/20\n",
            "15000/15000 [==============================] - 2s 102us/step - loss: 0.0041 - acc: 0.9962 - val_loss: 0.1086 - val_acc: 0.8688\n",
            "Epoch 18/20\n",
            "15000/15000 [==============================] - 2s 103us/step - loss: 0.0073 - acc: 0.9912 - val_loss: 0.1091 - val_acc: 0.8696\n",
            "Epoch 19/20\n",
            "15000/15000 [==============================] - 2s 102us/step - loss: 0.0036 - acc: 0.9965 - val_loss: 0.1106 - val_acc: 0.8676\n",
            "Epoch 20/20\n",
            "15000/15000 [==============================] - 2s 103us/step - loss: 0.0035 - acc: 0.9966 - val_loss: 0.1137 - val_acc: 0.8654\n"
          ],
          "name": "stdout"
        },
        {
          "output_type": "execute_result",
          "data": {
            "text/plain": [
              "<keras.callbacks.History at 0x7ffa8a62c320>"
            ]
          },
          "metadata": {
            "tags": []
          },
          "execution_count": 124
        }
      ]
    },
    {
      "cell_type": "code",
      "metadata": {
        "id": "oekV1N-ie6Xz",
        "colab_type": "code",
        "colab": {
          "base_uri": "https://localhost:8080/",
          "height": 170
        },
        "outputId": "74181f39-8490-4b89-a741-71a9c01e53a6"
      },
      "source": [
        "model.fit(x=X_train, y=y_train, batch_size=512, epochs=4)"
      ],
      "execution_count": 125,
      "outputs": [
        {
          "output_type": "stream",
          "text": [
            "Epoch 1/4\n",
            "25000/25000 [==============================] - 2s 64us/step - loss: 0.0470 - acc: 0.9444\n",
            "Epoch 2/4\n",
            "25000/25000 [==============================] - 2s 64us/step - loss: 0.0338 - acc: 0.9614\n",
            "Epoch 3/4\n",
            "25000/25000 [==============================] - 2s 64us/step - loss: 0.0268 - acc: 0.9708\n",
            "Epoch 4/4\n",
            "25000/25000 [==============================] - 2s 63us/step - loss: 0.0224 - acc: 0.9764\n"
          ],
          "name": "stdout"
        },
        {
          "output_type": "execute_result",
          "data": {
            "text/plain": [
              "<keras.callbacks.History at 0x7ffa7d5bc3c8>"
            ]
          },
          "metadata": {
            "tags": []
          },
          "execution_count": 125
        }
      ]
    },
    {
      "cell_type": "code",
      "metadata": {
        "id": "OJ9DExIafPHW",
        "colab_type": "code",
        "colab": {
          "base_uri": "https://localhost:8080/",
          "height": 51
        },
        "outputId": "2c45142f-ce81-4cdc-dfd2-ad1ed6dece44"
      },
      "source": [
        "model.evaluate(X_test, y_test)"
      ],
      "execution_count": 126,
      "outputs": [
        {
          "output_type": "stream",
          "text": [
            "25000/25000 [==============================] - 2s 82us/step\n"
          ],
          "name": "stdout"
        },
        {
          "output_type": "execute_result",
          "data": {
            "text/plain": [
              "[0.11503050029471516, 0.86272]"
            ]
          },
          "metadata": {
            "tags": []
          },
          "execution_count": 126
        }
      ]
    },
    {
      "cell_type": "markdown",
      "metadata": {
        "id": "L07f4cBWfi-k",
        "colab_type": "text"
      },
      "source": [
        "### tanh activation function"
      ]
    },
    {
      "cell_type": "code",
      "metadata": {
        "id": "5hIhJ28qfUa1",
        "colab_type": "code",
        "colab": {}
      },
      "source": [
        "model = models.Sequential()\n",
        "model.add(layer=layers.Dense(units=16,activation='tanh', input_shape=(10000,)))\n",
        "model.add(layer=layers.Dense(units=16,activation='tanh'))\n",
        "model.add(layer=layers.Dense(units=16,activation='tanh'))\n",
        "model.add(layer=layers.Dense(units=1, activation='sigmoid'))"
      ],
      "execution_count": 0,
      "outputs": []
    },
    {
      "cell_type": "code",
      "metadata": {
        "id": "rKcLsNLNftWw",
        "colab_type": "code",
        "colab": {}
      },
      "source": [
        "model.compile(optimizer='rmsprop', loss='binary_crossentropy', metrics=['accuracy'])"
      ],
      "execution_count": 0,
      "outputs": []
    },
    {
      "cell_type": "code",
      "metadata": {
        "id": "foIk11FPf9fz",
        "colab_type": "code",
        "colab": {
          "base_uri": "https://localhost:8080/",
          "height": 731
        },
        "outputId": "b9a4ab2d-b6b2-40d1-d918-858892989668"
      },
      "source": [
        "model.fit(X_partial_train, y_partial_train,512,20,validation_data=(X_val, y_val))"
      ],
      "execution_count": 130,
      "outputs": [
        {
          "output_type": "stream",
          "text": [
            "Train on 15000 samples, validate on 10000 samples\n",
            "Epoch 1/20\n",
            "15000/15000 [==============================] - 2s 141us/step - loss: 0.4796 - acc: 0.7925 - val_loss: 0.3397 - val_acc: 0.8739\n",
            "Epoch 2/20\n",
            "15000/15000 [==============================] - 2s 105us/step - loss: 0.2513 - acc: 0.9123 - val_loss: 0.2768 - val_acc: 0.8875\n",
            "Epoch 3/20\n",
            "15000/15000 [==============================] - 2s 107us/step - loss: 0.1755 - acc: 0.9393 - val_loss: 0.3772 - val_acc: 0.8548\n",
            "Epoch 4/20\n",
            "15000/15000 [==============================] - 2s 106us/step - loss: 0.1301 - acc: 0.9543 - val_loss: 0.3641 - val_acc: 0.8705\n",
            "Epoch 5/20\n",
            "15000/15000 [==============================] - 2s 107us/step - loss: 0.1063 - acc: 0.9634 - val_loss: 0.3631 - val_acc: 0.8747\n",
            "Epoch 6/20\n",
            "15000/15000 [==============================] - 2s 106us/step - loss: 0.0853 - acc: 0.9713 - val_loss: 0.3822 - val_acc: 0.8766\n",
            "Epoch 7/20\n",
            "15000/15000 [==============================] - 2s 106us/step - loss: 0.0628 - acc: 0.9803 - val_loss: 0.4473 - val_acc: 0.8716\n",
            "Epoch 8/20\n",
            "15000/15000 [==============================] - 2s 104us/step - loss: 0.0591 - acc: 0.9817 - val_loss: 0.4900 - val_acc: 0.8685\n",
            "Epoch 9/20\n",
            "15000/15000 [==============================] - 2s 104us/step - loss: 0.0291 - acc: 0.9937 - val_loss: 0.5107 - val_acc: 0.8672\n",
            "Epoch 10/20\n",
            "15000/15000 [==============================] - 2s 104us/step - loss: 0.0471 - acc: 0.9872 - val_loss: 0.5401 - val_acc: 0.8673\n",
            "Epoch 11/20\n",
            "15000/15000 [==============================] - 2s 104us/step - loss: 0.0359 - acc: 0.9908 - val_loss: 0.5624 - val_acc: 0.8677\n",
            "Epoch 12/20\n",
            "15000/15000 [==============================] - 2s 105us/step - loss: 0.0117 - acc: 0.9984 - val_loss: 0.6003 - val_acc: 0.8632\n",
            "Epoch 13/20\n",
            "15000/15000 [==============================] - 2s 104us/step - loss: 0.0383 - acc: 0.9909 - val_loss: 0.6197 - val_acc: 0.8650\n",
            "Epoch 14/20\n",
            "15000/15000 [==============================] - 2s 103us/step - loss: 0.0071 - acc: 0.9991 - val_loss: 0.6511 - val_acc: 0.8620\n",
            "Epoch 15/20\n",
            "15000/15000 [==============================] - 2s 104us/step - loss: 0.0055 - acc: 0.9993 - val_loss: 1.1268 - val_acc: 0.7970\n",
            "Epoch 16/20\n",
            "15000/15000 [==============================] - 2s 104us/step - loss: 0.0293 - acc: 0.9924 - val_loss: 0.7026 - val_acc: 0.8592\n",
            "Epoch 17/20\n",
            "15000/15000 [==============================] - 2s 104us/step - loss: 0.0044 - acc: 0.9995 - val_loss: 0.7347 - val_acc: 0.8591\n",
            "Epoch 18/20\n",
            "15000/15000 [==============================] - 2s 103us/step - loss: 0.0318 - acc: 0.9924 - val_loss: 0.7531 - val_acc: 0.8610\n",
            "Epoch 19/20\n",
            "15000/15000 [==============================] - 2s 104us/step - loss: 0.0024 - acc: 0.9998 - val_loss: 0.7646 - val_acc: 0.8590\n",
            "Epoch 20/20\n",
            "15000/15000 [==============================] - 2s 105us/step - loss: 0.0019 - acc: 0.9998 - val_loss: 0.7930 - val_acc: 0.8584\n"
          ],
          "name": "stdout"
        },
        {
          "output_type": "execute_result",
          "data": {
            "text/plain": [
              "<keras.callbacks.History at 0x7ffa87a0a400>"
            ]
          },
          "metadata": {
            "tags": []
          },
          "execution_count": 130
        }
      ]
    },
    {
      "cell_type": "code",
      "metadata": {
        "id": "ddAcB8rWgHLn",
        "colab_type": "code",
        "colab": {
          "base_uri": "https://localhost:8080/",
          "height": 102
        },
        "outputId": "9510d3b5-39c9-44dc-e40e-97365a30ca11"
      },
      "source": [
        "model.fit(X_train, y_train,512,2)"
      ],
      "execution_count": 131,
      "outputs": [
        {
          "output_type": "stream",
          "text": [
            "Epoch 1/2\n",
            "25000/25000 [==============================] - 2s 65us/step - loss: 0.2667 - acc: 0.9428\n",
            "Epoch 2/2\n",
            "25000/25000 [==============================] - 2s 65us/step - loss: 0.1428 - acc: 0.9592\n"
          ],
          "name": "stdout"
        },
        {
          "output_type": "execute_result",
          "data": {
            "text/plain": [
              "<keras.callbacks.History at 0x7ffa87674160>"
            ]
          },
          "metadata": {
            "tags": []
          },
          "execution_count": 131
        }
      ]
    },
    {
      "cell_type": "code",
      "metadata": {
        "id": "WRx63bnugZuk",
        "colab_type": "code",
        "colab": {
          "base_uri": "https://localhost:8080/",
          "height": 51
        },
        "outputId": "6979fec8-9fc0-4699-aea8-ff48de16c461"
      },
      "source": [
        "model.evaluate(X_test, y_test)"
      ],
      "execution_count": 133,
      "outputs": [
        {
          "output_type": "stream",
          "text": [
            "25000/25000 [==============================] - 2s 84us/step\n"
          ],
          "name": "stdout"
        },
        {
          "output_type": "execute_result",
          "data": {
            "text/plain": [
              "[0.43728182319164277, 0.85292]"
            ]
          },
          "metadata": {
            "tags": []
          },
          "execution_count": 133
        }
      ]
    },
    {
      "cell_type": "code",
      "metadata": {
        "id": "WLKfLzz9geC4",
        "colab_type": "code",
        "colab": {}
      },
      "source": [
        ""
      ],
      "execution_count": 0,
      "outputs": []
    }
  ]
}