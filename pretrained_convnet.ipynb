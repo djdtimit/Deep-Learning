{
  "nbformat": 4,
  "nbformat_minor": 0,
  "metadata": {
    "colab": {
      "name": "pretrained_convnet.ipynb",
      "provenance": [],
      "collapsed_sections": [],
      "include_colab_link": true
    },
    "kernelspec": {
      "name": "python3",
      "display_name": "Python 3"
    },
    "accelerator": "GPU"
  },
  "cells": [
    {
      "cell_type": "markdown",
      "metadata": {
        "id": "view-in-github",
        "colab_type": "text"
      },
      "source": [
        "<a href=\"https://colab.research.google.com/github/djdtimit/Deep-Learning/blob/master/pretrained_convnet.ipynb\" target=\"_parent\"><img src=\"https://colab.research.google.com/assets/colab-badge.svg\" alt=\"Open In Colab\"/></a>"
      ]
    },
    {
      "cell_type": "markdown",
      "metadata": {
        "id": "1IAoNi8VxoH7",
        "colab_type": "text"
      },
      "source": [
        "# Using a pretrained convnet\n"
      ]
    },
    {
      "cell_type": "markdown",
      "metadata": {
        "id": "XbPZMfYOxoEF",
        "colab_type": "text"
      },
      "source": [
        "large convnet trained on the ImageNet dataset (1.4 million labeled images and 1,000 different classes): ImageNet contains many animal classes, including different species of cats and dogs. Thus, it is expected that it will perform well on the dogs-versus-cats classification problems.\n",
        "\n",
        "There are two ways to use a pretrained network. feature extraction and fine-tuning.\n"
      ]
    },
    {
      "cell_type": "markdown",
      "metadata": {
        "id": "-v_ueruQxoA1",
        "colab_type": "text"
      },
      "source": [
        "## Feature extraction"
      ]
    },
    {
      "cell_type": "markdown",
      "metadata": {
        "id": "jYUSnspAxn-C",
        "colab_type": "text"
      },
      "source": [
        "Feature extraction consists of using the representations learned by a prevoius network to extract interesting features from new samples. These features are then run through a new classifier, which is trained from scratch.\n",
        "\n",
        "convnets consists of two parts:\n",
        "\n",
        "- series of pooling and convolution layers -> convolutional base of the model\n",
        "- end with a densely connected classifier\n",
        "\n",
        "feature extraction: using the convolutional base of a previously trained network, running the new data through it, and training a new classifier on top of the output.\n",
        "\n",
        "Why only reuse the convolutional base?\n",
        "\n",
        "- representations learned by the convolutional base are likely to be more generic and therefore more reuseable -> contain the object location\n",
        "\n",
        "- representaions learned by the classifier will be necessarily be specific to the set of classes on which the model was trained -> they will not contain information about where objects are located in the input image\n",
        "\n",
        "level of generality depends on the depth of the layer in the model:\n",
        "\n",
        "- earlier layers extract local, highly generic feature maps (edges, colors, and textures)\n",
        "\n",
        "- higher layers extract more abstract concepts (cat ear or dog eye)\n",
        "\n",
        "=> if new dataset differs a lot from the dataset on which the original model was trained: better off using only the first few layers do to feature extraction"
      ]
    },
    {
      "cell_type": "code",
      "metadata": {
        "id": "O51NU9pixdag",
        "colab_type": "code",
        "colab": {}
      },
      "source": [
        "from keras.applications import VGG16"
      ],
      "execution_count": 0,
      "outputs": []
    },
    {
      "cell_type": "code",
      "metadata": {
        "id": "ppjcejRy3mJG",
        "colab_type": "code",
        "colab": {}
      },
      "source": [
        "conv_base = VGG16(weights='imagenet',\n",
        "                  include_top=False, # not include the classifier\n",
        "                  input_shape=(150,150,3))"
      ],
      "execution_count": 0,
      "outputs": []
    },
    {
      "cell_type": "code",
      "metadata": {
        "id": "xu10M_rJ32yZ",
        "colab_type": "code",
        "outputId": "b0a6e58b-b8a0-4d4a-a348-728264055cdb",
        "colab": {
          "base_uri": "https://localhost:8080/",
          "height": 799
        }
      },
      "source": [
        "conv_base.summary()"
      ],
      "execution_count": 0,
      "outputs": [
        {
          "output_type": "stream",
          "text": [
            "Model: \"vgg16\"\n",
            "_________________________________________________________________\n",
            "Layer (type)                 Output Shape              Param #   \n",
            "=================================================================\n",
            "input_1 (InputLayer)         (None, 150, 150, 3)       0         \n",
            "_________________________________________________________________\n",
            "block1_conv1 (Conv2D)        (None, 150, 150, 64)      1792      \n",
            "_________________________________________________________________\n",
            "block1_conv2 (Conv2D)        (None, 150, 150, 64)      36928     \n",
            "_________________________________________________________________\n",
            "block1_pool (MaxPooling2D)   (None, 75, 75, 64)        0         \n",
            "_________________________________________________________________\n",
            "block2_conv1 (Conv2D)        (None, 75, 75, 128)       73856     \n",
            "_________________________________________________________________\n",
            "block2_conv2 (Conv2D)        (None, 75, 75, 128)       147584    \n",
            "_________________________________________________________________\n",
            "block2_pool (MaxPooling2D)   (None, 37, 37, 128)       0         \n",
            "_________________________________________________________________\n",
            "block3_conv1 (Conv2D)        (None, 37, 37, 256)       295168    \n",
            "_________________________________________________________________\n",
            "block3_conv2 (Conv2D)        (None, 37, 37, 256)       590080    \n",
            "_________________________________________________________________\n",
            "block3_conv3 (Conv2D)        (None, 37, 37, 256)       590080    \n",
            "_________________________________________________________________\n",
            "block3_pool (MaxPooling2D)   (None, 18, 18, 256)       0         \n",
            "_________________________________________________________________\n",
            "block4_conv1 (Conv2D)        (None, 18, 18, 512)       1180160   \n",
            "_________________________________________________________________\n",
            "block4_conv2 (Conv2D)        (None, 18, 18, 512)       2359808   \n",
            "_________________________________________________________________\n",
            "block4_conv3 (Conv2D)        (None, 18, 18, 512)       2359808   \n",
            "_________________________________________________________________\n",
            "block4_pool (MaxPooling2D)   (None, 9, 9, 512)         0         \n",
            "_________________________________________________________________\n",
            "block5_conv1 (Conv2D)        (None, 9, 9, 512)         2359808   \n",
            "_________________________________________________________________\n",
            "block5_conv2 (Conv2D)        (None, 9, 9, 512)         2359808   \n",
            "_________________________________________________________________\n",
            "block5_conv3 (Conv2D)        (None, 9, 9, 512)         2359808   \n",
            "_________________________________________________________________\n",
            "block5_pool (MaxPooling2D)   (None, 4, 4, 512)         0         \n",
            "=================================================================\n",
            "Total params: 14,714,688\n",
            "Trainable params: 14,714,688\n",
            "Non-trainable params: 0\n",
            "_________________________________________________________________\n"
          ],
          "name": "stdout"
        }
      ]
    },
    {
      "cell_type": "markdown",
      "metadata": {
        "id": "mPrAkZoj4k2k",
        "colab_type": "text"
      },
      "source": [
        "two ways to proceed:\n",
        "\n",
        "- Fast Feature Extraction without data augmentation\n",
        "\n",
        "- Feature extraction with data augmentation"
      ]
    },
    {
      "cell_type": "markdown",
      "metadata": {
        "id": "9UXClQ8Y5ESA",
        "colab_type": "text"
      },
      "source": [
        "## Fast feature extraction without data augmentation"
      ]
    },
    {
      "cell_type": "code",
      "metadata": {
        "id": "jktcW5315COS",
        "colab_type": "code",
        "colab": {}
      },
      "source": [
        "import os\n",
        "import numpy as np\n",
        "from keras.preprocessing.image import ImageDataGenerator"
      ],
      "execution_count": 0,
      "outputs": []
    },
    {
      "cell_type": "code",
      "metadata": {
        "id": "u9u3gdEE5dmr",
        "colab_type": "code",
        "outputId": "767bab83-9845-4d69-fdcf-a67a65b79d6d",
        "colab": {
          "base_uri": "https://localhost:8080/",
          "height": 122
        }
      },
      "source": [
        "from google.colab import drive\n",
        "drive.mount('/content/gdrive')"
      ],
      "execution_count": 28,
      "outputs": [
        {
          "output_type": "stream",
          "text": [
            "Go to this URL in a browser: https://accounts.google.com/o/oauth2/auth?client_id=947318989803-6bn6qk8qdgf4n4g3pfee6491hc0brc4i.apps.googleusercontent.com&redirect_uri=urn%3Aietf%3Awg%3Aoauth%3A2.0%3Aoob&scope=email%20https%3A%2F%2Fwww.googleapis.com%2Fauth%2Fdocs.test%20https%3A%2F%2Fwww.googleapis.com%2Fauth%2Fdrive%20https%3A%2F%2Fwww.googleapis.com%2Fauth%2Fdrive.photos.readonly%20https%3A%2F%2Fwww.googleapis.com%2Fauth%2Fpeopleapi.readonly&response_type=code\n",
            "\n",
            "Enter your authorization code:\n",
            "··········\n",
            "Mounted at /content/gdrive\n"
          ],
          "name": "stdout"
        }
      ]
    },
    {
      "cell_type": "code",
      "metadata": {
        "id": "u_Yqd1Hr56Sg",
        "colab_type": "code",
        "colab": {}
      },
      "source": [
        "base_dir = '/content/gdrive/My Drive/Colab Notebooks/dogs_vs_cats/cats_and_dogs_small'"
      ],
      "execution_count": 0,
      "outputs": []
    },
    {
      "cell_type": "code",
      "metadata": {
        "id": "O8Wh6CTd6F_Z",
        "colab_type": "code",
        "colab": {}
      },
      "source": [
        "train_dir = os.path.join(base_dir, 'train')"
      ],
      "execution_count": 0,
      "outputs": []
    },
    {
      "cell_type": "code",
      "metadata": {
        "id": "spkRzecX6Ki-",
        "colab_type": "code",
        "colab": {}
      },
      "source": [
        "validation_dir = os.path.join(base_dir, 'validation')"
      ],
      "execution_count": 0,
      "outputs": []
    },
    {
      "cell_type": "code",
      "metadata": {
        "id": "WaPFXwtT6N9c",
        "colab_type": "code",
        "colab": {}
      },
      "source": [
        "test_dir = os.path.join(base_dir, 'test')"
      ],
      "execution_count": 0,
      "outputs": []
    },
    {
      "cell_type": "code",
      "metadata": {
        "id": "wKDRCtnP6RSc",
        "colab_type": "code",
        "colab": {}
      },
      "source": [
        "datagen = ImageDataGenerator(rescale=1./255)"
      ],
      "execution_count": 0,
      "outputs": []
    },
    {
      "cell_type": "code",
      "metadata": {
        "id": "lMs3lR5r6cU0",
        "colab_type": "code",
        "colab": {}
      },
      "source": [
        "batch_size = 20"
      ],
      "execution_count": 0,
      "outputs": []
    },
    {
      "cell_type": "code",
      "metadata": {
        "id": "8tKoAUGE6ewW",
        "colab_type": "code",
        "colab": {}
      },
      "source": [
        "def extract_features(directory, sample_count):\n",
        "  features = np.zeros(shape=(sample_count, 4, 4, 512))\n",
        "  labels = np.zeros(shape=(sample_count))\n",
        "  generator = datagen.flow_from_directory(\n",
        "      directory,\n",
        "      target_size=(150, 150),\n",
        "      batch_size=batch_size,\n",
        "      class_mode='binary'\n",
        "  )\n",
        "  i = 0\n",
        "  for input_batch, labels_batch in generator:\n",
        "    features_batch = conv_base.predict(input_batch)\n",
        "    features[i * batch_size : (i+1) * batch_size] = features_batch\n",
        "    labels[i * batch_size : (i + 1) * batch_size] = labels_batch\n",
        "    i += 1\n",
        "    if i * batch_size >= sample_count:\n",
        "      break\n",
        "  return features, labels"
      ],
      "execution_count": 0,
      "outputs": []
    },
    {
      "cell_type": "code",
      "metadata": {
        "id": "Nosk3BTk8CRG",
        "colab_type": "code",
        "outputId": "274fb610-689a-46ea-96dc-81a84ce7cb37",
        "colab": {
          "base_uri": "https://localhost:8080/",
          "height": 68
        }
      },
      "source": [
        "train_features, train_labels = extract_features(train_dir, 2000)\n",
        "validation_features, validation_labels = extract_features(validation_dir, 1000)\n",
        "test_features, test_labels = extract_features(test_dir, 1000)"
      ],
      "execution_count": 0,
      "outputs": [
        {
          "output_type": "stream",
          "text": [
            "Found 2000 images belonging to 2 classes.\n",
            "Found 1000 images belonging to 2 classes.\n",
            "Found 1000 images belonging to 2 classes.\n"
          ],
          "name": "stdout"
        }
      ]
    },
    {
      "cell_type": "code",
      "metadata": {
        "id": "nbwIomFK8quS",
        "colab_type": "code",
        "colab": {}
      },
      "source": [
        "train_features = np.reshape(train_features, (2000, 4 * 4 * 512))\n",
        "validation_features = np.reshape(validation_features, (1000, 4 * 4 * 512))\n",
        "test_features = np.reshape(test_features, (1000, 4 * 4 * 512))"
      ],
      "execution_count": 0,
      "outputs": []
    },
    {
      "cell_type": "code",
      "metadata": {
        "id": "uxwZtUYqEq1z",
        "colab_type": "code",
        "colab": {}
      },
      "source": [
        "from keras import models\n",
        "from keras import layers\n",
        "from keras import optimizers"
      ],
      "execution_count": 0,
      "outputs": []
    },
    {
      "cell_type": "code",
      "metadata": {
        "id": "fnaMoOO6EylS",
        "colab_type": "code",
        "outputId": "0875bfb6-f502-4791-da87-bf6d26e6870f",
        "colab": {
          "base_uri": "https://localhost:8080/",
          "height": 88
        }
      },
      "source": [
        "model = models.Sequential()\n",
        "model.add(layers.Dense(units=256, activation='relu', input_dim=4*4*512))\n",
        "model.add(layers.Dropout(0.5))\n",
        "model.add(layers.Dense(1, activation='sigmoid'))"
      ],
      "execution_count": 0,
      "outputs": [
        {
          "output_type": "stream",
          "text": [
            "WARNING:tensorflow:From /usr/local/lib/python3.6/dist-packages/keras/backend/tensorflow_backend.py:3733: calling dropout (from tensorflow.python.ops.nn_ops) with keep_prob is deprecated and will be removed in a future version.\n",
            "Instructions for updating:\n",
            "Please use `rate` instead of `keep_prob`. Rate should be set to `rate = 1 - keep_prob`.\n"
          ],
          "name": "stdout"
        }
      ]
    },
    {
      "cell_type": "code",
      "metadata": {
        "id": "YfKMt2ItFbP1",
        "colab_type": "code",
        "outputId": "19f54821-3b8b-4bca-f040-ef6a839aae4b",
        "colab": {
          "base_uri": "https://localhost:8080/",
          "height": 122
        }
      },
      "source": [
        "model.compile(optimizer='rmsprop',loss='binary_crossentropy', metrics=['accuracy'])"
      ],
      "execution_count": 0,
      "outputs": [
        {
          "output_type": "stream",
          "text": [
            "WARNING:tensorflow:From /usr/local/lib/python3.6/dist-packages/keras/optimizers.py:793: The name tf.train.Optimizer is deprecated. Please use tf.compat.v1.train.Optimizer instead.\n",
            "\n",
            "WARNING:tensorflow:From /usr/local/lib/python3.6/dist-packages/tensorflow/python/ops/nn_impl.py:180: add_dispatch_support.<locals>.wrapper (from tensorflow.python.ops.array_ops) is deprecated and will be removed in a future version.\n",
            "Instructions for updating:\n",
            "Use tf.where in 2.0, which has the same broadcast rule as np.where\n"
          ],
          "name": "stdout"
        }
      ]
    },
    {
      "cell_type": "code",
      "metadata": {
        "id": "mPI1BE-LFoDF",
        "colab_type": "code",
        "outputId": "0bef1a2f-a374-46a2-ee03-c05d9d6c850a",
        "colab": {
          "base_uri": "https://localhost:8080/",
          "height": 1000
        }
      },
      "source": [
        "history = model.fit(x=train_features, y = train_labels, epochs=30, batch_size=20, validation_data=(validation_features, validation_labels))"
      ],
      "execution_count": 0,
      "outputs": [
        {
          "output_type": "stream",
          "text": [
            "Train on 2000 samples, validate on 1000 samples\n",
            "Epoch 1/30\n",
            "2000/2000 [==============================] - 2s 993us/step - loss: 0.7079 - acc: 0.7575 - val_loss: 0.4313 - val_acc: 0.7860\n",
            "Epoch 2/30\n",
            "2000/2000 [==============================] - 1s 423us/step - loss: 0.3476 - acc: 0.8540 - val_loss: 0.2607 - val_acc: 0.9010\n",
            "Epoch 3/30\n",
            "2000/2000 [==============================] - 1s 422us/step - loss: 0.2831 - acc: 0.8865 - val_loss: 0.2705 - val_acc: 0.8960\n",
            "Epoch 4/30\n",
            "2000/2000 [==============================] - 1s 420us/step - loss: 0.2502 - acc: 0.9030 - val_loss: 0.3544 - val_acc: 0.8660\n",
            "Epoch 5/30\n",
            "2000/2000 [==============================] - 1s 413us/step - loss: 0.2197 - acc: 0.9200 - val_loss: 0.2951 - val_acc: 0.8950\n",
            "Epoch 6/30\n",
            "2000/2000 [==============================] - 1s 431us/step - loss: 0.1904 - acc: 0.9245 - val_loss: 0.2621 - val_acc: 0.9020\n",
            "Epoch 7/30\n",
            "2000/2000 [==============================] - 1s 404us/step - loss: 0.1581 - acc: 0.9385 - val_loss: 0.3133 - val_acc: 0.8920\n",
            "Epoch 8/30\n",
            "2000/2000 [==============================] - 1s 415us/step - loss: 0.1388 - acc: 0.9430 - val_loss: 0.3126 - val_acc: 0.8970\n",
            "Epoch 9/30\n",
            "2000/2000 [==============================] - 1s 423us/step - loss: 0.1302 - acc: 0.9535 - val_loss: 0.6041 - val_acc: 0.8230\n",
            "Epoch 10/30\n",
            "2000/2000 [==============================] - 1s 409us/step - loss: 0.1145 - acc: 0.9515 - val_loss: 0.4246 - val_acc: 0.8850\n",
            "Epoch 11/30\n",
            "2000/2000 [==============================] - 1s 421us/step - loss: 0.1063 - acc: 0.9550 - val_loss: 0.4495 - val_acc: 0.8960\n",
            "Epoch 12/30\n",
            "2000/2000 [==============================] - 1s 406us/step - loss: 0.1134 - acc: 0.9570 - val_loss: 0.4070 - val_acc: 0.8930\n",
            "Epoch 13/30\n",
            "2000/2000 [==============================] - 1s 427us/step - loss: 0.0765 - acc: 0.9700 - val_loss: 0.4229 - val_acc: 0.8940\n",
            "Epoch 14/30\n",
            "2000/2000 [==============================] - 1s 417us/step - loss: 0.0812 - acc: 0.9745 - val_loss: 0.4981 - val_acc: 0.8930\n",
            "Epoch 15/30\n",
            "2000/2000 [==============================] - 1s 413us/step - loss: 0.0900 - acc: 0.9655 - val_loss: 0.4403 - val_acc: 0.8920\n",
            "Epoch 16/30\n",
            "2000/2000 [==============================] - 1s 410us/step - loss: 0.0589 - acc: 0.9745 - val_loss: 0.6620 - val_acc: 0.8770\n",
            "Epoch 17/30\n",
            "2000/2000 [==============================] - 1s 423us/step - loss: 0.0582 - acc: 0.9780 - val_loss: 0.4622 - val_acc: 0.9010\n",
            "Epoch 18/30\n",
            "2000/2000 [==============================] - 1s 405us/step - loss: 0.0593 - acc: 0.9790 - val_loss: 0.5132 - val_acc: 0.9050\n",
            "Epoch 19/30\n",
            "2000/2000 [==============================] - 1s 415us/step - loss: 0.0385 - acc: 0.9840 - val_loss: 0.5346 - val_acc: 0.8990\n",
            "Epoch 20/30\n",
            "2000/2000 [==============================] - 1s 407us/step - loss: 0.0396 - acc: 0.9845 - val_loss: 0.6203 - val_acc: 0.8950\n",
            "Epoch 21/30\n",
            "2000/2000 [==============================] - 1s 430us/step - loss: 0.0528 - acc: 0.9805 - val_loss: 0.5977 - val_acc: 0.9030\n",
            "Epoch 22/30\n",
            "2000/2000 [==============================] - 1s 415us/step - loss: 0.0269 - acc: 0.9895 - val_loss: 0.6398 - val_acc: 0.8930\n",
            "Epoch 23/30\n",
            "2000/2000 [==============================] - 1s 425us/step - loss: 0.0461 - acc: 0.9875 - val_loss: 0.7180 - val_acc: 0.8920\n",
            "Epoch 24/30\n",
            "2000/2000 [==============================] - 1s 406us/step - loss: 0.0387 - acc: 0.9905 - val_loss: 0.6215 - val_acc: 0.9030\n",
            "Epoch 25/30\n",
            "2000/2000 [==============================] - 1s 411us/step - loss: 0.0227 - acc: 0.9910 - val_loss: 0.8103 - val_acc: 0.8870\n",
            "Epoch 26/30\n",
            "2000/2000 [==============================] - 1s 416us/step - loss: 0.0293 - acc: 0.9900 - val_loss: 0.6453 - val_acc: 0.9030\n",
            "Epoch 27/30\n",
            "2000/2000 [==============================] - 1s 427us/step - loss: 0.0388 - acc: 0.9855 - val_loss: 1.2992 - val_acc: 0.8350\n",
            "Epoch 28/30\n",
            "2000/2000 [==============================] - 1s 410us/step - loss: 0.0205 - acc: 0.9925 - val_loss: 0.7297 - val_acc: 0.9010\n",
            "Epoch 29/30\n",
            "2000/2000 [==============================] - 1s 422us/step - loss: 0.0213 - acc: 0.9925 - val_loss: 0.7488 - val_acc: 0.9020\n",
            "Epoch 30/30\n",
            "2000/2000 [==============================] - 1s 418us/step - loss: 0.0286 - acc: 0.9910 - val_loss: 0.7038 - val_acc: 0.8980\n"
          ],
          "name": "stdout"
        }
      ]
    },
    {
      "cell_type": "code",
      "metadata": {
        "id": "Ic5w-vRuF2wf",
        "colab_type": "code",
        "colab": {}
      },
      "source": [
        "import matplotlib.pyplot as plt\n",
        "%matplotlib inline"
      ],
      "execution_count": 0,
      "outputs": []
    },
    {
      "cell_type": "code",
      "metadata": {
        "id": "RfDIzui3GFzD",
        "colab_type": "code",
        "colab": {}
      },
      "source": [
        "acc = history.history['acc']\n",
        "val_acc = history.history['val_acc']\n",
        "loss = history.history['loss']\n",
        "val_loss = history.history['val_loss']"
      ],
      "execution_count": 0,
      "outputs": []
    },
    {
      "cell_type": "code",
      "metadata": {
        "id": "d50ckf45Gbld",
        "colab_type": "code",
        "colab": {}
      },
      "source": [
        "epochs = range(1, len(acc) + 1)"
      ],
      "execution_count": 0,
      "outputs": []
    },
    {
      "cell_type": "code",
      "metadata": {
        "id": "ZqOfifpfGfoG",
        "colab_type": "code",
        "outputId": "3efd6926-892d-435c-fe54-a9041c7a11a4",
        "colab": {
          "base_uri": "https://localhost:8080/",
          "height": 545
        }
      },
      "source": [
        "plt.plot(epochs, acc, 'bo', label='Training acc')\n",
        "plt.plot(epochs, val_acc, 'b', label='Validation acc')\n",
        "plt.title('Training and validation accuracy')\n",
        "plt.legend()\n",
        "\n",
        "plt.figure()\n",
        "\n",
        "plt.plot(epochs, loss, 'bo', label='Training loss')\n",
        "plt.plot(epochs, val_loss, 'b', label='Validation loss')\n",
        "plt.title('Training and validation loss')\n",
        "plt.legend()\n",
        "\n",
        "plt.show()"
      ],
      "execution_count": 0,
      "outputs": [
        {
          "output_type": "display_data",
          "data": {
            "image/png": "[encoded data removed]",
            "text/plain": [
              "<Figure size 432x288 with 1 Axes>"
            ]
          },
          "metadata": {
            "tags": []
          }
        },
        {
          "output_type": "display_data",
          "data": {
            "image/png": "[encoded data removed]",
            "text/plain": [
              "<Figure size 432x288 with 1 Axes>"
            ]
          },
          "metadata": {
            "tags": []
          }
        }
      ]
    },
    {
      "cell_type": "markdown",
      "metadata": {
        "id": "tHW2CKT9HdVu",
        "colab_type": "text"
      },
      "source": [
        "=> overfitting because no data augmentation, which is essential for preventing overfitting on small image datasets"
      ]
    },
    {
      "cell_type": "markdown",
      "metadata": {
        "id": "M-xclXmMUkgG",
        "colab_type": "text"
      },
      "source": [
        "## Feature Extraction with data augmentation"
      ]
    },
    {
      "cell_type": "markdown",
      "metadata": {
        "id": "PI9dwFrIUutS",
        "colab_type": "text"
      },
      "source": [
        "more slower and more expensive but allows data augmentation => should only be used with a GPU"
      ]
    },
    {
      "cell_type": "code",
      "metadata": {
        "id": "muRVJuMGHH-4",
        "colab_type": "code",
        "colab": {}
      },
      "source": [
        "from keras import models\n",
        "from keras import layers"
      ],
      "execution_count": 0,
      "outputs": []
    },
    {
      "cell_type": "code",
      "metadata": {
        "id": "Kw8X_fDEVNMs",
        "colab_type": "code",
        "colab": {}
      },
      "source": [
        "model = models.Sequential()\n",
        "model.add(conv_base)\n",
        "model.add(layers.Flatten())\n",
        "model.add(layers.Dense(256, activation='relu'))\n",
        "model.add(layers.Dense(1,activation='sigmoid'))"
      ],
      "execution_count": 0,
      "outputs": []
    },
    {
      "cell_type": "code",
      "metadata": {
        "id": "HBqlY1mGVZxY",
        "colab_type": "code",
        "colab": {
          "base_uri": "https://localhost:8080/",
          "height": 289
        },
        "outputId": "18781df7-e357-49e0-aa47-f2edaf90ec8c"
      },
      "source": [
        "model.summary()"
      ],
      "execution_count": 11,
      "outputs": [
        {
          "output_type": "stream",
          "text": [
            "Model: \"sequential_4\"\n",
            "_________________________________________________________________\n",
            "Layer (type)                 Output Shape              Param #   \n",
            "=================================================================\n",
            "vgg16 (Model)                (None, 4, 4, 512)         14714688  \n",
            "_________________________________________________________________\n",
            "flatten_2 (Flatten)          (None, 8192)              0         \n",
            "_________________________________________________________________\n",
            "dense_3 (Dense)              (None, 256)               2097408   \n",
            "_________________________________________________________________\n",
            "dense_4 (Dense)              (None, 1)                 257       \n",
            "=================================================================\n",
            "Total params: 16,812,353\n",
            "Trainable params: 16,812,353\n",
            "Non-trainable params: 0\n",
            "_________________________________________________________________\n"
          ],
          "name": "stdout"
        }
      ]
    },
    {
      "cell_type": "markdown",
      "metadata": {
        "id": "6P5zz2PzWnpa",
        "colab_type": "text"
      },
      "source": [
        "Next step: Freezing\n",
        "\n",
        "Freezing: preventing the weights from being updated during training. Otherwise the representations that were previously learned by the convolutional base will be modified during training. Because the Dense layers on top are randomly initialized, very large weight updates would be propagated through the network, effectively destroying the representations previously learned. => setting trainable attribute to False in Keras"
      ]
    },
    {
      "cell_type": "code",
      "metadata": {
        "id": "ue-5h7RQV7hc",
        "colab_type": "code",
        "colab": {
          "base_uri": "https://localhost:8080/",
          "height": 34
        },
        "outputId": "867cb794-22be-4340-a80f-63ddd1d9aa37"
      },
      "source": [
        "print('This is the number of trainable weights before freezing the conv base:', len(model.trainable_weights))"
      ],
      "execution_count": 12,
      "outputs": [
        {
          "output_type": "stream",
          "text": [
            "This is the number of trainable weights before freezing the conv base: 30\n"
          ],
          "name": "stdout"
        }
      ]
    },
    {
      "cell_type": "code",
      "metadata": {
        "id": "3vt_3qk0YRUC",
        "colab_type": "code",
        "colab": {}
      },
      "source": [
        "conv_base.trainable = False"
      ],
      "execution_count": 0,
      "outputs": []
    },
    {
      "cell_type": "code",
      "metadata": {
        "id": "sPTsxsCJYChZ",
        "colab_type": "code",
        "colab": {
          "base_uri": "https://localhost:8080/",
          "height": 34
        },
        "outputId": "16b327fa-2906-4b21-a5e9-7febdc6241da"
      },
      "source": [
        "print('This is the number of trainable weights after freezing the conv base:', len(model.trainable_weights))"
      ],
      "execution_count": 15,
      "outputs": [
        {
          "output_type": "stream",
          "text": [
            "This is the number of trainable weights after freezing the conv base: 4\n"
          ],
          "name": "stdout"
        }
      ]
    },
    {
      "cell_type": "markdown",
      "metadata": {
        "id": "mC8fSeSoYvUi",
        "colab_type": "text"
      },
      "source": [
        "Now, only the weights from the two Dense layers will be trained => total of four weight tensors: two per layer (the main weight matrix and the bias vector).\n",
        "\n",
        "In order for these changes to take effect, the model must be compiled first."
      ]
    },
    {
      "cell_type": "code",
      "metadata": {
        "id": "2hbKcoOxYYe8",
        "colab_type": "code",
        "colab": {}
      },
      "source": [
        "from keras.preprocessing.image import ImageDataGenerator\n",
        "from keras import optimizers"
      ],
      "execution_count": 0,
      "outputs": []
    },
    {
      "cell_type": "code",
      "metadata": {
        "id": "12qts12cZgEb",
        "colab_type": "code",
        "colab": {}
      },
      "source": [
        "train_datagen = ImageDataGenerator(\n",
        "    rescale=1./255,\n",
        "    rotation_range=40,\n",
        "    width_shift_range=0.2,\n",
        "    height_shift_range=0.2,\n",
        "    shear_range=0.2,\n",
        "    zoom_range=0.2,\n",
        "    horizontal_flip=True,\n",
        "    fill_mode='nearest'\n",
        ")"
      ],
      "execution_count": 0,
      "outputs": []
    },
    {
      "cell_type": "code",
      "metadata": {
        "id": "GbTVXP66Z7om",
        "colab_type": "code",
        "colab": {}
      },
      "source": [
        "test_datagen = ImageDataGenerator(rescale=1./255)"
      ],
      "execution_count": 0,
      "outputs": []
    },
    {
      "cell_type": "code",
      "metadata": {
        "id": "Ez10QZs6aCRF",
        "colab_type": "code",
        "colab": {
          "base_uri": "https://localhost:8080/",
          "height": 34
        },
        "outputId": "0bfb95bf-f3ff-486a-df9b-bb624cf6b022"
      },
      "source": [
        "train_generator = train_datagen.flow_from_directory(\n",
        "    train_dir,\n",
        "    target_size=(150, 150),\n",
        "    batch_size=20,\n",
        "    class_mode='binary'\n",
        ")"
      ],
      "execution_count": 29,
      "outputs": [
        {
          "output_type": "stream",
          "text": [
            "Found 2000 images belonging to 2 classes.\n"
          ],
          "name": "stdout"
        }
      ]
    },
    {
      "cell_type": "code",
      "metadata": {
        "id": "yaUPkG2kaTpC",
        "colab_type": "code",
        "colab": {
          "base_uri": "https://localhost:8080/",
          "height": 34
        },
        "outputId": "c302d6f3-f20f-459e-c3f2-279a0601132a"
      },
      "source": [
        "validation_generator = test_datagen.flow_from_directory(\n",
        "    validation_dir,\n",
        "    target_size=(150,150),\n",
        "    batch_size=20,\n",
        "    class_mode='binary'\n",
        ")"
      ],
      "execution_count": 30,
      "outputs": [
        {
          "output_type": "stream",
          "text": [
            "Found 1000 images belonging to 2 classes.\n"
          ],
          "name": "stdout"
        }
      ]
    },
    {
      "cell_type": "code",
      "metadata": {
        "id": "qF2noGGabAk0",
        "colab_type": "code",
        "colab": {
          "base_uri": "https://localhost:8080/",
          "height": 122
        },
        "outputId": "ba66b843-33f7-4cd5-e9e8-280a90010d32"
      },
      "source": [
        "model.compile(optimizer=optimizers.RMSprop(lr=2e-5),loss='binary_crossentropy', metrics=['acc'])"
      ],
      "execution_count": 31,
      "outputs": [
        {
          "output_type": "stream",
          "text": [
            "WARNING:tensorflow:From /usr/local/lib/python3.6/dist-packages/keras/optimizers.py:793: The name tf.train.Optimizer is deprecated. Please use tf.compat.v1.train.Optimizer instead.\n",
            "\n",
            "WARNING:tensorflow:From /usr/local/lib/python3.6/dist-packages/tensorflow/python/ops/nn_impl.py:180: add_dispatch_support.<locals>.wrapper (from tensorflow.python.ops.array_ops) is deprecated and will be removed in a future version.\n",
            "Instructions for updating:\n",
            "Use tf.where in 2.0, which has the same broadcast rule as np.where\n"
          ],
          "name": "stdout"
        }
      ]
    },
    {
      "cell_type": "code",
      "metadata": {
        "id": "bJ12xkUpbXpD",
        "colab_type": "code",
        "colab": {
          "base_uri": "https://localhost:8080/",
          "height": 1000
        },
        "outputId": "4b0bcfc1-d4b2-4f85-fcbc-985a176a00d5"
      },
      "source": [
        "history = model.fit_generator(\n",
        "    train_generator,\n",
        "    steps_per_epoch=100,\n",
        "    epochs=30,\n",
        "    validation_data = validation_generator,\n",
        "    validation_steps = 50\n",
        ")"
      ],
      "execution_count": 32,
      "outputs": [
        {
          "output_type": "stream",
          "text": [
            "Epoch 1/30\n",
            "100/100 [==============================] - 1300s 13s/step - loss: 0.5892 - acc: 0.6885 - val_loss: 0.4502 - val_acc: 0.8270\n",
            "Epoch 2/30\n",
            "100/100 [==============================] - 20s 197ms/step - loss: 0.4801 - acc: 0.7925 - val_loss: 0.3700 - val_acc: 0.8560\n",
            "Epoch 3/30\n",
            "100/100 [==============================] - 20s 198ms/step - loss: 0.4311 - acc: 0.8075 - val_loss: 0.3351 - val_acc: 0.8670\n",
            "Epoch 4/30\n",
            "100/100 [==============================] - 19s 195ms/step - loss: 0.4028 - acc: 0.8295 - val_loss: 0.3100 - val_acc: 0.8750\n",
            "Epoch 5/30\n",
            "100/100 [==============================] - 19s 194ms/step - loss: 0.3768 - acc: 0.8360 - val_loss: 0.2996 - val_acc: 0.8730\n",
            "Epoch 6/30\n",
            "100/100 [==============================] - 19s 194ms/step - loss: 0.3643 - acc: 0.8340 - val_loss: 0.2823 - val_acc: 0.8840\n",
            "Epoch 7/30\n",
            "100/100 [==============================] - 19s 193ms/step - loss: 0.3592 - acc: 0.8405 - val_loss: 0.2987 - val_acc: 0.8670\n",
            "Epoch 8/30\n",
            "100/100 [==============================] - 20s 195ms/step - loss: 0.3541 - acc: 0.8375 - val_loss: 0.2709 - val_acc: 0.8890\n",
            "Epoch 9/30\n",
            "100/100 [==============================] - 19s 190ms/step - loss: 0.3376 - acc: 0.8510 - val_loss: 0.2678 - val_acc: 0.8900\n",
            "Epoch 10/30\n",
            "100/100 [==============================] - 19s 191ms/step - loss: 0.3406 - acc: 0.8540 - val_loss: 0.2714 - val_acc: 0.8870\n",
            "Epoch 11/30\n",
            "100/100 [==============================] - 19s 191ms/step - loss: 0.3254 - acc: 0.8605 - val_loss: 0.2657 - val_acc: 0.8870\n",
            "Epoch 12/30\n",
            "100/100 [==============================] - 19s 189ms/step - loss: 0.3304 - acc: 0.8560 - val_loss: 0.2641 - val_acc: 0.8900\n",
            "Epoch 13/30\n",
            "100/100 [==============================] - 19s 192ms/step - loss: 0.3239 - acc: 0.8605 - val_loss: 0.2525 - val_acc: 0.8940\n",
            "Epoch 14/30\n",
            "100/100 [==============================] - 19s 191ms/step - loss: 0.3161 - acc: 0.8685 - val_loss: 0.2477 - val_acc: 0.8980\n",
            "Epoch 15/30\n",
            "100/100 [==============================] - 19s 187ms/step - loss: 0.3139 - acc: 0.8660 - val_loss: 0.2540 - val_acc: 0.8890\n",
            "Epoch 16/30\n",
            "100/100 [==============================] - 19s 190ms/step - loss: 0.3145 - acc: 0.8650 - val_loss: 0.2457 - val_acc: 0.8980\n",
            "Epoch 17/30\n",
            "100/100 [==============================] - 19s 192ms/step - loss: 0.3070 - acc: 0.8625 - val_loss: 0.2482 - val_acc: 0.8990\n",
            "Epoch 18/30\n",
            "100/100 [==============================] - 19s 185ms/step - loss: 0.3010 - acc: 0.8625 - val_loss: 0.2769 - val_acc: 0.8830\n",
            "Epoch 19/30\n",
            "100/100 [==============================] - 19s 188ms/step - loss: 0.2852 - acc: 0.8800 - val_loss: 0.2470 - val_acc: 0.8980\n",
            "Epoch 20/30\n",
            "100/100 [==============================] - 20s 196ms/step - loss: 0.3017 - acc: 0.8720 - val_loss: 0.2444 - val_acc: 0.8980\n",
            "Epoch 21/30\n",
            "100/100 [==============================] - 20s 197ms/step - loss: 0.3040 - acc: 0.8630 - val_loss: 0.2421 - val_acc: 0.9000\n",
            "Epoch 22/30\n",
            "100/100 [==============================] - 20s 198ms/step - loss: 0.2937 - acc: 0.8720 - val_loss: 0.2526 - val_acc: 0.8910\n",
            "Epoch 23/30\n",
            "100/100 [==============================] - 19s 192ms/step - loss: 0.2946 - acc: 0.8690 - val_loss: 0.2423 - val_acc: 0.9000\n",
            "Epoch 24/30\n",
            "100/100 [==============================] - 19s 191ms/step - loss: 0.2885 - acc: 0.8715 - val_loss: 0.2408 - val_acc: 0.8960\n",
            "Epoch 25/30\n",
            "100/100 [==============================] - 19s 193ms/step - loss: 0.2875 - acc: 0.8805 - val_loss: 0.2443 - val_acc: 0.8970\n",
            "Epoch 26/30\n",
            "100/100 [==============================] - 19s 190ms/step - loss: 0.2802 - acc: 0.8820 - val_loss: 0.2380 - val_acc: 0.9000\n",
            "Epoch 27/30\n",
            "100/100 [==============================] - 19s 192ms/step - loss: 0.2961 - acc: 0.8705 - val_loss: 0.2410 - val_acc: 0.8990\n",
            "Epoch 28/30\n",
            "100/100 [==============================] - 19s 190ms/step - loss: 0.3042 - acc: 0.8685 - val_loss: 0.2369 - val_acc: 0.9020\n",
            "Epoch 29/30\n",
            "100/100 [==============================] - 19s 191ms/step - loss: 0.2747 - acc: 0.8850 - val_loss: 0.2371 - val_acc: 0.9030\n",
            "Epoch 30/30\n",
            "100/100 [==============================] - 19s 188ms/step - loss: 0.2833 - acc: 0.8745 - val_loss: 0.2415 - val_acc: 0.8960\n"
          ],
          "name": "stdout"
        }
      ]
    },
    {
      "cell_type": "code",
      "metadata": {
        "id": "Lo2vOsSvbsj-",
        "colab_type": "code",
        "colab": {}
      },
      "source": [
        "import matplotlib.pyplot as plt\n",
        "%matplotlib inline"
      ],
      "execution_count": 0,
      "outputs": []
    },
    {
      "cell_type": "code",
      "metadata": {
        "id": "a3FxTwNXb9LC",
        "colab_type": "code",
        "colab": {
          "base_uri": "https://localhost:8080/",
          "height": 545
        },
        "outputId": "abbed5e7-e730-44e9-9be8-d964eb1cdad2"
      },
      "source": [
        "acc = history.history['acc']\n",
        "val_acc = history.history['val_acc']\n",
        "loss = history.history['loss']\n",
        "val_loss = history.history['val_loss']\n",
        "epochs = range(1, len(acc) + 1)\n",
        "\n",
        "plt.plot(epochs, acc, 'bo', label='Training acc')\n",
        "plt.plot(epochs, val_acc, 'b', label='Validation acc')\n",
        "plt.title('Training and validation accuracy')\n",
        "plt.legend()\n",
        "\n",
        "plt.figure()\n",
        "\n",
        "plt.plot(epochs, loss, 'bo', label='Training loss')\n",
        "plt.plot(epochs, val_loss, 'b', label='Validation loss')\n",
        "plt.title('Training and validation loss')\n",
        "plt.legend()\n",
        "\n",
        "plt.show()"
      ],
      "execution_count": 34,
      "outputs": [
        {
          "output_type": "display_data",
          "data": {
            "image/png": "[encoded data removed]",
            "text/plain": [
              "<Figure size 432x288 with 1 Axes>"
            ]
          },
          "metadata": {
            "tags": []
          }
        },
        {
          "output_type": "display_data",
          "data": {
            "image/png": "[encoded data removed]",
            "text/plain": [
              "<Figure size 432x288 with 1 Axes>"
            ]
          },
          "metadata": {
            "tags": []
          }
        }
      ]
    },
    {
      "cell_type": "markdown",
      "metadata": {
        "id": "LKL1rsgmcK3X",
        "colab_type": "text"
      },
      "source": [
        "## Fine-tuning"
      ]
    },
    {
      "cell_type": "markdown",
      "metadata": {
        "id": "nPfqvf56ccoq",
        "colab_type": "text"
      },
      "source": [
        "Fine-tuning consists of unfreezing a few of the top layers of the frozen model base => training of the unfreezed layers and the fully connected classifier\n",
        "\n",
        "This is called fine-tuning because it slightly adjusts the more abstract representations of the model being reused, in order to make them more relevant for the problem at hand."
      ]
    },
    {
      "cell_type": "markdown",
      "metadata": {
        "id": "uUNLMzmweyyU",
        "colab_type": "text"
      },
      "source": [
        "1. Add the custom network on top of an already-trained base network\n",
        "\n",
        "2. Freeze the base network\n",
        "\n",
        "3. Train the added part\n",
        "\n",
        "4. Unfreeze some layers in the base network\n",
        "\n",
        "5. Jointly train both these layers and the added part\n",
        "\n",
        "If the classifier isn't already trained, then the error signal propagating through the network during training will be too large, and the represenations previously learned by the layers being fine-tuned will be destroyed."
      ]
    },
    {
      "cell_type": "code",
      "metadata": {
        "id": "K3akI-y6cHPR",
        "colab_type": "code",
        "colab": {
          "base_uri": "https://localhost:8080/",
          "height": 799
        },
        "outputId": "1b4d5fbe-e2bc-4649-faea-09d2136e215a"
      },
      "source": [
        "conv_base.summary()"
      ],
      "execution_count": 35,
      "outputs": [
        {
          "output_type": "stream",
          "text": [
            "Model: \"vgg16\"\n",
            "_________________________________________________________________\n",
            "Layer (type)                 Output Shape              Param #   \n",
            "=================================================================\n",
            "input_2 (InputLayer)         (None, 150, 150, 3)       0         \n",
            "_________________________________________________________________\n",
            "block1_conv1 (Conv2D)        (None, 150, 150, 64)      1792      \n",
            "_________________________________________________________________\n",
            "block1_conv2 (Conv2D)        (None, 150, 150, 64)      36928     \n",
            "_________________________________________________________________\n",
            "block1_pool (MaxPooling2D)   (None, 75, 75, 64)        0         \n",
            "_________________________________________________________________\n",
            "block2_conv1 (Conv2D)        (None, 75, 75, 128)       73856     \n",
            "_________________________________________________________________\n",
            "block2_conv2 (Conv2D)        (None, 75, 75, 128)       147584    \n",
            "_________________________________________________________________\n",
            "block2_pool (MaxPooling2D)   (None, 37, 37, 128)       0         \n",
            "_________________________________________________________________\n",
            "block3_conv1 (Conv2D)        (None, 37, 37, 256)       295168    \n",
            "_________________________________________________________________\n",
            "block3_conv2 (Conv2D)        (None, 37, 37, 256)       590080    \n",
            "_________________________________________________________________\n",
            "block3_conv3 (Conv2D)        (None, 37, 37, 256)       590080    \n",
            "_________________________________________________________________\n",
            "block3_pool (MaxPooling2D)   (None, 18, 18, 256)       0         \n",
            "_________________________________________________________________\n",
            "block4_conv1 (Conv2D)        (None, 18, 18, 512)       1180160   \n",
            "_________________________________________________________________\n",
            "block4_conv2 (Conv2D)        (None, 18, 18, 512)       2359808   \n",
            "_________________________________________________________________\n",
            "block4_conv3 (Conv2D)        (None, 18, 18, 512)       2359808   \n",
            "_________________________________________________________________\n",
            "block4_pool (MaxPooling2D)   (None, 9, 9, 512)         0         \n",
            "_________________________________________________________________\n",
            "block5_conv1 (Conv2D)        (None, 9, 9, 512)         2359808   \n",
            "_________________________________________________________________\n",
            "block5_conv2 (Conv2D)        (None, 9, 9, 512)         2359808   \n",
            "_________________________________________________________________\n",
            "block5_conv3 (Conv2D)        (None, 9, 9, 512)         2359808   \n",
            "_________________________________________________________________\n",
            "block5_pool (MaxPooling2D)   (None, 4, 4, 512)         0         \n",
            "=================================================================\n",
            "Total params: 14,714,688\n",
            "Trainable params: 0\n",
            "Non-trainable params: 14,714,688\n",
            "_________________________________________________________________\n"
          ],
          "name": "stdout"
        }
      ]
    },
    {
      "cell_type": "markdown",
      "metadata": {
        "id": "bVvCFh-nhzrN",
        "colab_type": "text"
      },
      "source": [
        "The layers block5_conv1, block5_conv2 and block5_conv3 should be trainable;\n",
        "\n",
        "- It's more useful to fine-tune the more specilized top layers, because these are the ones that need to be repurposed on the new problem\n",
        "\n",
        "- The more parameters are trained, the higher the risk of overfitting"
      ]
    },
    {
      "cell_type": "code",
      "metadata": {
        "id": "tJ5Ie3GyhgjN",
        "colab_type": "code",
        "colab": {}
      },
      "source": [
        "conv_base.trainable = True\n",
        "\n",
        "set_trainable = False\n",
        "\n",
        "for layer in conv_base.layers:\n",
        "  if layer.name == 'block5_conv1':\n",
        "    set_trainable = True\n",
        "  if set_trainable:\n",
        "    layer.trainable = True\n",
        "  else:\n",
        "    layer.trainable = False"
      ],
      "execution_count": 0,
      "outputs": []
    },
    {
      "cell_type": "code",
      "metadata": {
        "id": "jXTgV9TUj2EI",
        "colab_type": "code",
        "colab": {}
      },
      "source": [
        "model.compile(loss='binary_crossentropy',\n",
        "              optimizer=optimizers.RMSprop(lr=1e-5), # low learning rate to limit the magnitude of the modifications\n",
        "              metrics=['acc'])"
      ],
      "execution_count": 0,
      "outputs": []
    },
    {
      "cell_type": "code",
      "metadata": {
        "id": "NUdbPQ00kJEN",
        "colab_type": "code",
        "colab": {
          "base_uri": "https://localhost:8080/",
          "height": 1000
        },
        "outputId": "63e30440-8d67-4031-8f89-4fa32ecaaba3"
      },
      "source": [
        "history = model.fit_generator(\n",
        "    train_generator,\n",
        "    steps_per_epoch=100,\n",
        "    epochs=100,\n",
        "    validation_data=validation_generator,\n",
        "    validation_steps=50\n",
        ")"
      ],
      "execution_count": 39,
      "outputs": [
        {
          "output_type": "stream",
          "text": [
            "Epoch 1/100\n",
            "100/100 [==============================] - 22s 221ms/step - loss: 0.2932 - acc: 0.8670 - val_loss: 0.2329 - val_acc: 0.9100\n",
            "Epoch 2/100\n",
            "100/100 [==============================] - 20s 199ms/step - loss: 0.2645 - acc: 0.8900 - val_loss: 0.2129 - val_acc: 0.9150\n",
            "Epoch 3/100\n",
            "100/100 [==============================] - 20s 197ms/step - loss: 0.2433 - acc: 0.9015 - val_loss: 0.2238 - val_acc: 0.9070\n",
            "Epoch 4/100\n",
            "100/100 [==============================] - 20s 197ms/step - loss: 0.2215 - acc: 0.8995 - val_loss: 0.2193 - val_acc: 0.9080\n",
            "Epoch 5/100\n",
            "100/100 [==============================] - 20s 201ms/step - loss: 0.2097 - acc: 0.9165 - val_loss: 0.2103 - val_acc: 0.9210\n",
            "Epoch 6/100\n",
            "100/100 [==============================] - 20s 198ms/step - loss: 0.2025 - acc: 0.9160 - val_loss: 0.1995 - val_acc: 0.9200\n",
            "Epoch 7/100\n",
            "100/100 [==============================] - 20s 196ms/step - loss: 0.1784 - acc: 0.9290 - val_loss: 0.2069 - val_acc: 0.9190\n",
            "Epoch 8/100\n",
            "100/100 [==============================] - 20s 195ms/step - loss: 0.1784 - acc: 0.9250 - val_loss: 0.1763 - val_acc: 0.9280\n",
            "Epoch 9/100\n",
            "100/100 [==============================] - 20s 197ms/step - loss: 0.1573 - acc: 0.9305 - val_loss: 0.1835 - val_acc: 0.9320\n",
            "Epoch 10/100\n",
            "100/100 [==============================] - 20s 199ms/step - loss: 0.1391 - acc: 0.9435 - val_loss: 0.1860 - val_acc: 0.9340\n",
            "Epoch 11/100\n",
            "100/100 [==============================] - 20s 197ms/step - loss: 0.1297 - acc: 0.9455 - val_loss: 0.1754 - val_acc: 0.9310\n",
            "Epoch 12/100\n",
            "100/100 [==============================] - 20s 195ms/step - loss: 0.1347 - acc: 0.9455 - val_loss: 0.1726 - val_acc: 0.9400\n",
            "Epoch 13/100\n",
            "100/100 [==============================] - 20s 195ms/step - loss: 0.1302 - acc: 0.9435 - val_loss: 0.1926 - val_acc: 0.9340\n",
            "Epoch 14/100\n",
            "100/100 [==============================] - 20s 200ms/step - loss: 0.1212 - acc: 0.9540 - val_loss: 0.2028 - val_acc: 0.9310\n",
            "Epoch 15/100\n",
            "100/100 [==============================] - 20s 197ms/step - loss: 0.1261 - acc: 0.9460 - val_loss: 0.1758 - val_acc: 0.9360\n",
            "Epoch 16/100\n",
            "100/100 [==============================] - 20s 199ms/step - loss: 0.1281 - acc: 0.9480 - val_loss: 0.1627 - val_acc: 0.9410\n",
            "Epoch 17/100\n",
            "100/100 [==============================] - 20s 195ms/step - loss: 0.1120 - acc: 0.9540 - val_loss: 0.1662 - val_acc: 0.9440\n",
            "Epoch 18/100\n",
            "100/100 [==============================] - 20s 198ms/step - loss: 0.1045 - acc: 0.9580 - val_loss: 0.2300 - val_acc: 0.9110\n",
            "Epoch 19/100\n",
            "100/100 [==============================] - 20s 197ms/step - loss: 0.1111 - acc: 0.9620 - val_loss: 0.1884 - val_acc: 0.9250\n",
            "Epoch 20/100\n",
            "100/100 [==============================] - 19s 195ms/step - loss: 0.1008 - acc: 0.9605 - val_loss: 0.1806 - val_acc: 0.9370\n",
            "Epoch 21/100\n",
            "100/100 [==============================] - 20s 199ms/step - loss: 0.0900 - acc: 0.9650 - val_loss: 0.1774 - val_acc: 0.9370\n",
            "Epoch 22/100\n",
            "100/100 [==============================] - 20s 195ms/step - loss: 0.0794 - acc: 0.9695 - val_loss: 0.2154 - val_acc: 0.9350\n",
            "Epoch 23/100\n",
            "100/100 [==============================] - 20s 198ms/step - loss: 0.0817 - acc: 0.9665 - val_loss: 0.1728 - val_acc: 0.9390\n",
            "Epoch 24/100\n",
            "100/100 [==============================] - 20s 197ms/step - loss: 0.0848 - acc: 0.9670 - val_loss: 0.1654 - val_acc: 0.9350\n",
            "Epoch 25/100\n",
            "100/100 [==============================] - 20s 197ms/step - loss: 0.0887 - acc: 0.9620 - val_loss: 0.1758 - val_acc: 0.9380\n",
            "Epoch 26/100\n",
            "100/100 [==============================] - 20s 199ms/step - loss: 0.0806 - acc: 0.9720 - val_loss: 0.1614 - val_acc: 0.9360\n",
            "Epoch 27/100\n",
            "100/100 [==============================] - 20s 198ms/step - loss: 0.0663 - acc: 0.9775 - val_loss: 0.1657 - val_acc: 0.9380\n",
            "Epoch 28/100\n",
            "100/100 [==============================] - 20s 197ms/step - loss: 0.0712 - acc: 0.9770 - val_loss: 0.1797 - val_acc: 0.9360\n",
            "Epoch 29/100\n",
            "100/100 [==============================] - 20s 197ms/step - loss: 0.0729 - acc: 0.9715 - val_loss: 0.1843 - val_acc: 0.9400\n",
            "Epoch 30/100\n",
            "100/100 [==============================] - 20s 197ms/step - loss: 0.0645 - acc: 0.9780 - val_loss: 0.1681 - val_acc: 0.9370\n",
            "Epoch 31/100\n",
            "100/100 [==============================] - 20s 201ms/step - loss: 0.0622 - acc: 0.9785 - val_loss: 0.1777 - val_acc: 0.9380\n",
            "Epoch 32/100\n",
            "100/100 [==============================] - 20s 198ms/step - loss: 0.0700 - acc: 0.9750 - val_loss: 0.1719 - val_acc: 0.9380\n",
            "Epoch 33/100\n",
            "100/100 [==============================] - 19s 191ms/step - loss: 0.0738 - acc: 0.9700 - val_loss: 0.1834 - val_acc: 0.9400\n",
            "Epoch 34/100\n",
            "100/100 [==============================] - 19s 192ms/step - loss: 0.0550 - acc: 0.9770 - val_loss: 0.2247 - val_acc: 0.9320\n",
            "Epoch 35/100\n",
            "100/100 [==============================] - 19s 195ms/step - loss: 0.0597 - acc: 0.9770 - val_loss: 0.1802 - val_acc: 0.9410\n",
            "Epoch 36/100\n",
            "100/100 [==============================] - 19s 193ms/step - loss: 0.0524 - acc: 0.9800 - val_loss: 0.2753 - val_acc: 0.9220\n",
            "Epoch 37/100\n",
            "100/100 [==============================] - 19s 194ms/step - loss: 0.0476 - acc: 0.9820 - val_loss: 0.2068 - val_acc: 0.9360\n",
            "Epoch 38/100\n",
            "100/100 [==============================] - 19s 190ms/step - loss: 0.0460 - acc: 0.9845 - val_loss: 0.1969 - val_acc: 0.9420\n",
            "Epoch 39/100\n",
            "100/100 [==============================] - 20s 197ms/step - loss: 0.0749 - acc: 0.9725 - val_loss: 0.2200 - val_acc: 0.9330\n",
            "Epoch 40/100\n",
            "100/100 [==============================] - 20s 199ms/step - loss: 0.0423 - acc: 0.9845 - val_loss: 0.2190 - val_acc: 0.9280\n",
            "Epoch 41/100\n",
            "100/100 [==============================] - 20s 201ms/step - loss: 0.0519 - acc: 0.9815 - val_loss: 0.1992 - val_acc: 0.9340\n",
            "Epoch 42/100\n",
            "100/100 [==============================] - 20s 197ms/step - loss: 0.0432 - acc: 0.9830 - val_loss: 0.4784 - val_acc: 0.9040\n",
            "Epoch 43/100\n",
            "100/100 [==============================] - 20s 196ms/step - loss: 0.0452 - acc: 0.9840 - val_loss: 0.2114 - val_acc: 0.9370\n",
            "Epoch 44/100\n",
            "100/100 [==============================] - 19s 194ms/step - loss: 0.0400 - acc: 0.9855 - val_loss: 0.2548 - val_acc: 0.9270\n",
            "Epoch 45/100\n",
            "100/100 [==============================] - 20s 196ms/step - loss: 0.0470 - acc: 0.9835 - val_loss: 0.2041 - val_acc: 0.9400\n",
            "Epoch 46/100\n",
            "100/100 [==============================] - 19s 194ms/step - loss: 0.0474 - acc: 0.9800 - val_loss: 0.2885 - val_acc: 0.9210\n",
            "Epoch 47/100\n",
            "100/100 [==============================] - 20s 196ms/step - loss: 0.0409 - acc: 0.9830 - val_loss: 0.2589 - val_acc: 0.9250\n",
            "Epoch 48/100\n",
            "100/100 [==============================] - 19s 194ms/step - loss: 0.0457 - acc: 0.9800 - val_loss: 0.1999 - val_acc: 0.9410\n",
            "Epoch 49/100\n",
            "100/100 [==============================] - 19s 193ms/step - loss: 0.0350 - acc: 0.9880 - val_loss: 0.2843 - val_acc: 0.9260\n",
            "Epoch 50/100\n",
            "100/100 [==============================] - 19s 192ms/step - loss: 0.0444 - acc: 0.9820 - val_loss: 0.3458 - val_acc: 0.9180\n",
            "Epoch 51/100\n",
            "100/100 [==============================] - 19s 194ms/step - loss: 0.0334 - acc: 0.9865 - val_loss: 0.2348 - val_acc: 0.9320\n",
            "Epoch 52/100\n",
            "100/100 [==============================] - 19s 194ms/step - loss: 0.0458 - acc: 0.9855 - val_loss: 0.2271 - val_acc: 0.9370\n",
            "Epoch 53/100\n",
            "100/100 [==============================] - 19s 194ms/step - loss: 0.0331 - acc: 0.9870 - val_loss: 0.2034 - val_acc: 0.9400\n",
            "Epoch 54/100\n",
            "100/100 [==============================] - 19s 192ms/step - loss: 0.0391 - acc: 0.9860 - val_loss: 0.2071 - val_acc: 0.9410\n",
            "Epoch 55/100\n",
            "100/100 [==============================] - 19s 194ms/step - loss: 0.0292 - acc: 0.9880 - val_loss: 0.2172 - val_acc: 0.9360\n",
            "Epoch 56/100\n",
            "100/100 [==============================] - 19s 194ms/step - loss: 0.0351 - acc: 0.9890 - val_loss: 0.2365 - val_acc: 0.9390\n",
            "Epoch 57/100\n",
            "100/100 [==============================] - 19s 192ms/step - loss: 0.0330 - acc: 0.9885 - val_loss: 0.2303 - val_acc: 0.9330\n",
            "Epoch 58/100\n",
            "100/100 [==============================] - 19s 194ms/step - loss: 0.0440 - acc: 0.9860 - val_loss: 0.2952 - val_acc: 0.9260\n",
            "Epoch 59/100\n",
            "100/100 [==============================] - 19s 194ms/step - loss: 0.0262 - acc: 0.9890 - val_loss: 0.2613 - val_acc: 0.9350\n",
            "Epoch 60/100\n",
            "100/100 [==============================] - 19s 194ms/step - loss: 0.0337 - acc: 0.9875 - val_loss: 0.2288 - val_acc: 0.9410\n",
            "Epoch 61/100\n",
            "100/100 [==============================] - 19s 194ms/step - loss: 0.0376 - acc: 0.9880 - val_loss: 0.2177 - val_acc: 0.9370\n",
            "Epoch 62/100\n",
            "100/100 [==============================] - 19s 193ms/step - loss: 0.0207 - acc: 0.9925 - val_loss: 0.1946 - val_acc: 0.9390\n",
            "Epoch 63/100\n",
            "100/100 [==============================] - 19s 195ms/step - loss: 0.0365 - acc: 0.9860 - val_loss: 0.2264 - val_acc: 0.9400\n",
            "Epoch 64/100\n",
            "100/100 [==============================] - 19s 194ms/step - loss: 0.0336 - acc: 0.9875 - val_loss: 0.2327 - val_acc: 0.9360\n",
            "Epoch 65/100\n",
            "100/100 [==============================] - 19s 192ms/step - loss: 0.0196 - acc: 0.9925 - val_loss: 0.2404 - val_acc: 0.9340\n",
            "Epoch 66/100\n",
            "100/100 [==============================] - 19s 190ms/step - loss: 0.0239 - acc: 0.9920 - val_loss: 0.2981 - val_acc: 0.9360\n",
            "Epoch 67/100\n",
            "100/100 [==============================] - 19s 192ms/step - loss: 0.0237 - acc: 0.9920 - val_loss: 0.2325 - val_acc: 0.9420\n",
            "Epoch 68/100\n",
            "100/100 [==============================] - 19s 193ms/step - loss: 0.0328 - acc: 0.9895 - val_loss: 0.2837 - val_acc: 0.9350\n",
            "Epoch 69/100\n",
            "100/100 [==============================] - 20s 195ms/step - loss: 0.0279 - acc: 0.9885 - val_loss: 0.2262 - val_acc: 0.9420\n",
            "Epoch 70/100\n",
            "100/100 [==============================] - 19s 193ms/step - loss: 0.0223 - acc: 0.9905 - val_loss: 0.2505 - val_acc: 0.9380\n",
            "Epoch 71/100\n",
            "100/100 [==============================] - 19s 191ms/step - loss: 0.0310 - acc: 0.9880 - val_loss: 0.2913 - val_acc: 0.9370\n",
            "Epoch 72/100\n",
            "100/100 [==============================] - 19s 193ms/step - loss: 0.0313 - acc: 0.9910 - val_loss: 0.2907 - val_acc: 0.9340\n",
            "Epoch 73/100\n",
            "100/100 [==============================] - 19s 192ms/step - loss: 0.0346 - acc: 0.9885 - val_loss: 0.2462 - val_acc: 0.9400\n",
            "Epoch 74/100\n",
            "100/100 [==============================] - 19s 194ms/step - loss: 0.0278 - acc: 0.9915 - val_loss: 0.3328 - val_acc: 0.9230\n",
            "Epoch 75/100\n",
            "100/100 [==============================] - 19s 192ms/step - loss: 0.0321 - acc: 0.9890 - val_loss: 0.2670 - val_acc: 0.9320\n",
            "Epoch 76/100\n",
            "100/100 [==============================] - 19s 194ms/step - loss: 0.0238 - acc: 0.9920 - val_loss: 0.2297 - val_acc: 0.9350\n",
            "Epoch 77/100\n",
            "100/100 [==============================] - 19s 194ms/step - loss: 0.0205 - acc: 0.9935 - val_loss: 0.2790 - val_acc: 0.9320\n",
            "Epoch 78/100\n",
            "100/100 [==============================] - 19s 192ms/step - loss: 0.0168 - acc: 0.9940 - val_loss: 0.2819 - val_acc: 0.9340\n",
            "Epoch 79/100\n",
            "100/100 [==============================] - 19s 195ms/step - loss: 0.0238 - acc: 0.9905 - val_loss: 0.3799 - val_acc: 0.9230\n",
            "Epoch 80/100\n",
            "100/100 [==============================] - 19s 193ms/step - loss: 0.0233 - acc: 0.9910 - val_loss: 0.2819 - val_acc: 0.9350\n",
            "Epoch 81/100\n",
            "100/100 [==============================] - 19s 193ms/step - loss: 0.0306 - acc: 0.9885 - val_loss: 0.2950 - val_acc: 0.9350\n",
            "Epoch 82/100\n",
            "100/100 [==============================] - 19s 194ms/step - loss: 0.0192 - acc: 0.9935 - val_loss: 0.3937 - val_acc: 0.9240\n",
            "Epoch 83/100\n",
            "100/100 [==============================] - 19s 191ms/step - loss: 0.0196 - acc: 0.9925 - val_loss: 0.2828 - val_acc: 0.9370\n",
            "Epoch 84/100\n",
            "100/100 [==============================] - 19s 192ms/step - loss: 0.0223 - acc: 0.9910 - val_loss: 0.2858 - val_acc: 0.9350\n",
            "Epoch 85/100\n",
            "100/100 [==============================] - 19s 194ms/step - loss: 0.0186 - acc: 0.9950 - val_loss: 0.3393 - val_acc: 0.9250\n",
            "Epoch 86/100\n",
            "100/100 [==============================] - 19s 192ms/step - loss: 0.0293 - acc: 0.9915 - val_loss: 0.2595 - val_acc: 0.9310\n",
            "Epoch 87/100\n",
            "100/100 [==============================] - 19s 191ms/step - loss: 0.0223 - acc: 0.9940 - val_loss: 0.2749 - val_acc: 0.9310\n",
            "Epoch 88/100\n",
            "100/100 [==============================] - 19s 193ms/step - loss: 0.0281 - acc: 0.9905 - val_loss: 0.2944 - val_acc: 0.9290\n",
            "Epoch 89/100\n",
            "100/100 [==============================] - 19s 193ms/step - loss: 0.0142 - acc: 0.9935 - val_loss: 0.3151 - val_acc: 0.9300\n",
            "Epoch 90/100\n",
            "100/100 [==============================] - 19s 192ms/step - loss: 0.0158 - acc: 0.9935 - val_loss: 0.2820 - val_acc: 0.9300\n",
            "Epoch 91/100\n",
            "100/100 [==============================] - 19s 192ms/step - loss: 0.0148 - acc: 0.9955 - val_loss: 0.2616 - val_acc: 0.9370\n",
            "Epoch 92/100\n",
            "100/100 [==============================] - 19s 192ms/step - loss: 0.0167 - acc: 0.9945 - val_loss: 0.6377 - val_acc: 0.8990\n",
            "Epoch 93/100\n",
            "100/100 [==============================] - 19s 195ms/step - loss: 0.0227 - acc: 0.9895 - val_loss: 0.2839 - val_acc: 0.9370\n",
            "Epoch 94/100\n",
            "100/100 [==============================] - 19s 192ms/step - loss: 0.0223 - acc: 0.9910 - val_loss: 0.2756 - val_acc: 0.9370\n",
            "Epoch 95/100\n",
            "100/100 [==============================] - 19s 193ms/step - loss: 0.0181 - acc: 0.9940 - val_loss: 0.3063 - val_acc: 0.9350\n",
            "Epoch 96/100\n",
            "100/100 [==============================] - 20s 195ms/step - loss: 0.0211 - acc: 0.9945 - val_loss: 0.3563 - val_acc: 0.9330\n",
            "Epoch 97/100\n",
            "100/100 [==============================] - 19s 193ms/step - loss: 0.0186 - acc: 0.9925 - val_loss: 0.2787 - val_acc: 0.9340\n",
            "Epoch 98/100\n",
            "100/100 [==============================] - 19s 194ms/step - loss: 0.0171 - acc: 0.9935 - val_loss: 0.3394 - val_acc: 0.9370\n",
            "Epoch 99/100\n",
            "100/100 [==============================] - 19s 191ms/step - loss: 0.0204 - acc: 0.9940 - val_loss: 0.3555 - val_acc: 0.9310\n",
            "Epoch 100/100\n",
            "100/100 [==============================] - 19s 191ms/step - loss: 0.0179 - acc: 0.9925 - val_loss: 0.3018 - val_acc: 0.9310\n"
          ],
          "name": "stdout"
        }
      ]
    },
    {
      "cell_type": "code",
      "metadata": {
        "id": "jSryy-eFk_5y",
        "colab_type": "code",
        "colab": {
          "base_uri": "https://localhost:8080/",
          "height": 545
        },
        "outputId": "d4e959a9-68c4-4bab-ca36-7eb1c5fd8741"
      },
      "source": [
        "acc = history.history['acc']\n",
        "val_acc = history.history['val_acc']\n",
        "loss = history.history['loss']\n",
        "val_loss = history.history['val_loss']\n",
        "epochs = range(1, len(acc) + 1)\n",
        "\n",
        "plt.plot(epochs, acc, 'bo', label='Training acc')\n",
        "plt.plot(epochs, val_acc, 'b', label='Validation acc')\n",
        "plt.title('Training and validation accuracy')\n",
        "plt.legend()\n",
        "\n",
        "plt.figure()\n",
        "\n",
        "plt.plot(epochs, loss, 'bo', label='Training loss')\n",
        "plt.plot(epochs, val_loss, 'b', label='Validation loss')\n",
        "plt.title('Training and validation loss')\n",
        "plt.legend()\n",
        "\n",
        "plt.show()"
      ],
      "execution_count": 40,
      "outputs": [
        {
          "output_type": "display_data",
          "data": {
            "image/png": "[encoded data removed]",
            "text/plain": [
              "<Figure size 432x288 with 1 Axes>"
            ]
          },
          "metadata": {
            "tags": []
          }
        },
        {
          "output_type": "display_data",
          "data": {
            "image/png": "[encoded data removed]",
            "text/plain": [
              "<Figure size 432x288 with 1 Axes>"
            ]
          },
          "metadata": {
            "tags": []
          }
        }
      ]
    },
    {
      "cell_type": "code",
      "metadata": {
        "id": "PkkFboUWlE_a",
        "colab_type": "code",
        "colab": {}
      },
      "source": [
        "def smooth_curve(points, factor=0.8):\n",
        "  smoothed_points = []\n",
        "  for point in points:\n",
        "    if smoothed_points:\n",
        "      previous = smoothed_points[-1]\n",
        "      smoothed_points.append(previous * factor + point * (1 - factor))\n",
        "    else:\n",
        "      smoothed_points.append(point)\n",
        "  return smoothed_points"
      ],
      "execution_count": 0,
      "outputs": []
    },
    {
      "cell_type": "code",
      "metadata": {
        "id": "pzkluYf6mICI",
        "colab_type": "code",
        "colab": {
          "base_uri": "https://localhost:8080/",
          "height": 545
        },
        "outputId": "bc205c95-5284-4f06-ae14-caa2d4aed6f0"
      },
      "source": [
        "plt.plot(epochs, smooth_curve(acc), 'bo', label='Smoothed training acc')\n",
        "plt.plot(epochs, smooth_curve(val_acc), 'b', label='Smoothed validation acc')\n",
        "plt.title('Training and validation accuracy')\n",
        "plt.legend()\n",
        "\n",
        "plt.figure()\n",
        "\n",
        "plt.plot(epochs, smooth_curve(loss), 'bo', label='Smoothed training loss')\n",
        "plt.plot(epochs, smooth_curve(val_loss), 'b', label='Smoothed validation loss')\n",
        "plt.title('Training and validation loss')\n",
        "plt.legend()\n",
        "\n",
        "plt.show()"
      ],
      "execution_count": 43,
      "outputs": [
        {
          "output_type": "display_data",
          "data": {
            "image/png": "[encoded data removed]",
            "text/plain": [
              "<Figure size 432x288 with 1 Axes>"
            ]
          },
          "metadata": {
            "tags": []
          }
        },
        {
          "output_type": "display_data",
          "data": {
            "image/png": "[encoded data removed]",
            "text/plain": [
              "<Figure size 432x288 with 1 Axes>"
            ]
          },
          "metadata": {
            "tags": []
          }
        }
      ]
    },
    {
      "cell_type": "code",
      "metadata": {
        "id": "PlvKw8-_mm5l",
        "colab_type": "code",
        "colab": {
          "base_uri": "https://localhost:8080/",
          "height": 34
        },
        "outputId": "68525440-680a-4720-9144-8341eff5a03f"
      },
      "source": [
        "test_generator = test_datagen.flow_from_directory(\n",
        "    test_dir,\n",
        "    target_size=(150,150),\n",
        "    batch_size=20,\n",
        "    class_mode='binary'\n",
        ")"
      ],
      "execution_count": 44,
      "outputs": [
        {
          "output_type": "stream",
          "text": [
            "Found 1000 images belonging to 2 classes.\n"
          ],
          "name": "stdout"
        }
      ]
    },
    {
      "cell_type": "code",
      "metadata": {
        "id": "8VR_GuDQnu0o",
        "colab_type": "code",
        "colab": {}
      },
      "source": [
        "test_loss, test_acc = model.evaluate_generator(test_generator, steps=50)"
      ],
      "execution_count": 0,
      "outputs": []
    },
    {
      "cell_type": "code",
      "metadata": {
        "id": "QgqZnJEun47y",
        "colab_type": "code",
        "colab": {
          "base_uri": "https://localhost:8080/",
          "height": 34
        },
        "outputId": "1781fd95-1996-43f5-bb1e-61ab17441d45"
      },
      "source": [
        "print('test_acc:', test_acc)"
      ],
      "execution_count": 46,
      "outputs": [
        {
          "output_type": "stream",
          "text": [
            "test_acc: 0.9339999914169311\n"
          ],
          "name": "stdout"
        }
      ]
    },
    {
      "cell_type": "code",
      "metadata": {
        "id": "2jwZ56F8n85_",
        "colab_type": "code",
        "colab": {}
      },
      "source": [
        ""
      ],
      "execution_count": 0,
      "outputs": []
    }
  ]
}