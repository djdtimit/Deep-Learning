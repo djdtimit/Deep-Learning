{
  "nbformat": 4,
  "nbformat_minor": 0,
  "metadata": {
    "colab": {
      "name": "pretrained_convnet.ipynb",
      "provenance": [],
      "collapsed_sections": [],
      "include_colab_link": true
    },
    "kernelspec": {
      "name": "python3",
      "display_name": "Python 3"
    },
    "accelerator": "GPU"
  },
  "cells": [
    {
      "cell_type": "markdown",
      "metadata": {
        "id": "view-in-github",
        "colab_type": "text"
      },
      "source": [
        "<a href=\"https://colab.research.google.com/github/djdtimit/Deep-Learning/blob/master/pretrained_convnet.ipynb\" target=\"_parent\"><img src=\"https://colab.research.google.com/assets/colab-badge.svg\" alt=\"Open In Colab\"/></a>"
      ]
    },
    {
      "cell_type": "markdown",
      "metadata": {
        "id": "1IAoNi8VxoH7",
        "colab_type": "text"
      },
      "source": [
        "# Using a pretrained convnet\n"
      ]
    },
    {
      "cell_type": "markdown",
      "metadata": {
        "id": "XbPZMfYOxoEF",
        "colab_type": "text"
      },
      "source": [
        "large convnet trained on the ImageNet dataset (1.4 million labeled images and 1,000 different classes): ImageNet contains many animal classes, including different species of cats and dogs. Thus, it is expected that it will perform well on the dogs-versus-cats classification problems.\n",
        "\n",
        "There are two ways to use a pretrained network. feature extraction and fine-tuning.\n"
      ]
    },
    {
      "cell_type": "markdown",
      "metadata": {
        "id": "-v_ueruQxoA1",
        "colab_type": "text"
      },
      "source": [
        "## Feature extraction"
      ]
    },
    {
      "cell_type": "markdown",
      "metadata": {
        "id": "jYUSnspAxn-C",
        "colab_type": "text"
      },
      "source": [
        "Feature extraction consists of using the representations learned by a prevoius network to extract interesting features from new samples. These features are then run through a new classifier, which is trained from scratch.\n",
        "\n",
        "convnets consists of two parts:\n",
        "\n",
        "- series of pooling and convolution layers -> convolutional base of the model\n",
        "- end with a densely connected classifier\n",
        "\n",
        "feature extraction: using the convolutional base of a previously trained network, running the new data through it, and training a new classifier on top of the output.\n",
        "\n",
        "Why only reuse the convolutional base?\n",
        "\n",
        "- representations learned by the convolutional base are likely to be more generic and therefore more reuseable -> contain the object location\n",
        "\n",
        "- representaions learned by the classifier will be necessarily be specific to the set of classes on which the model was trained -> they will not contain information about where objects are located in the input image\n",
        "\n",
        "level of generality depends on the depth of the layer in the model:\n",
        "\n",
        "- earlier layers extract local, highly generic feature maps (edges, colors, and textures)\n",
        "\n",
        "- higher layers extract more abstract concepts (cat ear or dog eye)\n",
        "\n",
        "=> if new dataset differs a lot from the dataset on which the original model was trained: better off using only the first few layers do to feature extraction"
      ]
    },
    {
      "cell_type": "code",
      "metadata": {
        "id": "O51NU9pixdag",
        "colab_type": "code",
        "colab": {
          "base_uri": "https://localhost:8080/",
          "height": 34
        },
        "outputId": "66df5efb-ef0f-4fdc-a3a6-1f710c5bb9da"
      },
      "source": [
        "from keras.applications import VGG16"
      ],
      "execution_count": 1,
      "outputs": [
        {
          "output_type": "stream",
          "text": [
            "Using TensorFlow backend.\n"
          ],
          "name": "stderr"
        }
      ]
    },
    {
      "cell_type": "code",
      "metadata": {
        "id": "ppjcejRy3mJG",
        "colab_type": "code",
        "colab": {
          "base_uri": "https://localhost:8080/",
          "height": 275
        },
        "outputId": "738e68b1-4be1-4224-a3d6-7a2ca23f2cae"
      },
      "source": [
        "conv_base = VGG16(weights='imagenet',\n",
        "                  include_top=False, # not include the classifier\n",
        "                  input_shape=(150,150,3))"
      ],
      "execution_count": 2,
      "outputs": [
        {
          "output_type": "stream",
          "text": [
            "WARNING:tensorflow:From /usr/local/lib/python3.6/dist-packages/keras/backend/tensorflow_backend.py:66: The name tf.get_default_graph is deprecated. Please use tf.compat.v1.get_default_graph instead.\n",
            "\n",
            "WARNING:tensorflow:From /usr/local/lib/python3.6/dist-packages/keras/backend/tensorflow_backend.py:541: The name tf.placeholder is deprecated. Please use tf.compat.v1.placeholder instead.\n",
            "\n",
            "WARNING:tensorflow:From /usr/local/lib/python3.6/dist-packages/keras/backend/tensorflow_backend.py:4432: The name tf.random_uniform is deprecated. Please use tf.random.uniform instead.\n",
            "\n",
            "WARNING:tensorflow:From /usr/local/lib/python3.6/dist-packages/keras/backend/tensorflow_backend.py:4267: The name tf.nn.max_pool is deprecated. Please use tf.nn.max_pool2d instead.\n",
            "\n",
            "Downloading data from https://github.com/fchollet/deep-learning-models/releases/download/v0.1/vgg16_weights_tf_dim_ordering_tf_kernels_notop.h5\n",
            "58892288/58889256 [==============================] - 1s 0us/step\n",
            "WARNING:tensorflow:From /usr/local/lib/python3.6/dist-packages/keras/backend/tensorflow_backend.py:190: The name tf.get_default_session is deprecated. Please use tf.compat.v1.get_default_session instead.\n",
            "\n",
            "WARNING:tensorflow:From /usr/local/lib/python3.6/dist-packages/keras/backend/tensorflow_backend.py:197: The name tf.ConfigProto is deprecated. Please use tf.compat.v1.ConfigProto instead.\n",
            "\n"
          ],
          "name": "stdout"
        }
      ]
    },
    {
      "cell_type": "code",
      "metadata": {
        "id": "xu10M_rJ32yZ",
        "colab_type": "code",
        "colab": {
          "base_uri": "https://localhost:8080/",
          "height": 799
        },
        "outputId": "b0a6e58b-b8a0-4d4a-a348-728264055cdb"
      },
      "source": [
        "conv_base.summary()"
      ],
      "execution_count": 3,
      "outputs": [
        {
          "output_type": "stream",
          "text": [
            "Model: \"vgg16\"\n",
            "_________________________________________________________________\n",
            "Layer (type)                 Output Shape              Param #   \n",
            "=================================================================\n",
            "input_1 (InputLayer)         (None, 150, 150, 3)       0         \n",
            "_________________________________________________________________\n",
            "block1_conv1 (Conv2D)        (None, 150, 150, 64)      1792      \n",
            "_________________________________________________________________\n",
            "block1_conv2 (Conv2D)        (None, 150, 150, 64)      36928     \n",
            "_________________________________________________________________\n",
            "block1_pool (MaxPooling2D)   (None, 75, 75, 64)        0         \n",
            "_________________________________________________________________\n",
            "block2_conv1 (Conv2D)        (None, 75, 75, 128)       73856     \n",
            "_________________________________________________________________\n",
            "block2_conv2 (Conv2D)        (None, 75, 75, 128)       147584    \n",
            "_________________________________________________________________\n",
            "block2_pool (MaxPooling2D)   (None, 37, 37, 128)       0         \n",
            "_________________________________________________________________\n",
            "block3_conv1 (Conv2D)        (None, 37, 37, 256)       295168    \n",
            "_________________________________________________________________\n",
            "block3_conv2 (Conv2D)        (None, 37, 37, 256)       590080    \n",
            "_________________________________________________________________\n",
            "block3_conv3 (Conv2D)        (None, 37, 37, 256)       590080    \n",
            "_________________________________________________________________\n",
            "block3_pool (MaxPooling2D)   (None, 18, 18, 256)       0         \n",
            "_________________________________________________________________\n",
            "block4_conv1 (Conv2D)        (None, 18, 18, 512)       1180160   \n",
            "_________________________________________________________________\n",
            "block4_conv2 (Conv2D)        (None, 18, 18, 512)       2359808   \n",
            "_________________________________________________________________\n",
            "block4_conv3 (Conv2D)        (None, 18, 18, 512)       2359808   \n",
            "_________________________________________________________________\n",
            "block4_pool (MaxPooling2D)   (None, 9, 9, 512)         0         \n",
            "_________________________________________________________________\n",
            "block5_conv1 (Conv2D)        (None, 9, 9, 512)         2359808   \n",
            "_________________________________________________________________\n",
            "block5_conv2 (Conv2D)        (None, 9, 9, 512)         2359808   \n",
            "_________________________________________________________________\n",
            "block5_conv3 (Conv2D)        (None, 9, 9, 512)         2359808   \n",
            "_________________________________________________________________\n",
            "block5_pool (MaxPooling2D)   (None, 4, 4, 512)         0         \n",
            "=================================================================\n",
            "Total params: 14,714,688\n",
            "Trainable params: 14,714,688\n",
            "Non-trainable params: 0\n",
            "_________________________________________________________________\n"
          ],
          "name": "stdout"
        }
      ]
    },
    {
      "cell_type": "markdown",
      "metadata": {
        "id": "mPrAkZoj4k2k",
        "colab_type": "text"
      },
      "source": [
        "two ways to proceed:\n",
        "\n",
        "- Fast Feature Extraction without data augmentation\n",
        "\n",
        "- Feature extraction with data augmentation"
      ]
    },
    {
      "cell_type": "markdown",
      "metadata": {
        "id": "9UXClQ8Y5ESA",
        "colab_type": "text"
      },
      "source": [
        "## Fast feature extraction without data augmentation"
      ]
    },
    {
      "cell_type": "code",
      "metadata": {
        "id": "jktcW5315COS",
        "colab_type": "code",
        "colab": {}
      },
      "source": [
        "import os\n",
        "import numpy as np\n",
        "from keras.preprocessing.image import ImageDataGenerator"
      ],
      "execution_count": 0,
      "outputs": []
    },
    {
      "cell_type": "code",
      "metadata": {
        "id": "u9u3gdEE5dmr",
        "colab_type": "code",
        "colab": {
          "base_uri": "https://localhost:8080/",
          "height": 122
        },
        "outputId": "37faa8b9-41e6-4981-d23c-ac085fd3010a"
      },
      "source": [
        "from google.colab import drive\n",
        "drive.mount('/content/gdrive')"
      ],
      "execution_count": 5,
      "outputs": [
        {
          "output_type": "stream",
          "text": [
            "Go to this URL in a browser: https://accounts.google.com/o/oauth2/auth?client_id=947318989803-6bn6qk8qdgf4n4g3pfee6491hc0brc4i.apps.googleusercontent.com&redirect_uri=urn%3Aietf%3Awg%3Aoauth%3A2.0%3Aoob&scope=email%20https%3A%2F%2Fwww.googleapis.com%2Fauth%2Fdocs.test%20https%3A%2F%2Fwww.googleapis.com%2Fauth%2Fdrive%20https%3A%2F%2Fwww.googleapis.com%2Fauth%2Fdrive.photos.readonly%20https%3A%2F%2Fwww.googleapis.com%2Fauth%2Fpeopleapi.readonly&response_type=code\n",
            "\n",
            "Enter your authorization code:\n",
            "··········\n",
            "Mounted at /content/gdrive\n"
          ],
          "name": "stdout"
        }
      ]
    },
    {
      "cell_type": "code",
      "metadata": {
        "id": "u_Yqd1Hr56Sg",
        "colab_type": "code",
        "colab": {}
      },
      "source": [
        "base_dir = '/content/gdrive/My Drive/Colab Notebooks/dogs_vs_cats/cats_and_dogs_small'"
      ],
      "execution_count": 0,
      "outputs": []
    },
    {
      "cell_type": "code",
      "metadata": {
        "id": "O8Wh6CTd6F_Z",
        "colab_type": "code",
        "colab": {}
      },
      "source": [
        "train_dir = os.path.join(base_dir, 'train')"
      ],
      "execution_count": 0,
      "outputs": []
    },
    {
      "cell_type": "code",
      "metadata": {
        "id": "spkRzecX6Ki-",
        "colab_type": "code",
        "colab": {}
      },
      "source": [
        "validation_dir = os.path.join(base_dir, 'validation')"
      ],
      "execution_count": 0,
      "outputs": []
    },
    {
      "cell_type": "code",
      "metadata": {
        "id": "WaPFXwtT6N9c",
        "colab_type": "code",
        "colab": {}
      },
      "source": [
        "test_dir = os.path.join(base_dir, 'test')"
      ],
      "execution_count": 0,
      "outputs": []
    },
    {
      "cell_type": "code",
      "metadata": {
        "id": "wKDRCtnP6RSc",
        "colab_type": "code",
        "colab": {}
      },
      "source": [
        "datagen = ImageDataGenerator(rescale=1./255)"
      ],
      "execution_count": 0,
      "outputs": []
    },
    {
      "cell_type": "code",
      "metadata": {
        "id": "lMs3lR5r6cU0",
        "colab_type": "code",
        "colab": {}
      },
      "source": [
        "batch_size = 20"
      ],
      "execution_count": 0,
      "outputs": []
    },
    {
      "cell_type": "code",
      "metadata": {
        "id": "8tKoAUGE6ewW",
        "colab_type": "code",
        "colab": {}
      },
      "source": [
        "def extract_features(directory, sample_count):\n",
        "  features = np.zeros(shape=(sample_count, 4, 4, 512))\n",
        "  labels = np.zeros(shape=(sample_count))\n",
        "  generator = datagen.flow_from_directory(\n",
        "      directory,\n",
        "      target_size=(150, 150),\n",
        "      batch_size=batch_size,\n",
        "      class_mode='binary'\n",
        "  )\n",
        "  i = 0\n",
        "  for input_batch, labels_batch in generator:\n",
        "    features_batch = conv_base.predict(input_batch)\n",
        "    features[i * batch_size : (i+1) * batch_size] = features_batch\n",
        "    labels[i * batch_size : (i + 1) * batch_size] = labels_batch\n",
        "    i += 1\n",
        "    if i * batch_size >= sample_count:\n",
        "      break\n",
        "  return features, labels"
      ],
      "execution_count": 0,
      "outputs": []
    },
    {
      "cell_type": "code",
      "metadata": {
        "id": "Nosk3BTk8CRG",
        "colab_type": "code",
        "colab": {
          "base_uri": "https://localhost:8080/",
          "height": 68
        },
        "outputId": "274fb610-689a-46ea-96dc-81a84ce7cb37"
      },
      "source": [
        "train_features, train_labels = extract_features(train_dir, 2000)\n",
        "validation_features, validation_labels = extract_features(validation_dir, 1000)\n",
        "test_features, test_labels = extract_features(test_dir, 1000)"
      ],
      "execution_count": 13,
      "outputs": [
        {
          "output_type": "stream",
          "text": [
            "Found 2000 images belonging to 2 classes.\n",
            "Found 1000 images belonging to 2 classes.\n",
            "Found 1000 images belonging to 2 classes.\n"
          ],
          "name": "stdout"
        }
      ]
    },
    {
      "cell_type": "code",
      "metadata": {
        "id": "nbwIomFK8quS",
        "colab_type": "code",
        "colab": {}
      },
      "source": [
        "train_features = np.reshape(train_features, (2000, 4 * 4 * 512))\n",
        "validation_features = np.reshape(validation_features, (1000, 4 * 4 * 512))\n",
        "test_features = np.reshape(test_features, (1000, 4 * 4 * 512))"
      ],
      "execution_count": 0,
      "outputs": []
    },
    {
      "cell_type": "code",
      "metadata": {
        "id": "uxwZtUYqEq1z",
        "colab_type": "code",
        "colab": {}
      },
      "source": [
        "from keras import models\n",
        "from keras import layers\n",
        "from keras import optimizers"
      ],
      "execution_count": 0,
      "outputs": []
    },
    {
      "cell_type": "code",
      "metadata": {
        "id": "fnaMoOO6EylS",
        "colab_type": "code",
        "colab": {
          "base_uri": "https://localhost:8080/",
          "height": 88
        },
        "outputId": "0875bfb6-f502-4791-da87-bf6d26e6870f"
      },
      "source": [
        "model = models.Sequential()\n",
        "model.add(layers.Dense(units=256, activation='relu', input_dim=4*4*512))\n",
        "model.add(layers.Dropout(0.5))\n",
        "model.add(layers.Dense(1, activation='sigmoid'))"
      ],
      "execution_count": 16,
      "outputs": [
        {
          "output_type": "stream",
          "text": [
            "WARNING:tensorflow:From /usr/local/lib/python3.6/dist-packages/keras/backend/tensorflow_backend.py:3733: calling dropout (from tensorflow.python.ops.nn_ops) with keep_prob is deprecated and will be removed in a future version.\n",
            "Instructions for updating:\n",
            "Please use `rate` instead of `keep_prob`. Rate should be set to `rate = 1 - keep_prob`.\n"
          ],
          "name": "stdout"
        }
      ]
    },
    {
      "cell_type": "code",
      "metadata": {
        "id": "YfKMt2ItFbP1",
        "colab_type": "code",
        "colab": {
          "base_uri": "https://localhost:8080/",
          "height": 122
        },
        "outputId": "19f54821-3b8b-4bca-f040-ef6a839aae4b"
      },
      "source": [
        "model.compile(optimizer='rmsprop',loss='binary_crossentropy', metrics=['accuracy'])"
      ],
      "execution_count": 17,
      "outputs": [
        {
          "output_type": "stream",
          "text": [
            "WARNING:tensorflow:From /usr/local/lib/python3.6/dist-packages/keras/optimizers.py:793: The name tf.train.Optimizer is deprecated. Please use tf.compat.v1.train.Optimizer instead.\n",
            "\n",
            "WARNING:tensorflow:From /usr/local/lib/python3.6/dist-packages/tensorflow/python/ops/nn_impl.py:180: add_dispatch_support.<locals>.wrapper (from tensorflow.python.ops.array_ops) is deprecated and will be removed in a future version.\n",
            "Instructions for updating:\n",
            "Use tf.where in 2.0, which has the same broadcast rule as np.where\n"
          ],
          "name": "stdout"
        }
      ]
    },
    {
      "cell_type": "code",
      "metadata": {
        "id": "mPI1BE-LFoDF",
        "colab_type": "code",
        "colab": {
          "base_uri": "https://localhost:8080/",
          "height": 1000
        },
        "outputId": "0bef1a2f-a374-46a2-ee03-c05d9d6c850a"
      },
      "source": [
        "history = model.fit(x=train_features, y = train_labels, epochs=30, batch_size=20, validation_data=(validation_features, validation_labels))"
      ],
      "execution_count": 18,
      "outputs": [
        {
          "output_type": "stream",
          "text": [
            "Train on 2000 samples, validate on 1000 samples\n",
            "Epoch 1/30\n",
            "2000/2000 [==============================] - 2s 993us/step - loss: 0.7079 - acc: 0.7575 - val_loss: 0.4313 - val_acc: 0.7860\n",
            "Epoch 2/30\n",
            "2000/2000 [==============================] - 1s 423us/step - loss: 0.3476 - acc: 0.8540 - val_loss: 0.2607 - val_acc: 0.9010\n",
            "Epoch 3/30\n",
            "2000/2000 [==============================] - 1s 422us/step - loss: 0.2831 - acc: 0.8865 - val_loss: 0.2705 - val_acc: 0.8960\n",
            "Epoch 4/30\n",
            "2000/2000 [==============================] - 1s 420us/step - loss: 0.2502 - acc: 0.9030 - val_loss: 0.3544 - val_acc: 0.8660\n",
            "Epoch 5/30\n",
            "2000/2000 [==============================] - 1s 413us/step - loss: 0.2197 - acc: 0.9200 - val_loss: 0.2951 - val_acc: 0.8950\n",
            "Epoch 6/30\n",
            "2000/2000 [==============================] - 1s 431us/step - loss: 0.1904 - acc: 0.9245 - val_loss: 0.2621 - val_acc: 0.9020\n",
            "Epoch 7/30\n",
            "2000/2000 [==============================] - 1s 404us/step - loss: 0.1581 - acc: 0.9385 - val_loss: 0.3133 - val_acc: 0.8920\n",
            "Epoch 8/30\n",
            "2000/2000 [==============================] - 1s 415us/step - loss: 0.1388 - acc: 0.9430 - val_loss: 0.3126 - val_acc: 0.8970\n",
            "Epoch 9/30\n",
            "2000/2000 [==============================] - 1s 423us/step - loss: 0.1302 - acc: 0.9535 - val_loss: 0.6041 - val_acc: 0.8230\n",
            "Epoch 10/30\n",
            "2000/2000 [==============================] - 1s 409us/step - loss: 0.1145 - acc: 0.9515 - val_loss: 0.4246 - val_acc: 0.8850\n",
            "Epoch 11/30\n",
            "2000/2000 [==============================] - 1s 421us/step - loss: 0.1063 - acc: 0.9550 - val_loss: 0.4495 - val_acc: 0.8960\n",
            "Epoch 12/30\n",
            "2000/2000 [==============================] - 1s 406us/step - loss: 0.1134 - acc: 0.9570 - val_loss: 0.4070 - val_acc: 0.8930\n",
            "Epoch 13/30\n",
            "2000/2000 [==============================] - 1s 427us/step - loss: 0.0765 - acc: 0.9700 - val_loss: 0.4229 - val_acc: 0.8940\n",
            "Epoch 14/30\n",
            "2000/2000 [==============================] - 1s 417us/step - loss: 0.0812 - acc: 0.9745 - val_loss: 0.4981 - val_acc: 0.8930\n",
            "Epoch 15/30\n",
            "2000/2000 [==============================] - 1s 413us/step - loss: 0.0900 - acc: 0.9655 - val_loss: 0.4403 - val_acc: 0.8920\n",
            "Epoch 16/30\n",
            "2000/2000 [==============================] - 1s 410us/step - loss: 0.0589 - acc: 0.9745 - val_loss: 0.6620 - val_acc: 0.8770\n",
            "Epoch 17/30\n",
            "2000/2000 [==============================] - 1s 423us/step - loss: 0.0582 - acc: 0.9780 - val_loss: 0.4622 - val_acc: 0.9010\n",
            "Epoch 18/30\n",
            "2000/2000 [==============================] - 1s 405us/step - loss: 0.0593 - acc: 0.9790 - val_loss: 0.5132 - val_acc: 0.9050\n",
            "Epoch 19/30\n",
            "2000/2000 [==============================] - 1s 415us/step - loss: 0.0385 - acc: 0.9840 - val_loss: 0.5346 - val_acc: 0.8990\n",
            "Epoch 20/30\n",
            "2000/2000 [==============================] - 1s 407us/step - loss: 0.0396 - acc: 0.9845 - val_loss: 0.6203 - val_acc: 0.8950\n",
            "Epoch 21/30\n",
            "2000/2000 [==============================] - 1s 430us/step - loss: 0.0528 - acc: 0.9805 - val_loss: 0.5977 - val_acc: 0.9030\n",
            "Epoch 22/30\n",
            "2000/2000 [==============================] - 1s 415us/step - loss: 0.0269 - acc: 0.9895 - val_loss: 0.6398 - val_acc: 0.8930\n",
            "Epoch 23/30\n",
            "2000/2000 [==============================] - 1s 425us/step - loss: 0.0461 - acc: 0.9875 - val_loss: 0.7180 - val_acc: 0.8920\n",
            "Epoch 24/30\n",
            "2000/2000 [==============================] - 1s 406us/step - loss: 0.0387 - acc: 0.9905 - val_loss: 0.6215 - val_acc: 0.9030\n",
            "Epoch 25/30\n",
            "2000/2000 [==============================] - 1s 411us/step - loss: 0.0227 - acc: 0.9910 - val_loss: 0.8103 - val_acc: 0.8870\n",
            "Epoch 26/30\n",
            "2000/2000 [==============================] - 1s 416us/step - loss: 0.0293 - acc: 0.9900 - val_loss: 0.6453 - val_acc: 0.9030\n",
            "Epoch 27/30\n",
            "2000/2000 [==============================] - 1s 427us/step - loss: 0.0388 - acc: 0.9855 - val_loss: 1.2992 - val_acc: 0.8350\n",
            "Epoch 28/30\n",
            "2000/2000 [==============================] - 1s 410us/step - loss: 0.0205 - acc: 0.9925 - val_loss: 0.7297 - val_acc: 0.9010\n",
            "Epoch 29/30\n",
            "2000/2000 [==============================] - 1s 422us/step - loss: 0.0213 - acc: 0.9925 - val_loss: 0.7488 - val_acc: 0.9020\n",
            "Epoch 30/30\n",
            "2000/2000 [==============================] - 1s 418us/step - loss: 0.0286 - acc: 0.9910 - val_loss: 0.7038 - val_acc: 0.8980\n"
          ],
          "name": "stdout"
        }
      ]
    },
    {
      "cell_type": "code",
      "metadata": {
        "id": "Ic5w-vRuF2wf",
        "colab_type": "code",
        "colab": {}
      },
      "source": [
        "import matplotlib.pyplot as plt\n",
        "%matplotlib inline"
      ],
      "execution_count": 0,
      "outputs": []
    },
    {
      "cell_type": "code",
      "metadata": {
        "id": "RfDIzui3GFzD",
        "colab_type": "code",
        "colab": {}
      },
      "source": [
        "acc = history.history['acc']\n",
        "val_acc = history.history['val_acc']\n",
        "loss = history.history['loss']\n",
        "val_loss = history.history['val_loss']"
      ],
      "execution_count": 0,
      "outputs": []
    },
    {
      "cell_type": "code",
      "metadata": {
        "id": "d50ckf45Gbld",
        "colab_type": "code",
        "colab": {}
      },
      "source": [
        "epochs = range(1, len(acc) + 1)"
      ],
      "execution_count": 0,
      "outputs": []
    },
    {
      "cell_type": "code",
      "metadata": {
        "id": "ZqOfifpfGfoG",
        "colab_type": "code",
        "colab": {
          "base_uri": "https://localhost:8080/",
          "height": 545
        },
        "outputId": "3efd6926-892d-435c-fe54-a9041c7a11a4"
      },
      "source": [
        "plt.plot(epochs, acc, 'bo', label='Training acc')\n",
        "plt.plot(epochs, val_acc, 'b', label='Validation acc')\n",
        "plt.title('Training and validation accuracy')\n",
        "plt.legend()\n",
        "\n",
        "plt.figure()\n",
        "\n",
        "plt.plot(epochs, loss, 'bo', label='Training loss')\n",
        "plt.plot(epochs, val_loss, 'b', label='Validation loss')\n",
        "plt.title('Training and validation loss')\n",
        "plt.legend()\n",
        "\n",
        "plt.show()"
      ],
      "execution_count": 25,
      "outputs": [
        {
          "output_type": "display_data",
          "data": {
            "image/png": "[encoded data removed]",
            "text/plain": [
              "<Figure size 432x288 with 1 Axes>"
            ]
          },
          "metadata": {
            "tags": []
          }
        },
        {
          "output_type": "display_data",
          "data": {
            "image/png": "[encoded data removed]",
            "text/plain": [
              "<Figure size 432x288 with 1 Axes>"
            ]
          },
          "metadata": {
            "tags": []
          }
        }
      ]
    },
    {
      "cell_type": "markdown",
      "metadata": {
        "id": "tHW2CKT9HdVu",
        "colab_type": "text"
      },
      "source": [
        "=> overfitting because no data augmentation, which is essential for preventing overfitting on small image datasets"
      ]
    },
    {
      "cell_type": "code",
      "metadata": {
        "id": "muRVJuMGHH-4",
        "colab_type": "code",
        "colab": {}
      },
      "source": [
        ""
      ],
      "execution_count": 0,
      "outputs": []
    }
  ]
}